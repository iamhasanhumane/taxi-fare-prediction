{
 "cells": [
  {
   "cell_type": "code",
   "execution_count": 1,
   "id": "f7fc171f",
   "metadata": {
    "_cell_guid": "b1076dfc-b9ad-4769-8c92-a6c4dae69d19",
    "_uuid": "8f2839f25d086af736a60e9eeb907d3b93b6e0e5",
    "execution": {
     "iopub.execute_input": "2023-12-15T17:51:41.832821Z",
     "iopub.status.busy": "2023-12-15T17:51:41.831936Z",
     "iopub.status.idle": "2023-12-15T17:51:42.784020Z",
     "shell.execute_reply": "2023-12-15T17:51:42.782924Z"
    },
    "papermill": {
     "duration": 0.999761,
     "end_time": "2023-12-15T17:51:42.786803",
     "exception": false,
     "start_time": "2023-12-15T17:51:41.787042",
     "status": "completed"
    },
    "tags": []
   },
   "outputs": [
    {
     "name": "stdout",
     "output_type": "stream",
     "text": [
      "/kaggle/input/taxi-fare-guru-total-amount-prediction-challenge/sample.csv.csv\n",
      "/kaggle/input/taxi-fare-guru-total-amount-prediction-challenge/train.csv\n",
      "/kaggle/input/taxi-fare-guru-total-amount-prediction-challenge/test.csv\n"
     ]
    }
   ],
   "source": [
    "# This Python 3 environment comes with many helpful analytics libraries installed\n",
    "# It is defined by the kaggle/python Docker image: https://github.com/kaggle/docker-python\n",
    "# For example, here's several helpful packages to load\n",
    "\n",
    "import numpy as np # linear algebra\n",
    "import pandas as pd # data processing, CSV file I/O (e.g. pd.read_csv)\n",
    "\n",
    "# Input data files are available in the read-only \"../input/\" directory\n",
    "# For example, running this (by clicking run or pressing Shift+Enter) will list all files under the input directory\n",
    "\n",
    "import os\n",
    "for dirname, _, filenames in os.walk('/kaggle/input'):\n",
    "    for filename in filenames:\n",
    "        print(os.path.join(dirname, filename))\n",
    "\n",
    "# You can write up to 20GB to the current directory (/kaggle/working/) that gets preserved as output when you create a version using \"Save & Run All\" \n",
    "# You can also write temporary files to /kaggle/temp/, but they won't be saved outside of the current session"
   ]
  },
  {
   "cell_type": "markdown",
   "id": "13ebeceb",
   "metadata": {
    "papermill": {
     "duration": 0.043926,
     "end_time": "2023-12-15T17:51:42.875360",
     "exception": false,
     "start_time": "2023-12-15T17:51:42.831434",
     "status": "completed"
    },
    "tags": []
   },
   "source": [
    "## Loading the Training Data"
   ]
  },
  {
   "cell_type": "code",
   "execution_count": 2,
   "id": "6711b0e3",
   "metadata": {
    "execution": {
     "iopub.execute_input": "2023-12-15T17:51:43.026799Z",
     "iopub.status.busy": "2023-12-15T17:51:43.025815Z",
     "iopub.status.idle": "2023-12-15T17:51:43.031036Z",
     "shell.execute_reply": "2023-12-15T17:51:43.030212Z"
    },
    "papermill": {
     "duration": 0.114278,
     "end_time": "2023-12-15T17:51:43.033460",
     "exception": false,
     "start_time": "2023-12-15T17:51:42.919182",
     "status": "completed"
    },
    "tags": []
   },
   "outputs": [],
   "source": [
    "np.random.seed(306) "
   ]
  },
  {
   "cell_type": "code",
   "execution_count": 3,
   "id": "67ff1fce",
   "metadata": {
    "execution": {
     "iopub.execute_input": "2023-12-15T17:51:43.122141Z",
     "iopub.status.busy": "2023-12-15T17:51:43.121324Z",
     "iopub.status.idle": "2023-12-15T17:51:43.992680Z",
     "shell.execute_reply": "2023-12-15T17:51:43.991233Z"
    },
    "papermill": {
     "duration": 0.919205,
     "end_time": "2023-12-15T17:51:43.995998",
     "exception": false,
     "start_time": "2023-12-15T17:51:43.076793",
     "status": "completed"
    },
    "tags": []
   },
   "outputs": [],
   "source": [
    "data = pd.read_csv('/kaggle/input/taxi-fare-guru-total-amount-prediction-challenge/train.csv')"
   ]
  },
  {
   "cell_type": "code",
   "execution_count": 4,
   "id": "7db64f4a",
   "metadata": {
    "execution": {
     "iopub.execute_input": "2023-12-15T17:51:44.087780Z",
     "iopub.status.busy": "2023-12-15T17:51:44.086986Z",
     "iopub.status.idle": "2023-12-15T17:51:44.095822Z",
     "shell.execute_reply": "2023-12-15T17:51:44.094764Z"
    },
    "papermill": {
     "duration": 0.057719,
     "end_time": "2023-12-15T17:51:44.098442",
     "exception": false,
     "start_time": "2023-12-15T17:51:44.040723",
     "status": "completed"
    },
    "tags": []
   },
   "outputs": [
    {
     "data": {
      "text/plain": [
       "(175000, 17)"
      ]
     },
     "execution_count": 4,
     "metadata": {},
     "output_type": "execute_result"
    }
   ],
   "source": [
    "data.shape"
   ]
  },
  {
   "cell_type": "markdown",
   "id": "b6d00b37",
   "metadata": {
    "papermill": {
     "duration": 0.049873,
     "end_time": "2023-12-15T17:51:44.202010",
     "exception": false,
     "start_time": "2023-12-15T17:51:44.152137",
     "status": "completed"
    },
    "tags": []
   },
   "source": [
    "**We have one lakh seventy five thousand entries having seventeen features**"
   ]
  },
  {
   "cell_type": "code",
   "execution_count": 5,
   "id": "b7a18263",
   "metadata": {
    "execution": {
     "iopub.execute_input": "2023-12-15T17:51:44.290712Z",
     "iopub.status.busy": "2023-12-15T17:51:44.289807Z",
     "iopub.status.idle": "2023-12-15T17:51:44.327472Z",
     "shell.execute_reply": "2023-12-15T17:51:44.326618Z"
    },
    "papermill": {
     "duration": 0.085067,
     "end_time": "2023-12-15T17:51:44.330018",
     "exception": false,
     "start_time": "2023-12-15T17:51:44.244951",
     "status": "completed"
    },
    "tags": []
   },
   "outputs": [
    {
     "data": {
      "text/html": [
       "<div>\n",
       "<style scoped>\n",
       "    .dataframe tbody tr th:only-of-type {\n",
       "        vertical-align: middle;\n",
       "    }\n",
       "\n",
       "    .dataframe tbody tr th {\n",
       "        vertical-align: top;\n",
       "    }\n",
       "\n",
       "    .dataframe thead th {\n",
       "        text-align: right;\n",
       "    }\n",
       "</style>\n",
       "<table border=\"1\" class=\"dataframe\">\n",
       "  <thead>\n",
       "    <tr style=\"text-align: right;\">\n",
       "      <th></th>\n",
       "      <th>VendorID</th>\n",
       "      <th>tpep_pickup_datetime</th>\n",
       "      <th>tpep_dropoff_datetime</th>\n",
       "      <th>passenger_count</th>\n",
       "      <th>trip_distance</th>\n",
       "      <th>RatecodeID</th>\n",
       "      <th>store_and_fwd_flag</th>\n",
       "      <th>PULocationID</th>\n",
       "      <th>DOLocationID</th>\n",
       "      <th>payment_type</th>\n",
       "      <th>extra</th>\n",
       "      <th>tip_amount</th>\n",
       "      <th>tolls_amount</th>\n",
       "      <th>improvement_surcharge</th>\n",
       "      <th>total_amount</th>\n",
       "      <th>congestion_surcharge</th>\n",
       "      <th>Airport_fee</th>\n",
       "    </tr>\n",
       "  </thead>\n",
       "  <tbody>\n",
       "    <tr>\n",
       "      <th>0</th>\n",
       "      <td>1</td>\n",
       "      <td>2023-06-28 17:20:21</td>\n",
       "      <td>2023-06-28 16:34:45</td>\n",
       "      <td>1.0</td>\n",
       "      <td>2.14</td>\n",
       "      <td>1.0</td>\n",
       "      <td>N</td>\n",
       "      <td>120</td>\n",
       "      <td>9</td>\n",
       "      <td>Credit Card</td>\n",
       "      <td>2.5</td>\n",
       "      <td>7.165589</td>\n",
       "      <td>0.0</td>\n",
       "      <td>1.0</td>\n",
       "      <td>20.64</td>\n",
       "      <td>2.5</td>\n",
       "      <td>0.0</td>\n",
       "    </tr>\n",
       "    <tr>\n",
       "      <th>1</th>\n",
       "      <td>0</td>\n",
       "      <td>2023-06-29 23:05:01</td>\n",
       "      <td>2023-06-29 22:01:35</td>\n",
       "      <td>1.0</td>\n",
       "      <td>2.70</td>\n",
       "      <td>1.0</td>\n",
       "      <td>N</td>\n",
       "      <td>15</td>\n",
       "      <td>215</td>\n",
       "      <td>Credit Card</td>\n",
       "      <td>3.5</td>\n",
       "      <td>6.067401</td>\n",
       "      <td>0.0</td>\n",
       "      <td>1.0</td>\n",
       "      <td>25.55</td>\n",
       "      <td>2.5</td>\n",
       "      <td>0.0</td>\n",
       "    </tr>\n",
       "    <tr>\n",
       "      <th>2</th>\n",
       "      <td>1</td>\n",
       "      <td>2023-06-30 10:19:31</td>\n",
       "      <td>2023-06-30 11:13:10</td>\n",
       "      <td>1.0</td>\n",
       "      <td>1.15</td>\n",
       "      <td>1.0</td>\n",
       "      <td>N</td>\n",
       "      <td>167</td>\n",
       "      <td>223</td>\n",
       "      <td>Credit Card</td>\n",
       "      <td>0.0</td>\n",
       "      <td>4.111547</td>\n",
       "      <td>0.0</td>\n",
       "      <td>1.0</td>\n",
       "      <td>17.64</td>\n",
       "      <td>2.5</td>\n",
       "      <td>0.0</td>\n",
       "    </tr>\n",
       "    <tr>\n",
       "      <th>3</th>\n",
       "      <td>0</td>\n",
       "      <td>2023-06-29 13:23:09</td>\n",
       "      <td>2023-06-29 14:20:01</td>\n",
       "      <td>1.0</td>\n",
       "      <td>0.40</td>\n",
       "      <td>1.0</td>\n",
       "      <td>N</td>\n",
       "      <td>128</td>\n",
       "      <td>239</td>\n",
       "      <td>Credit Card</td>\n",
       "      <td>2.5</td>\n",
       "      <td>6.411079</td>\n",
       "      <td>0.0</td>\n",
       "      <td>1.0</td>\n",
       "      <td>12.80</td>\n",
       "      <td>2.5</td>\n",
       "      <td>0.0</td>\n",
       "    </tr>\n",
       "    <tr>\n",
       "      <th>4</th>\n",
       "      <td>1</td>\n",
       "      <td>2023-06-29 22:03:32</td>\n",
       "      <td>2023-06-29 22:22:22</td>\n",
       "      <td>3.0</td>\n",
       "      <td>1.10</td>\n",
       "      <td>1.0</td>\n",
       "      <td>N</td>\n",
       "      <td>203</td>\n",
       "      <td>52</td>\n",
       "      <td>Credit Card</td>\n",
       "      <td>1.0</td>\n",
       "      <td>4.769377</td>\n",
       "      <td>0.0</td>\n",
       "      <td>1.0</td>\n",
       "      <td>18.00</td>\n",
       "      <td>2.5</td>\n",
       "      <td>0.0</td>\n",
       "    </tr>\n",
       "  </tbody>\n",
       "</table>\n",
       "</div>"
      ],
      "text/plain": [
       "   VendorID tpep_pickup_datetime tpep_dropoff_datetime  passenger_count  \\\n",
       "0         1  2023-06-28 17:20:21   2023-06-28 16:34:45              1.0   \n",
       "1         0  2023-06-29 23:05:01   2023-06-29 22:01:35              1.0   \n",
       "2         1  2023-06-30 10:19:31   2023-06-30 11:13:10              1.0   \n",
       "3         0  2023-06-29 13:23:09   2023-06-29 14:20:01              1.0   \n",
       "4         1  2023-06-29 22:03:32   2023-06-29 22:22:22              3.0   \n",
       "\n",
       "   trip_distance  RatecodeID store_and_fwd_flag  PULocationID  DOLocationID  \\\n",
       "0           2.14         1.0                  N           120             9   \n",
       "1           2.70         1.0                  N            15           215   \n",
       "2           1.15         1.0                  N           167           223   \n",
       "3           0.40         1.0                  N           128           239   \n",
       "4           1.10         1.0                  N           203            52   \n",
       "\n",
       "  payment_type  extra  tip_amount  tolls_amount  improvement_surcharge  \\\n",
       "0  Credit Card    2.5    7.165589           0.0                    1.0   \n",
       "1  Credit Card    3.5    6.067401           0.0                    1.0   \n",
       "2  Credit Card    0.0    4.111547           0.0                    1.0   \n",
       "3  Credit Card    2.5    6.411079           0.0                    1.0   \n",
       "4  Credit Card    1.0    4.769377           0.0                    1.0   \n",
       "\n",
       "   total_amount  congestion_surcharge  Airport_fee  \n",
       "0         20.64                   2.5          0.0  \n",
       "1         25.55                   2.5          0.0  \n",
       "2         17.64                   2.5          0.0  \n",
       "3         12.80                   2.5          0.0  \n",
       "4         18.00                   2.5          0.0  "
      ]
     },
     "execution_count": 5,
     "metadata": {},
     "output_type": "execute_result"
    }
   ],
   "source": [
    "data.head()"
   ]
  },
  {
   "cell_type": "code",
   "execution_count": 6,
   "id": "b7fabe0c",
   "metadata": {
    "execution": {
     "iopub.execute_input": "2023-12-15T17:51:44.418999Z",
     "iopub.status.busy": "2023-12-15T17:51:44.418219Z",
     "iopub.status.idle": "2023-12-15T17:51:44.445176Z",
     "shell.execute_reply": "2023-12-15T17:51:44.443675Z"
    },
    "papermill": {
     "duration": 0.075626,
     "end_time": "2023-12-15T17:51:44.448927",
     "exception": false,
     "start_time": "2023-12-15T17:51:44.373301",
     "status": "completed"
    },
    "tags": []
   },
   "outputs": [
    {
     "data": {
      "text/html": [
       "<div>\n",
       "<style scoped>\n",
       "    .dataframe tbody tr th:only-of-type {\n",
       "        vertical-align: middle;\n",
       "    }\n",
       "\n",
       "    .dataframe tbody tr th {\n",
       "        vertical-align: top;\n",
       "    }\n",
       "\n",
       "    .dataframe thead th {\n",
       "        text-align: right;\n",
       "    }\n",
       "</style>\n",
       "<table border=\"1\" class=\"dataframe\">\n",
       "  <thead>\n",
       "    <tr style=\"text-align: right;\">\n",
       "      <th></th>\n",
       "      <th>VendorID</th>\n",
       "      <th>tpep_pickup_datetime</th>\n",
       "      <th>tpep_dropoff_datetime</th>\n",
       "      <th>passenger_count</th>\n",
       "      <th>trip_distance</th>\n",
       "      <th>RatecodeID</th>\n",
       "      <th>store_and_fwd_flag</th>\n",
       "      <th>PULocationID</th>\n",
       "      <th>DOLocationID</th>\n",
       "      <th>payment_type</th>\n",
       "      <th>extra</th>\n",
       "      <th>tip_amount</th>\n",
       "      <th>tolls_amount</th>\n",
       "      <th>improvement_surcharge</th>\n",
       "      <th>total_amount</th>\n",
       "      <th>congestion_surcharge</th>\n",
       "      <th>Airport_fee</th>\n",
       "    </tr>\n",
       "  </thead>\n",
       "  <tbody>\n",
       "    <tr>\n",
       "      <th>174995</th>\n",
       "      <td>1</td>\n",
       "      <td>2023-06-30 22:50:57</td>\n",
       "      <td>2023-06-30 22:22:22</td>\n",
       "      <td>3.0</td>\n",
       "      <td>3.45</td>\n",
       "      <td>1.0</td>\n",
       "      <td>N</td>\n",
       "      <td>147</td>\n",
       "      <td>167</td>\n",
       "      <td>Credit Card</td>\n",
       "      <td>1.0</td>\n",
       "      <td>8.732495</td>\n",
       "      <td>0.0</td>\n",
       "      <td>1.0</td>\n",
       "      <td>28.08</td>\n",
       "      <td>2.5</td>\n",
       "      <td>0.00</td>\n",
       "    </tr>\n",
       "    <tr>\n",
       "      <th>174996</th>\n",
       "      <td>1</td>\n",
       "      <td>2023-06-30 13:03:33</td>\n",
       "      <td>2023-06-30 14:04:57</td>\n",
       "      <td>1.0</td>\n",
       "      <td>9.44</td>\n",
       "      <td>1.0</td>\n",
       "      <td>N</td>\n",
       "      <td>154</td>\n",
       "      <td>191</td>\n",
       "      <td>Cash</td>\n",
       "      <td>5.0</td>\n",
       "      <td>0.283275</td>\n",
       "      <td>0.0</td>\n",
       "      <td>1.0</td>\n",
       "      <td>59.95</td>\n",
       "      <td>2.5</td>\n",
       "      <td>1.75</td>\n",
       "    </tr>\n",
       "    <tr>\n",
       "      <th>174997</th>\n",
       "      <td>0</td>\n",
       "      <td>2023-06-29 11:03:32</td>\n",
       "      <td>2023-06-29 12:13:34</td>\n",
       "      <td>1.0</td>\n",
       "      <td>2.40</td>\n",
       "      <td>1.0</td>\n",
       "      <td>N</td>\n",
       "      <td>168</td>\n",
       "      <td>106</td>\n",
       "      <td>Credit Card</td>\n",
       "      <td>2.5</td>\n",
       "      <td>4.245354</td>\n",
       "      <td>0.0</td>\n",
       "      <td>1.0</td>\n",
       "      <td>33.50</td>\n",
       "      <td>2.5</td>\n",
       "      <td>0.00</td>\n",
       "    </tr>\n",
       "    <tr>\n",
       "      <th>174998</th>\n",
       "      <td>1</td>\n",
       "      <td>2023-06-29 19:47:17</td>\n",
       "      <td>2023-06-29 19:08:55</td>\n",
       "      <td>1.0</td>\n",
       "      <td>4.71</td>\n",
       "      <td>1.0</td>\n",
       "      <td>N</td>\n",
       "      <td>240</td>\n",
       "      <td>100</td>\n",
       "      <td>Credit Card</td>\n",
       "      <td>2.5</td>\n",
       "      <td>10.479776</td>\n",
       "      <td>0.0</td>\n",
       "      <td>1.0</td>\n",
       "      <td>40.80</td>\n",
       "      <td>2.5</td>\n",
       "      <td>0.00</td>\n",
       "    </tr>\n",
       "    <tr>\n",
       "      <th>174999</th>\n",
       "      <td>1</td>\n",
       "      <td>2023-06-30 21:26:43</td>\n",
       "      <td>2023-06-30 22:54:42</td>\n",
       "      <td>1.0</td>\n",
       "      <td>1.01</td>\n",
       "      <td>1.0</td>\n",
       "      <td>N</td>\n",
       "      <td>153</td>\n",
       "      <td>72</td>\n",
       "      <td>Credit Card</td>\n",
       "      <td>1.0</td>\n",
       "      <td>6.541699</td>\n",
       "      <td>0.0</td>\n",
       "      <td>1.0</td>\n",
       "      <td>16.32</td>\n",
       "      <td>2.5</td>\n",
       "      <td>0.00</td>\n",
       "    </tr>\n",
       "  </tbody>\n",
       "</table>\n",
       "</div>"
      ],
      "text/plain": [
       "        VendorID tpep_pickup_datetime tpep_dropoff_datetime  passenger_count  \\\n",
       "174995         1  2023-06-30 22:50:57   2023-06-30 22:22:22              3.0   \n",
       "174996         1  2023-06-30 13:03:33   2023-06-30 14:04:57              1.0   \n",
       "174997         0  2023-06-29 11:03:32   2023-06-29 12:13:34              1.0   \n",
       "174998         1  2023-06-29 19:47:17   2023-06-29 19:08:55              1.0   \n",
       "174999         1  2023-06-30 21:26:43   2023-06-30 22:54:42              1.0   \n",
       "\n",
       "        trip_distance  RatecodeID store_and_fwd_flag  PULocationID  \\\n",
       "174995           3.45         1.0                  N           147   \n",
       "174996           9.44         1.0                  N           154   \n",
       "174997           2.40         1.0                  N           168   \n",
       "174998           4.71         1.0                  N           240   \n",
       "174999           1.01         1.0                  N           153   \n",
       "\n",
       "        DOLocationID payment_type  extra  tip_amount  tolls_amount  \\\n",
       "174995           167  Credit Card    1.0    8.732495           0.0   \n",
       "174996           191         Cash    5.0    0.283275           0.0   \n",
       "174997           106  Credit Card    2.5    4.245354           0.0   \n",
       "174998           100  Credit Card    2.5   10.479776           0.0   \n",
       "174999            72  Credit Card    1.0    6.541699           0.0   \n",
       "\n",
       "        improvement_surcharge  total_amount  congestion_surcharge  Airport_fee  \n",
       "174995                    1.0         28.08                   2.5         0.00  \n",
       "174996                    1.0         59.95                   2.5         1.75  \n",
       "174997                    1.0         33.50                   2.5         0.00  \n",
       "174998                    1.0         40.80                   2.5         0.00  \n",
       "174999                    1.0         16.32                   2.5         0.00  "
      ]
     },
     "execution_count": 6,
     "metadata": {},
     "output_type": "execute_result"
    }
   ],
   "source": [
    "data.tail()"
   ]
  },
  {
   "cell_type": "markdown",
   "id": "d9980f0c",
   "metadata": {
    "papermill": {
     "duration": 0.04604,
     "end_time": "2023-12-15T17:51:44.546392",
     "exception": false,
     "start_time": "2023-12-15T17:51:44.500352",
     "status": "completed"
    },
    "tags": []
   },
   "source": [
    "## Data Exploring"
   ]
  },
  {
   "cell_type": "markdown",
   "id": "e8412f4b",
   "metadata": {
    "papermill": {
     "duration": 0.043309,
     "end_time": "2023-12-15T17:51:44.633518",
     "exception": false,
     "start_time": "2023-12-15T17:51:44.590209",
     "status": "completed"
    },
    "tags": []
   },
   "source": [
    "**The columns 'tpep_pickup_datetime' and 'tpep_dropoff_datetime' are of object types. So we are converting both the columns to datetime objects.**"
   ]
  },
  {
   "cell_type": "code",
   "execution_count": 7,
   "id": "d32f5ca3",
   "metadata": {
    "execution": {
     "iopub.execute_input": "2023-12-15T17:51:44.723555Z",
     "iopub.status.busy": "2023-12-15T17:51:44.722816Z",
     "iopub.status.idle": "2023-12-15T17:51:44.884898Z",
     "shell.execute_reply": "2023-12-15T17:51:44.883708Z"
    },
    "papermill": {
     "duration": 0.210365,
     "end_time": "2023-12-15T17:51:44.887561",
     "exception": false,
     "start_time": "2023-12-15T17:51:44.677196",
     "status": "completed"
    },
    "tags": []
   },
   "outputs": [],
   "source": [
    "data['tpep_pickup_datetime'] = pd.to_datetime(data['tpep_pickup_datetime'])\n",
    "data['tpep_dropoff_datetime'] = pd.to_datetime(data['tpep_dropoff_datetime'])"
   ]
  },
  {
   "cell_type": "markdown",
   "id": "d5db8bcb",
   "metadata": {
    "papermill": {
     "duration": 0.043332,
     "end_time": "2023-12-15T17:51:44.975035",
     "exception": false,
     "start_time": "2023-12-15T17:51:44.931703",
     "status": "completed"
    },
    "tags": []
   },
   "source": [
    "**From the data we observe that some rows have pickup time later than dropoff time.So we exchange the values which are contradictory**"
   ]
  },
  {
   "cell_type": "code",
   "execution_count": 8,
   "id": "be5a2fb3",
   "metadata": {
    "execution": {
     "iopub.execute_input": "2023-12-15T17:51:45.064439Z",
     "iopub.status.busy": "2023-12-15T17:51:45.063796Z",
     "iopub.status.idle": "2023-12-15T17:51:45.096426Z",
     "shell.execute_reply": "2023-12-15T17:51:45.095200Z"
    },
    "papermill": {
     "duration": 0.080298,
     "end_time": "2023-12-15T17:51:45.099265",
     "exception": false,
     "start_time": "2023-12-15T17:51:45.018967",
     "status": "completed"
    },
    "tags": []
   },
   "outputs": [],
   "source": [
    "# swapping values if pickup datetime is later than dropoff datetime\n",
    "mask = data['tpep_pickup_datetime'] > data['tpep_dropoff_datetime']\n",
    "data.loc[mask,['tpep_pickup_datetime','tpep_dropoff_datetime']] = data.loc[mask,['tpep_dropoff_datetime','tpep_pickup_datetime']].values"
   ]
  },
  {
   "cell_type": "markdown",
   "id": "51c6a081",
   "metadata": {
    "papermill": {
     "duration": 0.043664,
     "end_time": "2023-12-15T17:51:45.187062",
     "exception": false,
     "start_time": "2023-12-15T17:51:45.143398",
     "status": "completed"
    },
    "tags": []
   },
   "source": [
    "**From the above two timestamp columns we can calculate duration of trip and many features like pickup hour, pickup time and pickup day of week**\n"
   ]
  },
  {
   "cell_type": "code",
   "execution_count": 9,
   "id": "8fcfa4d1",
   "metadata": {
    "execution": {
     "iopub.execute_input": "2023-12-15T17:51:45.276803Z",
     "iopub.status.busy": "2023-12-15T17:51:45.276378Z",
     "iopub.status.idle": "2023-12-15T17:51:45.324080Z",
     "shell.execute_reply": "2023-12-15T17:51:45.322899Z"
    },
    "papermill": {
     "duration": 0.095502,
     "end_time": "2023-12-15T17:51:45.326901",
     "exception": false,
     "start_time": "2023-12-15T17:51:45.231399",
     "status": "completed"
    },
    "tags": []
   },
   "outputs": [],
   "source": [
    "# Calculating trip duration\n",
    "data['trip_duration'] = (data['tpep_dropoff_datetime']-data['tpep_pickup_datetime']).dt.total_seconds()\n",
    "\n",
    "# Extracting pickup_hour from pickup timestamp column.\n",
    "data['pickup_hour'] = data['tpep_pickup_datetime'].dt.hour\n",
    "\n",
    "# Extracting pickup_dayofweek from pickup timestamp column.\n",
    "data['pickup_dayofweek'] = data['tpep_pickup_datetime'].dt.weekday"
   ]
  },
  {
   "cell_type": "code",
   "execution_count": 10,
   "id": "23c1f075",
   "metadata": {
    "execution": {
     "iopub.execute_input": "2023-12-15T17:51:45.416534Z",
     "iopub.status.busy": "2023-12-15T17:51:45.415839Z",
     "iopub.status.idle": "2023-12-15T17:51:45.623313Z",
     "shell.execute_reply": "2023-12-15T17:51:45.622174Z"
    },
    "papermill": {
     "duration": 0.25512,
     "end_time": "2023-12-15T17:51:45.625835",
     "exception": false,
     "start_time": "2023-12-15T17:51:45.370715",
     "status": "completed"
    },
    "tags": []
   },
   "outputs": [
    {
     "data": {
      "text/html": [
       "<div>\n",
       "<style scoped>\n",
       "    .dataframe tbody tr th:only-of-type {\n",
       "        vertical-align: middle;\n",
       "    }\n",
       "\n",
       "    .dataframe tbody tr th {\n",
       "        vertical-align: top;\n",
       "    }\n",
       "\n",
       "    .dataframe thead th {\n",
       "        text-align: right;\n",
       "    }\n",
       "</style>\n",
       "<table border=\"1\" class=\"dataframe\">\n",
       "  <thead>\n",
       "    <tr style=\"text-align: right;\">\n",
       "      <th></th>\n",
       "      <th>VendorID</th>\n",
       "      <th>tpep_pickup_datetime</th>\n",
       "      <th>tpep_dropoff_datetime</th>\n",
       "      <th>passenger_count</th>\n",
       "      <th>trip_distance</th>\n",
       "      <th>RatecodeID</th>\n",
       "      <th>PULocationID</th>\n",
       "      <th>DOLocationID</th>\n",
       "      <th>extra</th>\n",
       "      <th>tip_amount</th>\n",
       "      <th>tolls_amount</th>\n",
       "      <th>improvement_surcharge</th>\n",
       "      <th>total_amount</th>\n",
       "      <th>congestion_surcharge</th>\n",
       "      <th>Airport_fee</th>\n",
       "      <th>trip_duration</th>\n",
       "      <th>pickup_hour</th>\n",
       "      <th>pickup_dayofweek</th>\n",
       "    </tr>\n",
       "  </thead>\n",
       "  <tbody>\n",
       "    <tr>\n",
       "      <th>count</th>\n",
       "      <td>175000.000000</td>\n",
       "      <td>175000</td>\n",
       "      <td>175000</td>\n",
       "      <td>168923.000000</td>\n",
       "      <td>175000.000000</td>\n",
       "      <td>168923.000000</td>\n",
       "      <td>175000.000000</td>\n",
       "      <td>175000.000000</td>\n",
       "      <td>175000.000000</td>\n",
       "      <td>175000.000000</td>\n",
       "      <td>175000.000000</td>\n",
       "      <td>175000.000000</td>\n",
       "      <td>175000.000000</td>\n",
       "      <td>168923.000000</td>\n",
       "      <td>168923.000000</td>\n",
       "      <td>175000.000000</td>\n",
       "      <td>175000.000000</td>\n",
       "      <td>175000.000000</td>\n",
       "    </tr>\n",
       "    <tr>\n",
       "      <th>mean</th>\n",
       "      <td>0.728377</td>\n",
       "      <td>2023-06-29 19:55:21.406788608</td>\n",
       "      <td>2023-06-29 20:39:55.612571648</td>\n",
       "      <td>1.357678</td>\n",
       "      <td>5.145930</td>\n",
       "      <td>1.518307</td>\n",
       "      <td>132.710349</td>\n",
       "      <td>132.701429</td>\n",
       "      <td>1.932143</td>\n",
       "      <td>6.127497</td>\n",
       "      <td>0.646816</td>\n",
       "      <td>0.979689</td>\n",
       "      <td>29.633901</td>\n",
       "      <td>2.246971</td>\n",
       "      <td>0.158825</td>\n",
       "      <td>2674.205783</td>\n",
       "      <td>15.122017</td>\n",
       "      <td>3.179189</td>\n",
       "    </tr>\n",
       "    <tr>\n",
       "      <th>min</th>\n",
       "      <td>0.000000</td>\n",
       "      <td>2023-06-28 15:26:39</td>\n",
       "      <td>2023-06-28 15:32:43</td>\n",
       "      <td>0.000000</td>\n",
       "      <td>0.000000</td>\n",
       "      <td>1.000000</td>\n",
       "      <td>1.000000</td>\n",
       "      <td>1.000000</td>\n",
       "      <td>-7.500000</td>\n",
       "      <td>0.000079</td>\n",
       "      <td>-29.300000</td>\n",
       "      <td>-1.000000</td>\n",
       "      <td>-576.750000</td>\n",
       "      <td>-2.500000</td>\n",
       "      <td>-1.750000</td>\n",
       "      <td>0.000000</td>\n",
       "      <td>0.000000</td>\n",
       "      <td>2.000000</td>\n",
       "    </tr>\n",
       "    <tr>\n",
       "      <th>25%</th>\n",
       "      <td>0.000000</td>\n",
       "      <td>2023-06-29 08:05:44.750000128</td>\n",
       "      <td>2023-06-29 08:49:44.500000</td>\n",
       "      <td>1.000000</td>\n",
       "      <td>1.080000</td>\n",
       "      <td>1.000000</td>\n",
       "      <td>67.000000</td>\n",
       "      <td>67.000000</td>\n",
       "      <td>0.000000</td>\n",
       "      <td>3.473321</td>\n",
       "      <td>0.000000</td>\n",
       "      <td>1.000000</td>\n",
       "      <td>16.300000</td>\n",
       "      <td>2.500000</td>\n",
       "      <td>0.000000</td>\n",
       "      <td>1068.000000</td>\n",
       "      <td>11.000000</td>\n",
       "      <td>3.000000</td>\n",
       "    </tr>\n",
       "    <tr>\n",
       "      <th>50%</th>\n",
       "      <td>1.000000</td>\n",
       "      <td>2023-06-29 18:49:12</td>\n",
       "      <td>2023-06-29 19:34:35</td>\n",
       "      <td>1.000000</td>\n",
       "      <td>1.840000</td>\n",
       "      <td>1.000000</td>\n",
       "      <td>133.000000</td>\n",
       "      <td>133.000000</td>\n",
       "      <td>1.000000</td>\n",
       "      <td>5.286217</td>\n",
       "      <td>0.000000</td>\n",
       "      <td>1.000000</td>\n",
       "      <td>21.450000</td>\n",
       "      <td>2.500000</td>\n",
       "      <td>0.000000</td>\n",
       "      <td>2276.000000</td>\n",
       "      <td>16.000000</td>\n",
       "      <td>3.000000</td>\n",
       "    </tr>\n",
       "    <tr>\n",
       "      <th>75%</th>\n",
       "      <td>1.000000</td>\n",
       "      <td>2023-06-30 12:19:54.249999872</td>\n",
       "      <td>2023-06-30 13:05:20.249999872</td>\n",
       "      <td>1.000000</td>\n",
       "      <td>3.610000</td>\n",
       "      <td>1.000000</td>\n",
       "      <td>199.000000</td>\n",
       "      <td>199.000000</td>\n",
       "      <td>2.500000</td>\n",
       "      <td>7.502746</td>\n",
       "      <td>0.000000</td>\n",
       "      <td>1.000000</td>\n",
       "      <td>31.800000</td>\n",
       "      <td>2.500000</td>\n",
       "      <td>0.000000</td>\n",
       "      <td>3855.000000</td>\n",
       "      <td>19.000000</td>\n",
       "      <td>4.000000</td>\n",
       "    </tr>\n",
       "    <tr>\n",
       "      <th>max</th>\n",
       "      <td>2.000000</td>\n",
       "      <td>2023-07-01 00:49:48</td>\n",
       "      <td>2023-07-01 23:10:43</td>\n",
       "      <td>9.000000</td>\n",
       "      <td>135182.060000</td>\n",
       "      <td>99.000000</td>\n",
       "      <td>264.000000</td>\n",
       "      <td>264.000000</td>\n",
       "      <td>11.750000</td>\n",
       "      <td>484.876151</td>\n",
       "      <td>80.000000</td>\n",
       "      <td>1.000000</td>\n",
       "      <td>587.250000</td>\n",
       "      <td>2.500000</td>\n",
       "      <td>1.750000</td>\n",
       "      <td>92229.000000</td>\n",
       "      <td>23.000000</td>\n",
       "      <td>5.000000</td>\n",
       "    </tr>\n",
       "    <tr>\n",
       "      <th>std</th>\n",
       "      <td>0.445606</td>\n",
       "      <td>NaN</td>\n",
       "      <td>NaN</td>\n",
       "      <td>0.891283</td>\n",
       "      <td>394.971052</td>\n",
       "      <td>6.514678</td>\n",
       "      <td>76.148799</td>\n",
       "      <td>76.192493</td>\n",
       "      <td>1.948497</td>\n",
       "      <td>4.610834</td>\n",
       "      <td>2.328274</td>\n",
       "      <td>0.198775</td>\n",
       "      <td>25.425206</td>\n",
       "      <td>0.819216</td>\n",
       "      <td>0.511968</td>\n",
       "      <td>2820.883791</td>\n",
       "      <td>5.627547</td>\n",
       "      <td>0.743258</td>\n",
       "    </tr>\n",
       "  </tbody>\n",
       "</table>\n",
       "</div>"
      ],
      "text/plain": [
       "            VendorID           tpep_pickup_datetime  \\\n",
       "count  175000.000000                         175000   \n",
       "mean        0.728377  2023-06-29 19:55:21.406788608   \n",
       "min         0.000000            2023-06-28 15:26:39   \n",
       "25%         0.000000  2023-06-29 08:05:44.750000128   \n",
       "50%         1.000000            2023-06-29 18:49:12   \n",
       "75%         1.000000  2023-06-30 12:19:54.249999872   \n",
       "max         2.000000            2023-07-01 00:49:48   \n",
       "std         0.445606                            NaN   \n",
       "\n",
       "               tpep_dropoff_datetime  passenger_count  trip_distance  \\\n",
       "count                         175000    168923.000000  175000.000000   \n",
       "mean   2023-06-29 20:39:55.612571648         1.357678       5.145930   \n",
       "min              2023-06-28 15:32:43         0.000000       0.000000   \n",
       "25%       2023-06-29 08:49:44.500000         1.000000       1.080000   \n",
       "50%              2023-06-29 19:34:35         1.000000       1.840000   \n",
       "75%    2023-06-30 13:05:20.249999872         1.000000       3.610000   \n",
       "max              2023-07-01 23:10:43         9.000000  135182.060000   \n",
       "std                              NaN         0.891283     394.971052   \n",
       "\n",
       "          RatecodeID   PULocationID   DOLocationID          extra  \\\n",
       "count  168923.000000  175000.000000  175000.000000  175000.000000   \n",
       "mean        1.518307     132.710349     132.701429       1.932143   \n",
       "min         1.000000       1.000000       1.000000      -7.500000   \n",
       "25%         1.000000      67.000000      67.000000       0.000000   \n",
       "50%         1.000000     133.000000     133.000000       1.000000   \n",
       "75%         1.000000     199.000000     199.000000       2.500000   \n",
       "max        99.000000     264.000000     264.000000      11.750000   \n",
       "std         6.514678      76.148799      76.192493       1.948497   \n",
       "\n",
       "          tip_amount   tolls_amount  improvement_surcharge   total_amount  \\\n",
       "count  175000.000000  175000.000000          175000.000000  175000.000000   \n",
       "mean        6.127497       0.646816               0.979689      29.633901   \n",
       "min         0.000079     -29.300000              -1.000000    -576.750000   \n",
       "25%         3.473321       0.000000               1.000000      16.300000   \n",
       "50%         5.286217       0.000000               1.000000      21.450000   \n",
       "75%         7.502746       0.000000               1.000000      31.800000   \n",
       "max       484.876151      80.000000               1.000000     587.250000   \n",
       "std         4.610834       2.328274               0.198775      25.425206   \n",
       "\n",
       "       congestion_surcharge    Airport_fee  trip_duration    pickup_hour  \\\n",
       "count         168923.000000  168923.000000  175000.000000  175000.000000   \n",
       "mean               2.246971       0.158825    2674.205783      15.122017   \n",
       "min               -2.500000      -1.750000       0.000000       0.000000   \n",
       "25%                2.500000       0.000000    1068.000000      11.000000   \n",
       "50%                2.500000       0.000000    2276.000000      16.000000   \n",
       "75%                2.500000       0.000000    3855.000000      19.000000   \n",
       "max                2.500000       1.750000   92229.000000      23.000000   \n",
       "std                0.819216       0.511968    2820.883791       5.627547   \n",
       "\n",
       "       pickup_dayofweek  \n",
       "count     175000.000000  \n",
       "mean           3.179189  \n",
       "min            2.000000  \n",
       "25%            3.000000  \n",
       "50%            3.000000  \n",
       "75%            4.000000  \n",
       "max            5.000000  \n",
       "std            0.743258  "
      ]
     },
     "execution_count": 10,
     "metadata": {},
     "output_type": "execute_result"
    }
   ],
   "source": [
    "data.describe()"
   ]
  },
  {
   "cell_type": "markdown",
   "id": "31650447",
   "metadata": {
    "papermill": {
     "duration": 0.043796,
     "end_time": "2023-12-15T17:51:45.713853",
     "exception": false,
     "start_time": "2023-12-15T17:51:45.670057",
     "status": "completed"
    },
    "tags": []
   },
   "source": [
    "**From the description of the data we observe the following points**\n",
    "* We have two time stamp columns\n",
    "* Two Location id columns having the location id's ranging from 1 to 264.\n",
    "* passenger count is having values from 0 to 9. Null values are present in this column.\n",
    "* Ratecode ID are also present in this column. The discrete values in this column are [1,2,3,4,5,99].\n",
    "* Another columns having null values are congestion and airport surcharges.\n",
    "* Store and forward flag and payment type are the categorical columns . \n",
    "* All other columns are self explanatory and are good to preprocess."
   ]
  },
  {
   "cell_type": "markdown",
   "id": "44c372e5",
   "metadata": {
    "papermill": {
     "duration": 0.045434,
     "end_time": "2023-12-15T17:51:45.803939",
     "exception": false,
     "start_time": "2023-12-15T17:51:45.758505",
     "status": "completed"
    },
    "tags": []
   },
   "source": [
    "### Distribution of vendor ID's"
   ]
  },
  {
   "cell_type": "code",
   "execution_count": 11,
   "id": "7952c26b",
   "metadata": {
    "execution": {
     "iopub.execute_input": "2023-12-15T17:51:45.893876Z",
     "iopub.status.busy": "2023-12-15T17:51:45.893445Z",
     "iopub.status.idle": "2023-12-15T17:51:45.907085Z",
     "shell.execute_reply": "2023-12-15T17:51:45.905993Z"
    },
    "papermill": {
     "duration": 0.061448,
     "end_time": "2023-12-15T17:51:45.909646",
     "exception": false,
     "start_time": "2023-12-15T17:51:45.848198",
     "status": "completed"
    },
    "tags": []
   },
   "outputs": [
    {
     "data": {
      "text/plain": [
       "VendorID\n",
       "1    127340\n",
       "0     47597\n",
       "2        63\n",
       "Name: count, dtype: int64"
      ]
     },
     "execution_count": 11,
     "metadata": {},
     "output_type": "execute_result"
    }
   ],
   "source": [
    "data['VendorID'].value_counts()"
   ]
  },
  {
   "cell_type": "code",
   "execution_count": 12,
   "id": "f4780aa4",
   "metadata": {
    "execution": {
     "iopub.execute_input": "2023-12-15T17:51:46.000594Z",
     "iopub.status.busy": "2023-12-15T17:51:46.000220Z",
     "iopub.status.idle": "2023-12-15T17:51:48.001045Z",
     "shell.execute_reply": "2023-12-15T17:51:47.999654Z"
    },
    "papermill": {
     "duration": 2.049275,
     "end_time": "2023-12-15T17:51:48.003652",
     "exception": false,
     "start_time": "2023-12-15T17:51:45.954377",
     "status": "completed"
    },
    "tags": []
   },
   "outputs": [
    {
     "data": {
      "image/png": "[encoded data removed]",
      "text/plain": [
       "<Figure size 640x480 with 1 Axes>"
      ]
     },
     "metadata": {},
     "output_type": "display_data"
    }
   ],
   "source": [
    "import matplotlib.pyplot as plt\n",
    "%matplotlib inline\n",
    "import seaborn as sns\n",
    "\n",
    "sns.countplot(x='VendorID', data=data)\n",
    "plt.title('Distribution of Vendor IDs')\n",
    "plt.xlabel('Vendor ID')\n",
    "plt.ylabel('Count')\n",
    "plt.show()"
   ]
  },
  {
   "cell_type": "markdown",
   "id": "59ccbfae",
   "metadata": {
    "papermill": {
     "duration": 0.045465,
     "end_time": "2023-12-15T17:51:48.095099",
     "exception": false,
     "start_time": "2023-12-15T17:51:48.049634",
     "status": "completed"
    },
    "tags": []
   },
   "source": [
    "There are only 63 entries with vendor id value equal to 2. Hence in the plot the bar for 2 is showing neglible compared to the scales."
   ]
  },
  {
   "cell_type": "markdown",
   "id": "fae0ea42",
   "metadata": {
    "papermill": {
     "duration": 0.045913,
     "end_time": "2023-12-15T17:51:48.186070",
     "exception": false,
     "start_time": "2023-12-15T17:51:48.140157",
     "status": "completed"
    },
    "tags": []
   },
   "source": [
    "### Trends in Pickup times of taxis."
   ]
  },
  {
   "cell_type": "code",
   "execution_count": 13,
   "id": "9d7a02e0",
   "metadata": {
    "execution": {
     "iopub.execute_input": "2023-12-15T17:51:48.278722Z",
     "iopub.status.busy": "2023-12-15T17:51:48.277957Z",
     "iopub.status.idle": "2023-12-15T17:51:48.282726Z",
     "shell.execute_reply": "2023-12-15T17:51:48.281907Z"
    },
    "papermill": {
     "duration": 0.053733,
     "end_time": "2023-12-15T17:51:48.285104",
     "exception": false,
     "start_time": "2023-12-15T17:51:48.231371",
     "status": "completed"
    },
    "tags": []
   },
   "outputs": [],
   "source": [
    "time_bins = [0,6,12,17,19,24] \n",
    "time_labels = ['Early Morning','Morning','Afternoon','Evening','Night']"
   ]
  },
  {
   "cell_type": "code",
   "execution_count": 14,
   "id": "bee078a7",
   "metadata": {
    "execution": {
     "iopub.execute_input": "2023-12-15T17:51:48.377761Z",
     "iopub.status.busy": "2023-12-15T17:51:48.376991Z",
     "iopub.status.idle": "2023-12-15T17:51:48.389969Z",
     "shell.execute_reply": "2023-12-15T17:51:48.388589Z"
    },
    "papermill": {
     "duration": 0.061963,
     "end_time": "2023-12-15T17:51:48.392717",
     "exception": false,
     "start_time": "2023-12-15T17:51:48.330754",
     "status": "completed"
    },
    "tags": []
   },
   "outputs": [],
   "source": [
    "# Creating a new column with time categories\n",
    "data['time_of_day'] = pd.cut(data['pickup_hour'],bins = time_bins , labels = time_labels, include_lowest = True)"
   ]
  },
  {
   "cell_type": "code",
   "execution_count": 15,
   "id": "0df2e40a",
   "metadata": {
    "execution": {
     "iopub.execute_input": "2023-12-15T17:51:48.485703Z",
     "iopub.status.busy": "2023-12-15T17:51:48.484934Z",
     "iopub.status.idle": "2023-12-15T17:51:48.517191Z",
     "shell.execute_reply": "2023-12-15T17:51:48.516219Z"
    },
    "papermill": {
     "duration": 0.081418,
     "end_time": "2023-12-15T17:51:48.519570",
     "exception": false,
     "start_time": "2023-12-15T17:51:48.438152",
     "status": "completed"
    },
    "tags": []
   },
   "outputs": [
    {
     "data": {
      "text/html": [
       "<div>\n",
       "<style scoped>\n",
       "    .dataframe tbody tr th:only-of-type {\n",
       "        vertical-align: middle;\n",
       "    }\n",
       "\n",
       "    .dataframe tbody tr th {\n",
       "        vertical-align: top;\n",
       "    }\n",
       "\n",
       "    .dataframe thead th {\n",
       "        text-align: right;\n",
       "    }\n",
       "</style>\n",
       "<table border=\"1\" class=\"dataframe\">\n",
       "  <thead>\n",
       "    <tr style=\"text-align: right;\">\n",
       "      <th></th>\n",
       "      <th>VendorID</th>\n",
       "      <th>tpep_pickup_datetime</th>\n",
       "      <th>tpep_dropoff_datetime</th>\n",
       "      <th>passenger_count</th>\n",
       "      <th>trip_distance</th>\n",
       "      <th>RatecodeID</th>\n",
       "      <th>store_and_fwd_flag</th>\n",
       "      <th>PULocationID</th>\n",
       "      <th>DOLocationID</th>\n",
       "      <th>payment_type</th>\n",
       "      <th>...</th>\n",
       "      <th>tip_amount</th>\n",
       "      <th>tolls_amount</th>\n",
       "      <th>improvement_surcharge</th>\n",
       "      <th>total_amount</th>\n",
       "      <th>congestion_surcharge</th>\n",
       "      <th>Airport_fee</th>\n",
       "      <th>trip_duration</th>\n",
       "      <th>pickup_hour</th>\n",
       "      <th>pickup_dayofweek</th>\n",
       "      <th>time_of_day</th>\n",
       "    </tr>\n",
       "  </thead>\n",
       "  <tbody>\n",
       "    <tr>\n",
       "      <th>0</th>\n",
       "      <td>1</td>\n",
       "      <td>2023-06-28 16:34:45</td>\n",
       "      <td>2023-06-28 17:20:21</td>\n",
       "      <td>1.0</td>\n",
       "      <td>2.14</td>\n",
       "      <td>1.0</td>\n",
       "      <td>N</td>\n",
       "      <td>120</td>\n",
       "      <td>9</td>\n",
       "      <td>Credit Card</td>\n",
       "      <td>...</td>\n",
       "      <td>7.165589</td>\n",
       "      <td>0.0</td>\n",
       "      <td>1.0</td>\n",
       "      <td>20.64</td>\n",
       "      <td>2.5</td>\n",
       "      <td>0.0</td>\n",
       "      <td>2736.0</td>\n",
       "      <td>16</td>\n",
       "      <td>2</td>\n",
       "      <td>Afternoon</td>\n",
       "    </tr>\n",
       "    <tr>\n",
       "      <th>1</th>\n",
       "      <td>0</td>\n",
       "      <td>2023-06-29 22:01:35</td>\n",
       "      <td>2023-06-29 23:05:01</td>\n",
       "      <td>1.0</td>\n",
       "      <td>2.70</td>\n",
       "      <td>1.0</td>\n",
       "      <td>N</td>\n",
       "      <td>15</td>\n",
       "      <td>215</td>\n",
       "      <td>Credit Card</td>\n",
       "      <td>...</td>\n",
       "      <td>6.067401</td>\n",
       "      <td>0.0</td>\n",
       "      <td>1.0</td>\n",
       "      <td>25.55</td>\n",
       "      <td>2.5</td>\n",
       "      <td>0.0</td>\n",
       "      <td>3806.0</td>\n",
       "      <td>22</td>\n",
       "      <td>3</td>\n",
       "      <td>Night</td>\n",
       "    </tr>\n",
       "    <tr>\n",
       "      <th>2</th>\n",
       "      <td>1</td>\n",
       "      <td>2023-06-30 10:19:31</td>\n",
       "      <td>2023-06-30 11:13:10</td>\n",
       "      <td>1.0</td>\n",
       "      <td>1.15</td>\n",
       "      <td>1.0</td>\n",
       "      <td>N</td>\n",
       "      <td>167</td>\n",
       "      <td>223</td>\n",
       "      <td>Credit Card</td>\n",
       "      <td>...</td>\n",
       "      <td>4.111547</td>\n",
       "      <td>0.0</td>\n",
       "      <td>1.0</td>\n",
       "      <td>17.64</td>\n",
       "      <td>2.5</td>\n",
       "      <td>0.0</td>\n",
       "      <td>3219.0</td>\n",
       "      <td>10</td>\n",
       "      <td>4</td>\n",
       "      <td>Morning</td>\n",
       "    </tr>\n",
       "    <tr>\n",
       "      <th>3</th>\n",
       "      <td>0</td>\n",
       "      <td>2023-06-29 13:23:09</td>\n",
       "      <td>2023-06-29 14:20:01</td>\n",
       "      <td>1.0</td>\n",
       "      <td>0.40</td>\n",
       "      <td>1.0</td>\n",
       "      <td>N</td>\n",
       "      <td>128</td>\n",
       "      <td>239</td>\n",
       "      <td>Credit Card</td>\n",
       "      <td>...</td>\n",
       "      <td>6.411079</td>\n",
       "      <td>0.0</td>\n",
       "      <td>1.0</td>\n",
       "      <td>12.80</td>\n",
       "      <td>2.5</td>\n",
       "      <td>0.0</td>\n",
       "      <td>3412.0</td>\n",
       "      <td>13</td>\n",
       "      <td>3</td>\n",
       "      <td>Afternoon</td>\n",
       "    </tr>\n",
       "    <tr>\n",
       "      <th>4</th>\n",
       "      <td>1</td>\n",
       "      <td>2023-06-29 22:03:32</td>\n",
       "      <td>2023-06-29 22:22:22</td>\n",
       "      <td>3.0</td>\n",
       "      <td>1.10</td>\n",
       "      <td>1.0</td>\n",
       "      <td>N</td>\n",
       "      <td>203</td>\n",
       "      <td>52</td>\n",
       "      <td>Credit Card</td>\n",
       "      <td>...</td>\n",
       "      <td>4.769377</td>\n",
       "      <td>0.0</td>\n",
       "      <td>1.0</td>\n",
       "      <td>18.00</td>\n",
       "      <td>2.5</td>\n",
       "      <td>0.0</td>\n",
       "      <td>1130.0</td>\n",
       "      <td>22</td>\n",
       "      <td>3</td>\n",
       "      <td>Night</td>\n",
       "    </tr>\n",
       "  </tbody>\n",
       "</table>\n",
       "<p>5 rows × 21 columns</p>\n",
       "</div>"
      ],
      "text/plain": [
       "   VendorID tpep_pickup_datetime tpep_dropoff_datetime  passenger_count  \\\n",
       "0         1  2023-06-28 16:34:45   2023-06-28 17:20:21              1.0   \n",
       "1         0  2023-06-29 22:01:35   2023-06-29 23:05:01              1.0   \n",
       "2         1  2023-06-30 10:19:31   2023-06-30 11:13:10              1.0   \n",
       "3         0  2023-06-29 13:23:09   2023-06-29 14:20:01              1.0   \n",
       "4         1  2023-06-29 22:03:32   2023-06-29 22:22:22              3.0   \n",
       "\n",
       "   trip_distance  RatecodeID store_and_fwd_flag  PULocationID  DOLocationID  \\\n",
       "0           2.14         1.0                  N           120             9   \n",
       "1           2.70         1.0                  N            15           215   \n",
       "2           1.15         1.0                  N           167           223   \n",
       "3           0.40         1.0                  N           128           239   \n",
       "4           1.10         1.0                  N           203            52   \n",
       "\n",
       "  payment_type  ...  tip_amount  tolls_amount  improvement_surcharge  \\\n",
       "0  Credit Card  ...    7.165589           0.0                    1.0   \n",
       "1  Credit Card  ...    6.067401           0.0                    1.0   \n",
       "2  Credit Card  ...    4.111547           0.0                    1.0   \n",
       "3  Credit Card  ...    6.411079           0.0                    1.0   \n",
       "4  Credit Card  ...    4.769377           0.0                    1.0   \n",
       "\n",
       "   total_amount  congestion_surcharge  Airport_fee  trip_duration  \\\n",
       "0         20.64                   2.5          0.0         2736.0   \n",
       "1         25.55                   2.5          0.0         3806.0   \n",
       "2         17.64                   2.5          0.0         3219.0   \n",
       "3         12.80                   2.5          0.0         3412.0   \n",
       "4         18.00                   2.5          0.0         1130.0   \n",
       "\n",
       "   pickup_hour  pickup_dayofweek  time_of_day  \n",
       "0           16                 2    Afternoon  \n",
       "1           22                 3        Night  \n",
       "2           10                 4      Morning  \n",
       "3           13                 3    Afternoon  \n",
       "4           22                 3        Night  \n",
       "\n",
       "[5 rows x 21 columns]"
      ]
     },
     "execution_count": 15,
     "metadata": {},
     "output_type": "execute_result"
    }
   ],
   "source": [
    "data.head()"
   ]
  },
  {
   "cell_type": "code",
   "execution_count": 16,
   "id": "f63fb70c",
   "metadata": {
    "execution": {
     "iopub.execute_input": "2023-12-15T17:51:48.612411Z",
     "iopub.status.busy": "2023-12-15T17:51:48.611742Z",
     "iopub.status.idle": "2023-12-15T17:51:48.919633Z",
     "shell.execute_reply": "2023-12-15T17:51:48.918455Z"
    },
    "papermill": {
     "duration": 0.357034,
     "end_time": "2023-12-15T17:51:48.922019",
     "exception": false,
     "start_time": "2023-12-15T17:51:48.564985",
     "status": "completed"
    },
    "tags": []
   },
   "outputs": [
    {
     "data": {
      "image/png": "[encoded data removed]",
      "text/plain": [
       "<Figure size 640x480 with 1 Axes>"
      ]
     },
     "metadata": {},
     "output_type": "display_data"
    }
   ],
   "source": [
    "# Count of the occurrences of each time category\n",
    "time_counts = data['time_of_day'].value_counts()\n",
    "time_counts = time_counts.reindex(time_labels)\n",
    "time_counts.plot(kind = 'bar' , color = 'skyblue')\n",
    "plt.title('Pickup Hours Category')\n",
    "plt.xlabel('Time of Day')\n",
    "plt.ylabel('Number of Pickups')\n",
    "plt.show()"
   ]
  },
  {
   "cell_type": "markdown",
   "id": "23bdc07c",
   "metadata": {
    "papermill": {
     "duration": 0.045434,
     "end_time": "2023-12-15T17:51:49.013214",
     "exception": false,
     "start_time": "2023-12-15T17:51:48.967780",
     "status": "completed"
    },
    "tags": []
   },
   "source": [
    "### Day-wise Analysis of taxi pickups."
   ]
  },
  {
   "cell_type": "code",
   "execution_count": 17,
   "id": "44649bda",
   "metadata": {
    "execution": {
     "iopub.execute_input": "2023-12-15T17:51:49.107166Z",
     "iopub.status.busy": "2023-12-15T17:51:49.106749Z",
     "iopub.status.idle": "2023-12-15T17:51:49.162366Z",
     "shell.execute_reply": "2023-12-15T17:51:49.161320Z"
    },
    "papermill": {
     "duration": 0.105962,
     "end_time": "2023-12-15T17:51:49.165039",
     "exception": false,
     "start_time": "2023-12-15T17:51:49.059077",
     "status": "completed"
    },
    "tags": []
   },
   "outputs": [],
   "source": [
    "weekday_names = ['Monday','Tuesday','Wednesday','Thursday','Friday','Saturday','Sunday']\n",
    "data['day_of_week'] = data['pickup_dayofweek'].map(lambda x: weekday_names[x])"
   ]
  },
  {
   "cell_type": "code",
   "execution_count": 18,
   "id": "49067659",
   "metadata": {
    "execution": {
     "iopub.execute_input": "2023-12-15T17:51:49.260479Z",
     "iopub.status.busy": "2023-12-15T17:51:49.259774Z",
     "iopub.status.idle": "2023-12-15T17:51:49.590490Z",
     "shell.execute_reply": "2023-12-15T17:51:49.589379Z"
    },
    "papermill": {
     "duration": 0.381886,
     "end_time": "2023-12-15T17:51:49.593143",
     "exception": false,
     "start_time": "2023-12-15T17:51:49.211257",
     "status": "completed"
    },
    "tags": []
   },
   "outputs": [
    {
     "data": {
      "image/png": "[encoded data removed]",
      "text/plain": [
       "<Figure size 640x480 with 1 Axes>"
      ]
     },
     "metadata": {},
     "output_type": "display_data"
    }
   ],
   "source": [
    "day_of_week_counts = data['day_of_week'].value_counts()\n",
    "day_of_week_counts = day_of_week_counts.reindex(weekday_names)\n",
    "day_of_week_counts.plot(kind = 'bar' , color='green')\n",
    "plt.title('Pickup Day of the Week Distribution')\n",
    "plt.xlabel('Day of the Week')\n",
    "plt.ylabel('Number of Pickups')\n",
    "plt.show()"
   ]
  },
  {
   "cell_type": "code",
   "execution_count": 19,
   "id": "31213f26",
   "metadata": {
    "execution": {
     "iopub.execute_input": "2023-12-15T17:51:49.688828Z",
     "iopub.status.busy": "2023-12-15T17:51:49.688002Z",
     "iopub.status.idle": "2023-12-15T17:51:49.719482Z",
     "shell.execute_reply": "2023-12-15T17:51:49.718292Z"
    },
    "papermill": {
     "duration": 0.082333,
     "end_time": "2023-12-15T17:51:49.722047",
     "exception": false,
     "start_time": "2023-12-15T17:51:49.639714",
     "status": "completed"
    },
    "tags": []
   },
   "outputs": [
    {
     "data": {
      "text/html": [
       "<div>\n",
       "<style scoped>\n",
       "    .dataframe tbody tr th:only-of-type {\n",
       "        vertical-align: middle;\n",
       "    }\n",
       "\n",
       "    .dataframe tbody tr th {\n",
       "        vertical-align: top;\n",
       "    }\n",
       "\n",
       "    .dataframe thead th {\n",
       "        text-align: right;\n",
       "    }\n",
       "</style>\n",
       "<table border=\"1\" class=\"dataframe\">\n",
       "  <thead>\n",
       "    <tr style=\"text-align: right;\">\n",
       "      <th></th>\n",
       "      <th>VendorID</th>\n",
       "      <th>tpep_pickup_datetime</th>\n",
       "      <th>tpep_dropoff_datetime</th>\n",
       "      <th>passenger_count</th>\n",
       "      <th>trip_distance</th>\n",
       "      <th>RatecodeID</th>\n",
       "      <th>store_and_fwd_flag</th>\n",
       "      <th>PULocationID</th>\n",
       "      <th>DOLocationID</th>\n",
       "      <th>payment_type</th>\n",
       "      <th>...</th>\n",
       "      <th>tolls_amount</th>\n",
       "      <th>improvement_surcharge</th>\n",
       "      <th>total_amount</th>\n",
       "      <th>congestion_surcharge</th>\n",
       "      <th>Airport_fee</th>\n",
       "      <th>trip_duration</th>\n",
       "      <th>pickup_hour</th>\n",
       "      <th>pickup_dayofweek</th>\n",
       "      <th>time_of_day</th>\n",
       "      <th>day_of_week</th>\n",
       "    </tr>\n",
       "  </thead>\n",
       "  <tbody>\n",
       "    <tr>\n",
       "      <th>0</th>\n",
       "      <td>1</td>\n",
       "      <td>2023-06-28 16:34:45</td>\n",
       "      <td>2023-06-28 17:20:21</td>\n",
       "      <td>1.0</td>\n",
       "      <td>2.14</td>\n",
       "      <td>1.0</td>\n",
       "      <td>N</td>\n",
       "      <td>120</td>\n",
       "      <td>9</td>\n",
       "      <td>Credit Card</td>\n",
       "      <td>...</td>\n",
       "      <td>0.0</td>\n",
       "      <td>1.0</td>\n",
       "      <td>20.64</td>\n",
       "      <td>2.5</td>\n",
       "      <td>0.0</td>\n",
       "      <td>2736.0</td>\n",
       "      <td>16</td>\n",
       "      <td>2</td>\n",
       "      <td>Afternoon</td>\n",
       "      <td>Wednesday</td>\n",
       "    </tr>\n",
       "    <tr>\n",
       "      <th>1</th>\n",
       "      <td>0</td>\n",
       "      <td>2023-06-29 22:01:35</td>\n",
       "      <td>2023-06-29 23:05:01</td>\n",
       "      <td>1.0</td>\n",
       "      <td>2.70</td>\n",
       "      <td>1.0</td>\n",
       "      <td>N</td>\n",
       "      <td>15</td>\n",
       "      <td>215</td>\n",
       "      <td>Credit Card</td>\n",
       "      <td>...</td>\n",
       "      <td>0.0</td>\n",
       "      <td>1.0</td>\n",
       "      <td>25.55</td>\n",
       "      <td>2.5</td>\n",
       "      <td>0.0</td>\n",
       "      <td>3806.0</td>\n",
       "      <td>22</td>\n",
       "      <td>3</td>\n",
       "      <td>Night</td>\n",
       "      <td>Thursday</td>\n",
       "    </tr>\n",
       "    <tr>\n",
       "      <th>2</th>\n",
       "      <td>1</td>\n",
       "      <td>2023-06-30 10:19:31</td>\n",
       "      <td>2023-06-30 11:13:10</td>\n",
       "      <td>1.0</td>\n",
       "      <td>1.15</td>\n",
       "      <td>1.0</td>\n",
       "      <td>N</td>\n",
       "      <td>167</td>\n",
       "      <td>223</td>\n",
       "      <td>Credit Card</td>\n",
       "      <td>...</td>\n",
       "      <td>0.0</td>\n",
       "      <td>1.0</td>\n",
       "      <td>17.64</td>\n",
       "      <td>2.5</td>\n",
       "      <td>0.0</td>\n",
       "      <td>3219.0</td>\n",
       "      <td>10</td>\n",
       "      <td>4</td>\n",
       "      <td>Morning</td>\n",
       "      <td>Friday</td>\n",
       "    </tr>\n",
       "    <tr>\n",
       "      <th>3</th>\n",
       "      <td>0</td>\n",
       "      <td>2023-06-29 13:23:09</td>\n",
       "      <td>2023-06-29 14:20:01</td>\n",
       "      <td>1.0</td>\n",
       "      <td>0.40</td>\n",
       "      <td>1.0</td>\n",
       "      <td>N</td>\n",
       "      <td>128</td>\n",
       "      <td>239</td>\n",
       "      <td>Credit Card</td>\n",
       "      <td>...</td>\n",
       "      <td>0.0</td>\n",
       "      <td>1.0</td>\n",
       "      <td>12.80</td>\n",
       "      <td>2.5</td>\n",
       "      <td>0.0</td>\n",
       "      <td>3412.0</td>\n",
       "      <td>13</td>\n",
       "      <td>3</td>\n",
       "      <td>Afternoon</td>\n",
       "      <td>Thursday</td>\n",
       "    </tr>\n",
       "    <tr>\n",
       "      <th>4</th>\n",
       "      <td>1</td>\n",
       "      <td>2023-06-29 22:03:32</td>\n",
       "      <td>2023-06-29 22:22:22</td>\n",
       "      <td>3.0</td>\n",
       "      <td>1.10</td>\n",
       "      <td>1.0</td>\n",
       "      <td>N</td>\n",
       "      <td>203</td>\n",
       "      <td>52</td>\n",
       "      <td>Credit Card</td>\n",
       "      <td>...</td>\n",
       "      <td>0.0</td>\n",
       "      <td>1.0</td>\n",
       "      <td>18.00</td>\n",
       "      <td>2.5</td>\n",
       "      <td>0.0</td>\n",
       "      <td>1130.0</td>\n",
       "      <td>22</td>\n",
       "      <td>3</td>\n",
       "      <td>Night</td>\n",
       "      <td>Thursday</td>\n",
       "    </tr>\n",
       "  </tbody>\n",
       "</table>\n",
       "<p>5 rows × 22 columns</p>\n",
       "</div>"
      ],
      "text/plain": [
       "   VendorID tpep_pickup_datetime tpep_dropoff_datetime  passenger_count  \\\n",
       "0         1  2023-06-28 16:34:45   2023-06-28 17:20:21              1.0   \n",
       "1         0  2023-06-29 22:01:35   2023-06-29 23:05:01              1.0   \n",
       "2         1  2023-06-30 10:19:31   2023-06-30 11:13:10              1.0   \n",
       "3         0  2023-06-29 13:23:09   2023-06-29 14:20:01              1.0   \n",
       "4         1  2023-06-29 22:03:32   2023-06-29 22:22:22              3.0   \n",
       "\n",
       "   trip_distance  RatecodeID store_and_fwd_flag  PULocationID  DOLocationID  \\\n",
       "0           2.14         1.0                  N           120             9   \n",
       "1           2.70         1.0                  N            15           215   \n",
       "2           1.15         1.0                  N           167           223   \n",
       "3           0.40         1.0                  N           128           239   \n",
       "4           1.10         1.0                  N           203            52   \n",
       "\n",
       "  payment_type  ...  tolls_amount  improvement_surcharge  total_amount  \\\n",
       "0  Credit Card  ...           0.0                    1.0         20.64   \n",
       "1  Credit Card  ...           0.0                    1.0         25.55   \n",
       "2  Credit Card  ...           0.0                    1.0         17.64   \n",
       "3  Credit Card  ...           0.0                    1.0         12.80   \n",
       "4  Credit Card  ...           0.0                    1.0         18.00   \n",
       "\n",
       "   congestion_surcharge  Airport_fee  trip_duration  pickup_hour  \\\n",
       "0                   2.5          0.0         2736.0           16   \n",
       "1                   2.5          0.0         3806.0           22   \n",
       "2                   2.5          0.0         3219.0           10   \n",
       "3                   2.5          0.0         3412.0           13   \n",
       "4                   2.5          0.0         1130.0           22   \n",
       "\n",
       "   pickup_dayofweek  time_of_day  day_of_week  \n",
       "0                 2    Afternoon    Wednesday  \n",
       "1                 3        Night     Thursday  \n",
       "2                 4      Morning       Friday  \n",
       "3                 3    Afternoon     Thursday  \n",
       "4                 3        Night     Thursday  \n",
       "\n",
       "[5 rows x 22 columns]"
      ]
     },
     "execution_count": 19,
     "metadata": {},
     "output_type": "execute_result"
    }
   ],
   "source": [
    "data.head()"
   ]
  },
  {
   "cell_type": "markdown",
   "id": "249550ba",
   "metadata": {
    "papermill": {
     "duration": 0.047826,
     "end_time": "2023-12-15T17:51:49.818020",
     "exception": false,
     "start_time": "2023-12-15T17:51:49.770194",
     "status": "completed"
    },
    "tags": []
   },
   "source": [
    "## Distribution of Passenger Counts."
   ]
  },
  {
   "cell_type": "code",
   "execution_count": 20,
   "id": "c3694d7f",
   "metadata": {
    "execution": {
     "iopub.execute_input": "2023-12-15T17:51:49.916165Z",
     "iopub.status.busy": "2023-12-15T17:51:49.915347Z",
     "iopub.status.idle": "2023-12-15T17:51:50.272514Z",
     "shell.execute_reply": "2023-12-15T17:51:50.271327Z"
    },
    "papermill": {
     "duration": 0.409701,
     "end_time": "2023-12-15T17:51:50.275055",
     "exception": false,
     "start_time": "2023-12-15T17:51:49.865354",
     "status": "completed"
    },
    "tags": []
   },
   "outputs": [
    {
     "data": {
      "text/plain": [
       "Text(0.5, 1.0, 'Distribution of Passenger Counts')"
      ]
     },
     "execution_count": 20,
     "metadata": {},
     "output_type": "execute_result"
    },
    {
     "data": {
      "image/png": "[encoded data removed]",
      "text/plain": [
       "<Figure size 640x480 with 1 Axes>"
      ]
     },
     "metadata": {},
     "output_type": "display_data"
    }
   ],
   "source": [
    "passenger_count = data['passenger_count'].value_counts()\n",
    "passenger_count.plot(kind = 'bar', color = 'blue')\n",
    "plt.xlabel('Count of Passengers')\n",
    "plt.ylabel('Frequency')\n",
    "plt.title('Distribution of Passenger Counts') "
   ]
  },
  {
   "cell_type": "markdown",
   "id": "40244d99",
   "metadata": {
    "papermill": {
     "duration": 0.0473,
     "end_time": "2023-12-15T17:51:50.370107",
     "exception": false,
     "start_time": "2023-12-15T17:51:50.322807",
     "status": "completed"
    },
    "tags": []
   },
   "source": [
    "## Bivariate Analysis"
   ]
  },
  {
   "cell_type": "markdown",
   "id": "e8d67399",
   "metadata": {
    "papermill": {
     "duration": 0.047339,
     "end_time": "2023-12-15T17:51:50.464960",
     "exception": false,
     "start_time": "2023-12-15T17:51:50.417621",
     "status": "completed"
    },
    "tags": []
   },
   "source": [
    "**we sample a subset of the dataset to get a representative view of the data. This subset can be used for initial exploration and visualization without dealing with the entire dataset.This subset enables us to understand features and their relationship among themselves and with output label.** "
   ]
  },
  {
   "cell_type": "code",
   "execution_count": 21,
   "id": "f98a64e2",
   "metadata": {
    "execution": {
     "iopub.execute_input": "2023-12-15T17:51:50.563639Z",
     "iopub.status.busy": "2023-12-15T17:51:50.562784Z",
     "iopub.status.idle": "2023-12-15T17:51:50.622522Z",
     "shell.execute_reply": "2023-12-15T17:51:50.621275Z"
    },
    "papermill": {
     "duration": 0.11149,
     "end_time": "2023-12-15T17:51:50.625159",
     "exception": false,
     "start_time": "2023-12-15T17:51:50.513669",
     "status": "completed"
    },
    "tags": []
   },
   "outputs": [],
   "source": [
    "exploration_set = data.copy()\n",
    "exploration_set = exploration_set.sample(n=5000, random_state=42).copy()  "
   ]
  },
  {
   "cell_type": "code",
   "execution_count": 22,
   "id": "243416d2",
   "metadata": {
    "execution": {
     "iopub.execute_input": "2023-12-15T17:51:50.722686Z",
     "iopub.status.busy": "2023-12-15T17:51:50.722153Z",
     "iopub.status.idle": "2023-12-15T17:51:51.365525Z",
     "shell.execute_reply": "2023-12-15T17:51:51.364526Z"
    },
    "papermill": {
     "duration": 0.695388,
     "end_time": "2023-12-15T17:51:51.368085",
     "exception": false,
     "start_time": "2023-12-15T17:51:50.672697",
     "status": "completed"
    },
    "tags": []
   },
   "outputs": [
    {
     "data": {
      "text/plain": [
       "(0.0, 70.0)"
      ]
     },
     "execution_count": 22,
     "metadata": {},
     "output_type": "execute_result"
    },
    {
     "data": {
      "image/png": "[encoded data removed]",
      "text/plain": [
       "<Figure size 640x480 with 2 Axes>"
      ]
     },
     "metadata": {},
     "output_type": "display_data"
    }
   ],
   "source": [
    "exploration_set.plot(kind='scatter', x='trip_distance', y='trip_duration', alpha=0.5,\n",
    "                     c=\"total_amount\", cmap=plt.get_cmap(\"jet\"))\n",
    "plt.xlim(0,70) "
   ]
  },
  {
   "cell_type": "markdown",
   "id": "657adb71",
   "metadata": {
    "papermill": {
     "duration": 0.048064,
     "end_time": "2023-12-15T17:51:51.464839",
     "exception": false,
     "start_time": "2023-12-15T17:51:51.416775",
     "status": "completed"
    },
    "tags": []
   },
   "source": [
    "* Ideally the trip duration should increase with increase in distance. But here there are some outliers."
   ]
  },
  {
   "cell_type": "markdown",
   "id": "c4234bd2",
   "metadata": {
    "papermill": {
     "duration": 0.048013,
     "end_time": "2023-12-15T17:51:51.561557",
     "exception": false,
     "start_time": "2023-12-15T17:51:51.513544",
     "status": "completed"
    },
    "tags": []
   },
   "source": [
    "### Creating the Correlation Matrix"
   ]
  },
  {
   "cell_type": "code",
   "execution_count": 23,
   "id": "5ce9ce2c",
   "metadata": {
    "execution": {
     "iopub.execute_input": "2023-12-15T17:51:51.660590Z",
     "iopub.status.busy": "2023-12-15T17:51:51.659552Z",
     "iopub.status.idle": "2023-12-15T17:51:51.665328Z",
     "shell.execute_reply": "2023-12-15T17:51:51.664469Z"
    },
    "papermill": {
     "duration": 0.0577,
     "end_time": "2023-12-15T17:51:51.667675",
     "exception": false,
     "start_time": "2023-12-15T17:51:51.609975",
     "status": "completed"
    },
    "tags": []
   },
   "outputs": [],
   "source": [
    "numerical_cols = ['passenger_count' , 'trip_distance' ,'extra' , 'tolls_amount' , 'improvement_surcharge' , 'congestion_surcharge' , 'Airport_fee','pickup_hour','trip_duration','pickup_dayofweek','total_amount']"
   ]
  },
  {
   "cell_type": "code",
   "execution_count": 24,
   "id": "611c5009",
   "metadata": {
    "execution": {
     "iopub.execute_input": "2023-12-15T17:51:51.766217Z",
     "iopub.status.busy": "2023-12-15T17:51:51.765422Z",
     "iopub.status.idle": "2023-12-15T17:51:51.773882Z",
     "shell.execute_reply": "2023-12-15T17:51:51.773090Z"
    },
    "papermill": {
     "duration": 0.060415,
     "end_time": "2023-12-15T17:51:51.776262",
     "exception": false,
     "start_time": "2023-12-15T17:51:51.715847",
     "status": "completed"
    },
    "tags": []
   },
   "outputs": [],
   "source": [
    "corr_matrix = exploration_set[numerical_cols].corr() "
   ]
  },
  {
   "cell_type": "markdown",
   "id": "a5ca207f",
   "metadata": {
    "papermill": {
     "duration": 0.049031,
     "end_time": "2023-12-15T17:51:51.873534",
     "exception": false,
     "start_time": "2023-12-15T17:51:51.824503",
     "status": "completed"
    },
    "tags": []
   },
   "source": [
    "Let's check features that are correlated with the label, which is `total_amount`"
   ]
  },
  {
   "cell_type": "code",
   "execution_count": 25,
   "id": "84741f9c",
   "metadata": {
    "execution": {
     "iopub.execute_input": "2023-12-15T17:51:51.973627Z",
     "iopub.status.busy": "2023-12-15T17:51:51.972808Z",
     "iopub.status.idle": "2023-12-15T17:51:51.981671Z",
     "shell.execute_reply": "2023-12-15T17:51:51.980554Z"
    },
    "papermill": {
     "duration": 0.061307,
     "end_time": "2023-12-15T17:51:51.984025",
     "exception": false,
     "start_time": "2023-12-15T17:51:51.922718",
     "status": "completed"
    },
    "tags": []
   },
   "outputs": [
    {
     "data": {
      "text/plain": [
       "passenger_count          0.063397\n",
       "trip_distance            0.895664\n",
       "extra                    0.216159\n",
       "tolls_amount             0.663084\n",
       "improvement_surcharge    0.207518\n",
       "congestion_surcharge    -0.195111\n",
       "Airport_fee              0.564260\n",
       "pickup_hour             -0.015427\n",
       "trip_duration            0.124149\n",
       "pickup_dayofweek         0.003670\n",
       "total_amount             1.000000\n",
       "Name: total_amount, dtype: float64"
      ]
     },
     "execution_count": 25,
     "metadata": {},
     "output_type": "execute_result"
    }
   ],
   "source": [
    "corr_matrix['total_amount']"
   ]
  },
  {
   "cell_type": "markdown",
   "id": "8bb1741f",
   "metadata": {
    "papermill": {
     "duration": 0.048104,
     "end_time": "2023-12-15T17:51:52.080879",
     "exception": false,
     "start_time": "2023-12-15T17:51:52.032775",
     "status": "completed"
    },
    "tags": []
   },
   "source": [
    "**We observe that `total_amount` has strong positive correlation with `trip_distance`(0.89)**\n",
    "\n",
    "**The impact of `Airport_fee`(0.56) and `tolls_amount`(0.66) is also significant on the fare.**"
   ]
  },
  {
   "cell_type": "markdown",
   "id": "7d7e89e5",
   "metadata": {
    "papermill": {
     "duration": 0.048159,
     "end_time": "2023-12-15T17:51:52.177998",
     "exception": false,
     "start_time": "2023-12-15T17:51:52.129839",
     "status": "completed"
    },
    "tags": []
   },
   "source": [
    "### Lets visualize the correlation matrix of features correlating with fare amount."
   ]
  },
  {
   "cell_type": "code",
   "execution_count": 26,
   "id": "236a6aa1",
   "metadata": {
    "execution": {
     "iopub.execute_input": "2023-12-15T17:51:52.277601Z",
     "iopub.status.busy": "2023-12-15T17:51:52.276739Z",
     "iopub.status.idle": "2023-12-15T17:51:53.178382Z",
     "shell.execute_reply": "2023-12-15T17:51:53.176976Z"
    },
    "papermill": {
     "duration": 0.954506,
     "end_time": "2023-12-15T17:51:53.181172",
     "exception": false,
     "start_time": "2023-12-15T17:51:52.226666",
     "status": "completed"
    },
    "tags": []
   },
   "outputs": [
    {
     "data": {
      "text/plain": [
       "<Axes: >"
      ]
     },
     "execution_count": 26,
     "metadata": {},
     "output_type": "execute_result"
    },
    {
     "data": {
      "image/png": "[encoded data removed]",
      "text/plain": [
       "<Figure size 1400x700 with 2 Axes>"
      ]
     },
     "metadata": {},
     "output_type": "display_data"
    }
   ],
   "source": [
    "plt.figure(figsize=(14,7))\n",
    "sns.heatmap(corr_matrix, annot=True)"
   ]
  },
  {
   "cell_type": "markdown",
   "id": "10aea971",
   "metadata": {
    "papermill": {
     "duration": 0.054627,
     "end_time": "2023-12-15T17:51:53.287738",
     "exception": false,
     "start_time": "2023-12-15T17:51:53.233111",
     "status": "completed"
    },
    "tags": []
   },
   "source": [
    "* Here we observe that the fainter colors represent positive correlation. The intensity of the colours depend upon the magnitude of the correlation.\n",
    "* Also the darker colour represents the negative correlation.\n",
    "* `trip_distance` and `total_amount` are positively correlated whereas `Airport_fee` and `comgestion_surcharge` are somewhat negatively correlated."
   ]
  },
  {
   "cell_type": "markdown",
   "id": "cedd8cfa",
   "metadata": {
    "papermill": {
     "duration": 0.050856,
     "end_time": "2023-12-15T17:51:53.390493",
     "exception": false,
     "start_time": "2023-12-15T17:51:53.339637",
     "status": "completed"
    },
    "tags": []
   },
   "source": [
    "### Visualizing the Relationship between the Trip Distance and the Fare Amount"
   ]
  },
  {
   "cell_type": "code",
   "execution_count": 27,
   "id": "7ad9625d",
   "metadata": {
    "execution": {
     "iopub.execute_input": "2023-12-15T17:51:53.497106Z",
     "iopub.status.busy": "2023-12-15T17:51:53.496655Z",
     "iopub.status.idle": "2023-12-15T17:51:53.800106Z",
     "shell.execute_reply": "2023-12-15T17:51:53.798943Z"
    },
    "papermill": {
     "duration": 0.35958,
     "end_time": "2023-12-15T17:51:53.802649",
     "exception": false,
     "start_time": "2023-12-15T17:51:53.443069",
     "status": "completed"
    },
    "tags": []
   },
   "outputs": [
    {
     "data": {
      "image/png": "[encoded data removed]",
      "text/plain": [
       "<Figure size 640x480 with 1 Axes>"
      ]
     },
     "metadata": {},
     "output_type": "display_data"
    }
   ],
   "source": [
    "exploration_set.plot(kind='scatter', x='trip_distance', y='total_amount', alpha=0.5)\n",
    "plt.show()"
   ]
  },
  {
   "cell_type": "markdown",
   "id": "1c58d82d",
   "metadata": {
    "papermill": {
     "duration": 0.058776,
     "end_time": "2023-12-15T17:51:53.931423",
     "exception": false,
     "start_time": "2023-12-15T17:51:53.872647",
     "status": "completed"
    },
    "tags": []
   },
   "source": [
    "**We see that there is a linear relationship between the two columns.**"
   ]
  },
  {
   "cell_type": "markdown",
   "id": "9162b60d",
   "metadata": {
    "papermill": {
     "duration": 0.051863,
     "end_time": "2023-12-15T17:51:54.035381",
     "exception": false,
     "start_time": "2023-12-15T17:51:53.983518",
     "status": "completed"
    },
    "tags": []
   },
   "source": [
    "### Visualizing Outliers"
   ]
  },
  {
   "cell_type": "code",
   "execution_count": 28,
   "id": "dd4fd037",
   "metadata": {
    "execution": {
     "iopub.execute_input": "2023-12-15T17:51:54.142526Z",
     "iopub.status.busy": "2023-12-15T17:51:54.141726Z",
     "iopub.status.idle": "2023-12-15T17:51:54.396469Z",
     "shell.execute_reply": "2023-12-15T17:51:54.395155Z"
    },
    "papermill": {
     "duration": 0.311467,
     "end_time": "2023-12-15T17:51:54.399438",
     "exception": false,
     "start_time": "2023-12-15T17:51:54.087971",
     "status": "completed"
    },
    "tags": []
   },
   "outputs": [
    {
     "data": {
      "image/png": "[encoded data removed]",
      "text/plain": [
       "<Figure size 800x500 with 1 Axes>"
      ]
     },
     "metadata": {},
     "output_type": "display_data"
    }
   ],
   "source": [
    "plt.figure(figsize=(8, 5))\n",
    "sns.boxplot(y = 'total_amount', data= exploration_set, orient='v')\n",
    "plt.title('Boxplot of Total Amount')\n",
    "plt.xlabel('Total Amount')\n",
    "plt.show()"
   ]
  },
  {
   "cell_type": "code",
   "execution_count": 29,
   "id": "cc67961c",
   "metadata": {
    "execution": {
     "iopub.execute_input": "2023-12-15T17:51:54.508037Z",
     "iopub.status.busy": "2023-12-15T17:51:54.506732Z",
     "iopub.status.idle": "2023-12-15T17:51:54.768648Z",
     "shell.execute_reply": "2023-12-15T17:51:54.767471Z"
    },
    "papermill": {
     "duration": 0.318902,
     "end_time": "2023-12-15T17:51:54.771612",
     "exception": false,
     "start_time": "2023-12-15T17:51:54.452710",
     "status": "completed"
    },
    "tags": []
   },
   "outputs": [
    {
     "data": {
      "image/png": "[encoded data removed]",
      "text/plain": [
       "<Figure size 800x500 with 1 Axes>"
      ]
     },
     "metadata": {},
     "output_type": "display_data"
    }
   ],
   "source": [
    "plt.figure(figsize=(8, 5))\n",
    "sns.boxplot(y = 'trip_distance', data= exploration_set, orient='v')\n",
    "plt.title('Boxplot of Trip Distance')\n",
    "plt.xlabel('Trip Distance')\n",
    "plt.show()"
   ]
  },
  {
   "cell_type": "code",
   "execution_count": 30,
   "id": "805b29f8",
   "metadata": {
    "execution": {
     "iopub.execute_input": "2023-12-15T17:51:54.882535Z",
     "iopub.status.busy": "2023-12-15T17:51:54.881297Z",
     "iopub.status.idle": "2023-12-15T17:51:55.118186Z",
     "shell.execute_reply": "2023-12-15T17:51:55.116876Z"
    },
    "papermill": {
     "duration": 0.29634,
     "end_time": "2023-12-15T17:51:55.120721",
     "exception": false,
     "start_time": "2023-12-15T17:51:54.824381",
     "status": "completed"
    },
    "tags": []
   },
   "outputs": [
    {
     "data": {
      "image/png": "[encoded data removed]",
      "text/plain": [
       "<Figure size 800x500 with 1 Axes>"
      ]
     },
     "metadata": {},
     "output_type": "display_data"
    }
   ],
   "source": [
    "plt.figure(figsize=(8, 5))\n",
    "sns.boxplot(y = 'trip_duration', data= exploration_set, orient='v')\n",
    "plt.title('Boxplot of Trip Duration')\n",
    "plt.xlabel('Trip Duration')\n",
    "plt.show()\n"
   ]
  },
  {
   "cell_type": "markdown",
   "id": "246230c4",
   "metadata": {
    "papermill": {
     "duration": 0.053024,
     "end_time": "2023-12-15T17:51:55.227618",
     "exception": false,
     "start_time": "2023-12-15T17:51:55.174594",
     "status": "completed"
    },
    "tags": []
   },
   "source": [
    "## Data Preprocessing"
   ]
  },
  {
   "cell_type": "code",
   "execution_count": 31,
   "id": "ca415327",
   "metadata": {
    "execution": {
     "iopub.execute_input": "2023-12-15T17:51:55.335850Z",
     "iopub.status.busy": "2023-12-15T17:51:55.335137Z",
     "iopub.status.idle": "2023-12-15T17:51:55.991677Z",
     "shell.execute_reply": "2023-12-15T17:51:55.990665Z"
    },
    "papermill": {
     "duration": 0.713719,
     "end_time": "2023-12-15T17:51:55.994439",
     "exception": false,
     "start_time": "2023-12-15T17:51:55.280720",
     "status": "completed"
    },
    "tags": []
   },
   "outputs": [],
   "source": [
    "from sklearn.impute import SimpleImputer"
   ]
  },
  {
   "cell_type": "code",
   "execution_count": 32,
   "id": "2401d728",
   "metadata": {
    "execution": {
     "iopub.execute_input": "2023-12-15T17:51:56.104072Z",
     "iopub.status.busy": "2023-12-15T17:51:56.103184Z",
     "iopub.status.idle": "2023-12-15T17:51:56.112807Z",
     "shell.execute_reply": "2023-12-15T17:51:56.111623Z"
    },
    "papermill": {
     "duration": 0.066659,
     "end_time": "2023-12-15T17:51:56.115127",
     "exception": false,
     "start_time": "2023-12-15T17:51:56.048468",
     "status": "completed"
    },
    "tags": []
   },
   "outputs": [
    {
     "data": {
      "text/plain": [
       "VendorID                          int64\n",
       "tpep_pickup_datetime     datetime64[ns]\n",
       "tpep_dropoff_datetime    datetime64[ns]\n",
       "passenger_count                 float64\n",
       "trip_distance                   float64\n",
       "RatecodeID                      float64\n",
       "store_and_fwd_flag               object\n",
       "PULocationID                      int64\n",
       "DOLocationID                      int64\n",
       "payment_type                     object\n",
       "extra                           float64\n",
       "tip_amount                      float64\n",
       "tolls_amount                    float64\n",
       "improvement_surcharge           float64\n",
       "total_amount                    float64\n",
       "congestion_surcharge            float64\n",
       "Airport_fee                     float64\n",
       "trip_duration                   float64\n",
       "pickup_hour                       int32\n",
       "pickup_dayofweek                  int32\n",
       "time_of_day                    category\n",
       "day_of_week                      object\n",
       "dtype: object"
      ]
     },
     "execution_count": 32,
     "metadata": {},
     "output_type": "execute_result"
    }
   ],
   "source": [
    "data.dtypes"
   ]
  },
  {
   "cell_type": "code",
   "execution_count": 33,
   "id": "4afc4fed",
   "metadata": {
    "execution": {
     "iopub.execute_input": "2023-12-15T17:51:56.223448Z",
     "iopub.status.busy": "2023-12-15T17:51:56.223050Z",
     "iopub.status.idle": "2023-12-15T17:51:56.231060Z",
     "shell.execute_reply": "2023-12-15T17:51:56.229949Z"
    },
    "papermill": {
     "duration": 0.064959,
     "end_time": "2023-12-15T17:51:56.233383",
     "exception": false,
     "start_time": "2023-12-15T17:51:56.168424",
     "status": "completed"
    },
    "tags": []
   },
   "outputs": [
    {
     "data": {
      "text/plain": [
       "1.3576777585053545"
      ]
     },
     "execution_count": 33,
     "metadata": {},
     "output_type": "execute_result"
    }
   ],
   "source": [
    "data['passenger_count'].mean()"
   ]
  },
  {
   "cell_type": "code",
   "execution_count": 34,
   "id": "3c43e017",
   "metadata": {
    "execution": {
     "iopub.execute_input": "2023-12-15T17:51:56.342584Z",
     "iopub.status.busy": "2023-12-15T17:51:56.342187Z",
     "iopub.status.idle": "2023-12-15T17:51:56.362601Z",
     "shell.execute_reply": "2023-12-15T17:51:56.361243Z"
    },
    "papermill": {
     "duration": 0.078256,
     "end_time": "2023-12-15T17:51:56.365434",
     "exception": false,
     "start_time": "2023-12-15T17:51:56.287178",
     "status": "completed"
    },
    "tags": []
   },
   "outputs": [
    {
     "data": {
      "text/html": [
       "<style>#sk-container-id-1 {color: black;background-color: white;}#sk-container-id-1 pre{padding: 0;}#sk-container-id-1 div.sk-toggleable {background-color: white;}#sk-container-id-1 label.sk-toggleable__label {cursor: pointer;display: block;width: 100%;margin-bottom: 0;padding: 0.3em;box-sizing: border-box;text-align: center;}#sk-container-id-1 label.sk-toggleable__label-arrow:before {content: \"▸\";float: left;margin-right: 0.25em;color: #696969;}#sk-container-id-1 label.sk-toggleable__label-arrow:hover:before {color: black;}#sk-container-id-1 div.sk-estimator:hover label.sk-toggleable__label-arrow:before {color: black;}#sk-container-id-1 div.sk-toggleable__content {max-height: 0;max-width: 0;overflow: hidden;text-align: left;background-color: #f0f8ff;}#sk-container-id-1 div.sk-toggleable__content pre {margin: 0.2em;color: black;border-radius: 0.25em;background-color: #f0f8ff;}#sk-container-id-1 input.sk-toggleable__control:checked~div.sk-toggleable__content {max-height: 200px;max-width: 100%;overflow: auto;}#sk-container-id-1 input.sk-toggleable__control:checked~label.sk-toggleable__label-arrow:before {content: \"▾\";}#sk-container-id-1 div.sk-estimator input.sk-toggleable__control:checked~label.sk-toggleable__label {background-color: #d4ebff;}#sk-container-id-1 div.sk-label input.sk-toggleable__control:checked~label.sk-toggleable__label {background-color: #d4ebff;}#sk-container-id-1 input.sk-hidden--visually {border: 0;clip: rect(1px 1px 1px 1px);clip: rect(1px, 1px, 1px, 1px);height: 1px;margin: -1px;overflow: hidden;padding: 0;position: absolute;width: 1px;}#sk-container-id-1 div.sk-estimator {font-family: monospace;background-color: #f0f8ff;border: 1px dotted black;border-radius: 0.25em;box-sizing: border-box;margin-bottom: 0.5em;}#sk-container-id-1 div.sk-estimator:hover {background-color: #d4ebff;}#sk-container-id-1 div.sk-parallel-item::after {content: \"\";width: 100%;border-bottom: 1px solid gray;flex-grow: 1;}#sk-container-id-1 div.sk-label:hover label.sk-toggleable__label {background-color: #d4ebff;}#sk-container-id-1 div.sk-serial::before {content: \"\";position: absolute;border-left: 1px solid gray;box-sizing: border-box;top: 0;bottom: 0;left: 50%;z-index: 0;}#sk-container-id-1 div.sk-serial {display: flex;flex-direction: column;align-items: center;background-color: white;padding-right: 0.2em;padding-left: 0.2em;position: relative;}#sk-container-id-1 div.sk-item {position: relative;z-index: 1;}#sk-container-id-1 div.sk-parallel {display: flex;align-items: stretch;justify-content: center;background-color: white;position: relative;}#sk-container-id-1 div.sk-item::before, #sk-container-id-1 div.sk-parallel-item::before {content: \"\";position: absolute;border-left: 1px solid gray;box-sizing: border-box;top: 0;bottom: 0;left: 50%;z-index: -1;}#sk-container-id-1 div.sk-parallel-item {display: flex;flex-direction: column;z-index: 1;position: relative;background-color: white;}#sk-container-id-1 div.sk-parallel-item:first-child::after {align-self: flex-end;width: 50%;}#sk-container-id-1 div.sk-parallel-item:last-child::after {align-self: flex-start;width: 50%;}#sk-container-id-1 div.sk-parallel-item:only-child::after {width: 0;}#sk-container-id-1 div.sk-dashed-wrapped {border: 1px dashed gray;margin: 0 0.4em 0.5em 0.4em;box-sizing: border-box;padding-bottom: 0.4em;background-color: white;}#sk-container-id-1 div.sk-label label {font-family: monospace;font-weight: bold;display: inline-block;line-height: 1.2em;}#sk-container-id-1 div.sk-label-container {text-align: center;}#sk-container-id-1 div.sk-container {/* jupyter's `normalize.less` sets `[hidden] { display: none; }` but bootstrap.min.css set `[hidden] { display: none !important; }` so we also need the `!important` here to be able to override the default hidden behavior on the sphinx rendered scikit-learn.org. See: https://github.com/scikit-learn/scikit-learn/issues/21755 */display: inline-block !important;position: relative;}#sk-container-id-1 div.sk-text-repr-fallback {display: none;}</style><div id=\"sk-container-id-1\" class=\"sk-top-container\"><div class=\"sk-text-repr-fallback\"><pre>SimpleImputer()</pre><b>In a Jupyter environment, please rerun this cell to show the HTML representation or trust the notebook. <br />On GitHub, the HTML representation is unable to render, please try loading this page with nbviewer.org.</b></div><div class=\"sk-container\" hidden><div class=\"sk-item\"><div class=\"sk-estimator sk-toggleable\"><input class=\"sk-toggleable__control sk-hidden--visually\" id=\"sk-estimator-id-1\" type=\"checkbox\" checked><label for=\"sk-estimator-id-1\" class=\"sk-toggleable__label sk-toggleable__label-arrow\">SimpleImputer</label><div class=\"sk-toggleable__content\"><pre>SimpleImputer()</pre></div></div></div></div></div>"
      ],
      "text/plain": [
       "SimpleImputer()"
      ]
     },
     "execution_count": 34,
     "metadata": {},
     "output_type": "execute_result"
    }
   ],
   "source": [
    "imputer_1 = SimpleImputer(strategy=\"mean\")\n",
    "imputer_1.fit(data[['passenger_count']])"
   ]
  },
  {
   "cell_type": "code",
   "execution_count": 35,
   "id": "74d537b8",
   "metadata": {
    "execution": {
     "iopub.execute_input": "2023-12-15T17:51:56.478751Z",
     "iopub.status.busy": "2023-12-15T17:51:56.478315Z",
     "iopub.status.idle": "2023-12-15T17:51:56.485325Z",
     "shell.execute_reply": "2023-12-15T17:51:56.484433Z"
    },
    "papermill": {
     "duration": 0.065324,
     "end_time": "2023-12-15T17:51:56.487402",
     "exception": false,
     "start_time": "2023-12-15T17:51:56.422078",
     "status": "completed"
    },
    "tags": []
   },
   "outputs": [
    {
     "data": {
      "text/plain": [
       "array([1.35767776])"
      ]
     },
     "execution_count": 35,
     "metadata": {},
     "output_type": "execute_result"
    }
   ],
   "source": [
    "imputer_1.statistics_ "
   ]
  },
  {
   "cell_type": "code",
   "execution_count": 36,
   "id": "d6603e14",
   "metadata": {
    "execution": {
     "iopub.execute_input": "2023-12-15T17:51:56.598574Z",
     "iopub.status.busy": "2023-12-15T17:51:56.598150Z",
     "iopub.status.idle": "2023-12-15T17:51:56.609272Z",
     "shell.execute_reply": "2023-12-15T17:51:56.608038Z"
    },
    "papermill": {
     "duration": 0.069567,
     "end_time": "2023-12-15T17:51:56.611782",
     "exception": false,
     "start_time": "2023-12-15T17:51:56.542215",
     "status": "completed"
    },
    "tags": []
   },
   "outputs": [],
   "source": [
    "data['passenger_count'] = imputer_1.transform(data[['passenger_count']])  "
   ]
  },
  {
   "cell_type": "code",
   "execution_count": 37,
   "id": "2e6b48f5",
   "metadata": {
    "execution": {
     "iopub.execute_input": "2023-12-15T17:51:56.722409Z",
     "iopub.status.busy": "2023-12-15T17:51:56.721976Z",
     "iopub.status.idle": "2023-12-15T17:51:56.728145Z",
     "shell.execute_reply": "2023-12-15T17:51:56.726958Z"
    },
    "papermill": {
     "duration": 0.064509,
     "end_time": "2023-12-15T17:51:56.730478",
     "exception": false,
     "start_time": "2023-12-15T17:51:56.665969",
     "status": "completed"
    },
    "tags": []
   },
   "outputs": [],
   "source": [
    "imputer_2 = SimpleImputer(strategy = \"mean\") # For imputing Ratecode ID\n",
    "imputer_3 = SimpleImputer(strategy = \"mean\") # For imputing congestion surcharge\n",
    "imputer_4 = SimpleImputer(strategy = \"mean\") # For imputing airport fee "
   ]
  },
  {
   "cell_type": "code",
   "execution_count": 38,
   "id": "816a6507",
   "metadata": {
    "execution": {
     "iopub.execute_input": "2023-12-15T17:51:56.841112Z",
     "iopub.status.busy": "2023-12-15T17:51:56.840496Z",
     "iopub.status.idle": "2023-12-15T17:51:56.851269Z",
     "shell.execute_reply": "2023-12-15T17:51:56.850039Z"
    },
    "papermill": {
     "duration": 0.06932,
     "end_time": "2023-12-15T17:51:56.854043",
     "exception": false,
     "start_time": "2023-12-15T17:51:56.784723",
     "status": "completed"
    },
    "tags": []
   },
   "outputs": [
    {
     "data": {
      "text/plain": [
       "1.51830715769907"
      ]
     },
     "execution_count": 38,
     "metadata": {},
     "output_type": "execute_result"
    }
   ],
   "source": [
    "data['RatecodeID'].mean()"
   ]
  },
  {
   "cell_type": "code",
   "execution_count": 39,
   "id": "0d19aeaa",
   "metadata": {
    "execution": {
     "iopub.execute_input": "2023-12-15T17:51:56.964851Z",
     "iopub.status.busy": "2023-12-15T17:51:56.964422Z",
     "iopub.status.idle": "2023-12-15T17:51:56.978055Z",
     "shell.execute_reply": "2023-12-15T17:51:56.976892Z"
    },
    "papermill": {
     "duration": 0.071586,
     "end_time": "2023-12-15T17:51:56.980635",
     "exception": false,
     "start_time": "2023-12-15T17:51:56.909049",
     "status": "completed"
    },
    "tags": []
   },
   "outputs": [
    {
     "data": {
      "text/html": [
       "<style>#sk-container-id-2 {color: black;background-color: white;}#sk-container-id-2 pre{padding: 0;}#sk-container-id-2 div.sk-toggleable {background-color: white;}#sk-container-id-2 label.sk-toggleable__label {cursor: pointer;display: block;width: 100%;margin-bottom: 0;padding: 0.3em;box-sizing: border-box;text-align: center;}#sk-container-id-2 label.sk-toggleable__label-arrow:before {content: \"▸\";float: left;margin-right: 0.25em;color: #696969;}#sk-container-id-2 label.sk-toggleable__label-arrow:hover:before {color: black;}#sk-container-id-2 div.sk-estimator:hover label.sk-toggleable__label-arrow:before {color: black;}#sk-container-id-2 div.sk-toggleable__content {max-height: 0;max-width: 0;overflow: hidden;text-align: left;background-color: #f0f8ff;}#sk-container-id-2 div.sk-toggleable__content pre {margin: 0.2em;color: black;border-radius: 0.25em;background-color: #f0f8ff;}#sk-container-id-2 input.sk-toggleable__control:checked~div.sk-toggleable__content {max-height: 200px;max-width: 100%;overflow: auto;}#sk-container-id-2 input.sk-toggleable__control:checked~label.sk-toggleable__label-arrow:before {content: \"▾\";}#sk-container-id-2 div.sk-estimator input.sk-toggleable__control:checked~label.sk-toggleable__label {background-color: #d4ebff;}#sk-container-id-2 div.sk-label input.sk-toggleable__control:checked~label.sk-toggleable__label {background-color: #d4ebff;}#sk-container-id-2 input.sk-hidden--visually {border: 0;clip: rect(1px 1px 1px 1px);clip: rect(1px, 1px, 1px, 1px);height: 1px;margin: -1px;overflow: hidden;padding: 0;position: absolute;width: 1px;}#sk-container-id-2 div.sk-estimator {font-family: monospace;background-color: #f0f8ff;border: 1px dotted black;border-radius: 0.25em;box-sizing: border-box;margin-bottom: 0.5em;}#sk-container-id-2 div.sk-estimator:hover {background-color: #d4ebff;}#sk-container-id-2 div.sk-parallel-item::after {content: \"\";width: 100%;border-bottom: 1px solid gray;flex-grow: 1;}#sk-container-id-2 div.sk-label:hover label.sk-toggleable__label {background-color: #d4ebff;}#sk-container-id-2 div.sk-serial::before {content: \"\";position: absolute;border-left: 1px solid gray;box-sizing: border-box;top: 0;bottom: 0;left: 50%;z-index: 0;}#sk-container-id-2 div.sk-serial {display: flex;flex-direction: column;align-items: center;background-color: white;padding-right: 0.2em;padding-left: 0.2em;position: relative;}#sk-container-id-2 div.sk-item {position: relative;z-index: 1;}#sk-container-id-2 div.sk-parallel {display: flex;align-items: stretch;justify-content: center;background-color: white;position: relative;}#sk-container-id-2 div.sk-item::before, #sk-container-id-2 div.sk-parallel-item::before {content: \"\";position: absolute;border-left: 1px solid gray;box-sizing: border-box;top: 0;bottom: 0;left: 50%;z-index: -1;}#sk-container-id-2 div.sk-parallel-item {display: flex;flex-direction: column;z-index: 1;position: relative;background-color: white;}#sk-container-id-2 div.sk-parallel-item:first-child::after {align-self: flex-end;width: 50%;}#sk-container-id-2 div.sk-parallel-item:last-child::after {align-self: flex-start;width: 50%;}#sk-container-id-2 div.sk-parallel-item:only-child::after {width: 0;}#sk-container-id-2 div.sk-dashed-wrapped {border: 1px dashed gray;margin: 0 0.4em 0.5em 0.4em;box-sizing: border-box;padding-bottom: 0.4em;background-color: white;}#sk-container-id-2 div.sk-label label {font-family: monospace;font-weight: bold;display: inline-block;line-height: 1.2em;}#sk-container-id-2 div.sk-label-container {text-align: center;}#sk-container-id-2 div.sk-container {/* jupyter's `normalize.less` sets `[hidden] { display: none; }` but bootstrap.min.css set `[hidden] { display: none !important; }` so we also need the `!important` here to be able to override the default hidden behavior on the sphinx rendered scikit-learn.org. See: https://github.com/scikit-learn/scikit-learn/issues/21755 */display: inline-block !important;position: relative;}#sk-container-id-2 div.sk-text-repr-fallback {display: none;}</style><div id=\"sk-container-id-2\" class=\"sk-top-container\"><div class=\"sk-text-repr-fallback\"><pre>SimpleImputer()</pre><b>In a Jupyter environment, please rerun this cell to show the HTML representation or trust the notebook. <br />On GitHub, the HTML representation is unable to render, please try loading this page with nbviewer.org.</b></div><div class=\"sk-container\" hidden><div class=\"sk-item\"><div class=\"sk-estimator sk-toggleable\"><input class=\"sk-toggleable__control sk-hidden--visually\" id=\"sk-estimator-id-2\" type=\"checkbox\" checked><label for=\"sk-estimator-id-2\" class=\"sk-toggleable__label sk-toggleable__label-arrow\">SimpleImputer</label><div class=\"sk-toggleable__content\"><pre>SimpleImputer()</pre></div></div></div></div></div>"
      ],
      "text/plain": [
       "SimpleImputer()"
      ]
     },
     "execution_count": 39,
     "metadata": {},
     "output_type": "execute_result"
    }
   ],
   "source": [
    "imputer_2.fit(data[['RatecodeID']])"
   ]
  },
  {
   "cell_type": "code",
   "execution_count": 40,
   "id": "67b7474b",
   "metadata": {
    "execution": {
     "iopub.execute_input": "2023-12-15T17:51:57.093574Z",
     "iopub.status.busy": "2023-12-15T17:51:57.093148Z",
     "iopub.status.idle": "2023-12-15T17:51:57.099857Z",
     "shell.execute_reply": "2023-12-15T17:51:57.098926Z"
    },
    "papermill": {
     "duration": 0.065699,
     "end_time": "2023-12-15T17:51:57.101927",
     "exception": false,
     "start_time": "2023-12-15T17:51:57.036228",
     "status": "completed"
    },
    "tags": []
   },
   "outputs": [
    {
     "data": {
      "text/plain": [
       "array([1.51830716])"
      ]
     },
     "execution_count": 40,
     "metadata": {},
     "output_type": "execute_result"
    }
   ],
   "source": [
    "imputer_2.statistics_"
   ]
  },
  {
   "cell_type": "code",
   "execution_count": 41,
   "id": "8c59db9d",
   "metadata": {
    "execution": {
     "iopub.execute_input": "2023-12-15T17:51:57.213379Z",
     "iopub.status.busy": "2023-12-15T17:51:57.212933Z",
     "iopub.status.idle": "2023-12-15T17:51:57.224129Z",
     "shell.execute_reply": "2023-12-15T17:51:57.222939Z"
    },
    "papermill": {
     "duration": 0.070457,
     "end_time": "2023-12-15T17:51:57.226925",
     "exception": false,
     "start_time": "2023-12-15T17:51:57.156468",
     "status": "completed"
    },
    "tags": []
   },
   "outputs": [],
   "source": [
    "data['RatecodeID'] = imputer_2.transform(data[['RatecodeID']]) "
   ]
  },
  {
   "cell_type": "code",
   "execution_count": 42,
   "id": "9f885c4e",
   "metadata": {
    "execution": {
     "iopub.execute_input": "2023-12-15T17:51:57.338247Z",
     "iopub.status.busy": "2023-12-15T17:51:57.337791Z",
     "iopub.status.idle": "2023-12-15T17:51:57.346702Z",
     "shell.execute_reply": "2023-12-15T17:51:57.345571Z"
    },
    "papermill": {
     "duration": 0.067515,
     "end_time": "2023-12-15T17:51:57.349182",
     "exception": false,
     "start_time": "2023-12-15T17:51:57.281667",
     "status": "completed"
    },
    "tags": []
   },
   "outputs": [
    {
     "data": {
      "text/plain": [
       "2.246970513192401"
      ]
     },
     "execution_count": 42,
     "metadata": {},
     "output_type": "execute_result"
    }
   ],
   "source": [
    "data['congestion_surcharge'].mean() "
   ]
  },
  {
   "cell_type": "code",
   "execution_count": 43,
   "id": "cf53301a",
   "metadata": {
    "execution": {
     "iopub.execute_input": "2023-12-15T17:51:57.460443Z",
     "iopub.status.busy": "2023-12-15T17:51:57.460017Z",
     "iopub.status.idle": "2023-12-15T17:51:57.473331Z",
     "shell.execute_reply": "2023-12-15T17:51:57.472220Z"
    },
    "papermill": {
     "duration": 0.071847,
     "end_time": "2023-12-15T17:51:57.475725",
     "exception": false,
     "start_time": "2023-12-15T17:51:57.403878",
     "status": "completed"
    },
    "tags": []
   },
   "outputs": [
    {
     "data": {
      "text/plain": [
       "array([2.24697051])"
      ]
     },
     "execution_count": 43,
     "metadata": {},
     "output_type": "execute_result"
    }
   ],
   "source": [
    "imputer_3.fit(data[['congestion_surcharge']])\n",
    "imputer_3.statistics_ "
   ]
  },
  {
   "cell_type": "code",
   "execution_count": 44,
   "id": "c4ea9028",
   "metadata": {
    "execution": {
     "iopub.execute_input": "2023-12-15T17:51:57.588743Z",
     "iopub.status.busy": "2023-12-15T17:51:57.587806Z",
     "iopub.status.idle": "2023-12-15T17:51:57.599015Z",
     "shell.execute_reply": "2023-12-15T17:51:57.597780Z"
    },
    "papermill": {
     "duration": 0.069951,
     "end_time": "2023-12-15T17:51:57.601465",
     "exception": false,
     "start_time": "2023-12-15T17:51:57.531514",
     "status": "completed"
    },
    "tags": []
   },
   "outputs": [],
   "source": [
    "data['congestion_surcharge'] = imputer_3.transform(data[['congestion_surcharge']])  "
   ]
  },
  {
   "cell_type": "code",
   "execution_count": 45,
   "id": "ac8d19bc",
   "metadata": {
    "execution": {
     "iopub.execute_input": "2023-12-15T17:51:57.714492Z",
     "iopub.status.busy": "2023-12-15T17:51:57.713671Z",
     "iopub.status.idle": "2023-12-15T17:51:57.731028Z",
     "shell.execute_reply": "2023-12-15T17:51:57.729881Z"
    },
    "papermill": {
     "duration": 0.077486,
     "end_time": "2023-12-15T17:51:57.733894",
     "exception": false,
     "start_time": "2023-12-15T17:51:57.656408",
     "status": "completed"
    },
    "tags": []
   },
   "outputs": [],
   "source": [
    "imputer_4.fit(data[['Airport_fee']])\n",
    "#assert(imputer_4.statistics_[0]==data['Airport_fee'].mode())\n",
    "data['Airport_fee'] = imputer_4.transform(data[['Airport_fee']])  "
   ]
  },
  {
   "cell_type": "code",
   "execution_count": 46,
   "id": "de8c0d1a",
   "metadata": {
    "execution": {
     "iopub.execute_input": "2023-12-15T17:51:57.848228Z",
     "iopub.status.busy": "2023-12-15T17:51:57.847267Z",
     "iopub.status.idle": "2023-12-15T17:51:57.876856Z",
     "shell.execute_reply": "2023-12-15T17:51:57.875644Z"
    },
    "papermill": {
     "duration": 0.089869,
     "end_time": "2023-12-15T17:51:57.879634",
     "exception": false,
     "start_time": "2023-12-15T17:51:57.789765",
     "status": "completed"
    },
    "tags": []
   },
   "outputs": [
    {
     "name": "stdout",
     "output_type": "stream",
     "text": [
      "N\n"
     ]
    }
   ],
   "source": [
    "mode = data['store_and_fwd_flag'].mode().iloc[0]\n",
    "print(mode) "
   ]
  },
  {
   "cell_type": "code",
   "execution_count": 47,
   "id": "fbabbcb8",
   "metadata": {
    "execution": {
     "iopub.execute_input": "2023-12-15T17:51:57.992424Z",
     "iopub.status.busy": "2023-12-15T17:51:57.991754Z",
     "iopub.status.idle": "2023-12-15T17:51:58.019837Z",
     "shell.execute_reply": "2023-12-15T17:51:58.018621Z"
    },
    "papermill": {
     "duration": 0.08751,
     "end_time": "2023-12-15T17:51:58.022668",
     "exception": false,
     "start_time": "2023-12-15T17:51:57.935158",
     "status": "completed"
    },
    "tags": []
   },
   "outputs": [],
   "source": [
    "data['store_and_fwd_flag'] = data['store_and_fwd_flag'].fillna(mode)"
   ]
  },
  {
   "cell_type": "code",
   "execution_count": 48,
   "id": "a061bb14",
   "metadata": {
    "execution": {
     "iopub.execute_input": "2023-12-15T17:51:58.135395Z",
     "iopub.status.busy": "2023-12-15T17:51:58.134637Z",
     "iopub.status.idle": "2023-12-15T17:51:58.161489Z",
     "shell.execute_reply": "2023-12-15T17:51:58.160363Z"
    },
    "papermill": {
     "duration": 0.085518,
     "end_time": "2023-12-15T17:51:58.163822",
     "exception": false,
     "start_time": "2023-12-15T17:51:58.078304",
     "status": "completed"
    },
    "tags": []
   },
   "outputs": [
    {
     "data": {
      "text/plain": [
       "0"
      ]
     },
     "execution_count": 48,
     "metadata": {},
     "output_type": "execute_result"
    }
   ],
   "source": [
    "data['store_and_fwd_flag'].isnull().sum()"
   ]
  },
  {
   "cell_type": "code",
   "execution_count": 49,
   "id": "c7ae2af1",
   "metadata": {
    "execution": {
     "iopub.execute_input": "2023-12-15T17:51:58.278679Z",
     "iopub.status.busy": "2023-12-15T17:51:58.278261Z",
     "iopub.status.idle": "2023-12-15T17:51:58.314765Z",
     "shell.execute_reply": "2023-12-15T17:51:58.313397Z"
    },
    "papermill": {
     "duration": 0.097113,
     "end_time": "2023-12-15T17:51:58.317464",
     "exception": false,
     "start_time": "2023-12-15T17:51:58.220351",
     "status": "completed"
    },
    "tags": []
   },
   "outputs": [
    {
     "data": {
      "text/html": [
       "<div>\n",
       "<style scoped>\n",
       "    .dataframe tbody tr th:only-of-type {\n",
       "        vertical-align: middle;\n",
       "    }\n",
       "\n",
       "    .dataframe tbody tr th {\n",
       "        vertical-align: top;\n",
       "    }\n",
       "\n",
       "    .dataframe thead th {\n",
       "        text-align: right;\n",
       "    }\n",
       "</style>\n",
       "<table border=\"1\" class=\"dataframe\">\n",
       "  <thead>\n",
       "    <tr style=\"text-align: right;\">\n",
       "      <th></th>\n",
       "      <th>VendorID</th>\n",
       "      <th>tpep_pickup_datetime</th>\n",
       "      <th>tpep_dropoff_datetime</th>\n",
       "      <th>passenger_count</th>\n",
       "      <th>trip_distance</th>\n",
       "      <th>RatecodeID</th>\n",
       "      <th>store_and_fwd_flag</th>\n",
       "      <th>PULocationID</th>\n",
       "      <th>DOLocationID</th>\n",
       "      <th>payment_type</th>\n",
       "      <th>...</th>\n",
       "      <th>tolls_amount</th>\n",
       "      <th>improvement_surcharge</th>\n",
       "      <th>total_amount</th>\n",
       "      <th>congestion_surcharge</th>\n",
       "      <th>Airport_fee</th>\n",
       "      <th>trip_duration</th>\n",
       "      <th>pickup_hour</th>\n",
       "      <th>pickup_dayofweek</th>\n",
       "      <th>time_of_day</th>\n",
       "      <th>day_of_week</th>\n",
       "    </tr>\n",
       "  </thead>\n",
       "  <tbody>\n",
       "    <tr>\n",
       "      <th>0</th>\n",
       "      <td>1</td>\n",
       "      <td>2023-06-28 16:34:45</td>\n",
       "      <td>2023-06-28 17:20:21</td>\n",
       "      <td>1.0</td>\n",
       "      <td>2.14</td>\n",
       "      <td>1.0</td>\n",
       "      <td>N</td>\n",
       "      <td>120</td>\n",
       "      <td>9</td>\n",
       "      <td>Credit Card</td>\n",
       "      <td>...</td>\n",
       "      <td>0.0</td>\n",
       "      <td>1.0</td>\n",
       "      <td>20.64</td>\n",
       "      <td>2.5</td>\n",
       "      <td>0.0</td>\n",
       "      <td>2736.0</td>\n",
       "      <td>16</td>\n",
       "      <td>2</td>\n",
       "      <td>Afternoon</td>\n",
       "      <td>Wednesday</td>\n",
       "    </tr>\n",
       "    <tr>\n",
       "      <th>1</th>\n",
       "      <td>0</td>\n",
       "      <td>2023-06-29 22:01:35</td>\n",
       "      <td>2023-06-29 23:05:01</td>\n",
       "      <td>1.0</td>\n",
       "      <td>2.70</td>\n",
       "      <td>1.0</td>\n",
       "      <td>N</td>\n",
       "      <td>15</td>\n",
       "      <td>215</td>\n",
       "      <td>Credit Card</td>\n",
       "      <td>...</td>\n",
       "      <td>0.0</td>\n",
       "      <td>1.0</td>\n",
       "      <td>25.55</td>\n",
       "      <td>2.5</td>\n",
       "      <td>0.0</td>\n",
       "      <td>3806.0</td>\n",
       "      <td>22</td>\n",
       "      <td>3</td>\n",
       "      <td>Night</td>\n",
       "      <td>Thursday</td>\n",
       "    </tr>\n",
       "    <tr>\n",
       "      <th>2</th>\n",
       "      <td>1</td>\n",
       "      <td>2023-06-30 10:19:31</td>\n",
       "      <td>2023-06-30 11:13:10</td>\n",
       "      <td>1.0</td>\n",
       "      <td>1.15</td>\n",
       "      <td>1.0</td>\n",
       "      <td>N</td>\n",
       "      <td>167</td>\n",
       "      <td>223</td>\n",
       "      <td>Credit Card</td>\n",
       "      <td>...</td>\n",
       "      <td>0.0</td>\n",
       "      <td>1.0</td>\n",
       "      <td>17.64</td>\n",
       "      <td>2.5</td>\n",
       "      <td>0.0</td>\n",
       "      <td>3219.0</td>\n",
       "      <td>10</td>\n",
       "      <td>4</td>\n",
       "      <td>Morning</td>\n",
       "      <td>Friday</td>\n",
       "    </tr>\n",
       "    <tr>\n",
       "      <th>3</th>\n",
       "      <td>0</td>\n",
       "      <td>2023-06-29 13:23:09</td>\n",
       "      <td>2023-06-29 14:20:01</td>\n",
       "      <td>1.0</td>\n",
       "      <td>0.40</td>\n",
       "      <td>1.0</td>\n",
       "      <td>N</td>\n",
       "      <td>128</td>\n",
       "      <td>239</td>\n",
       "      <td>Credit Card</td>\n",
       "      <td>...</td>\n",
       "      <td>0.0</td>\n",
       "      <td>1.0</td>\n",
       "      <td>12.80</td>\n",
       "      <td>2.5</td>\n",
       "      <td>0.0</td>\n",
       "      <td>3412.0</td>\n",
       "      <td>13</td>\n",
       "      <td>3</td>\n",
       "      <td>Afternoon</td>\n",
       "      <td>Thursday</td>\n",
       "    </tr>\n",
       "    <tr>\n",
       "      <th>4</th>\n",
       "      <td>1</td>\n",
       "      <td>2023-06-29 22:03:32</td>\n",
       "      <td>2023-06-29 22:22:22</td>\n",
       "      <td>3.0</td>\n",
       "      <td>1.10</td>\n",
       "      <td>1.0</td>\n",
       "      <td>N</td>\n",
       "      <td>203</td>\n",
       "      <td>52</td>\n",
       "      <td>Credit Card</td>\n",
       "      <td>...</td>\n",
       "      <td>0.0</td>\n",
       "      <td>1.0</td>\n",
       "      <td>18.00</td>\n",
       "      <td>2.5</td>\n",
       "      <td>0.0</td>\n",
       "      <td>1130.0</td>\n",
       "      <td>22</td>\n",
       "      <td>3</td>\n",
       "      <td>Night</td>\n",
       "      <td>Thursday</td>\n",
       "    </tr>\n",
       "  </tbody>\n",
       "</table>\n",
       "<p>5 rows × 22 columns</p>\n",
       "</div>"
      ],
      "text/plain": [
       "   VendorID tpep_pickup_datetime tpep_dropoff_datetime  passenger_count  \\\n",
       "0         1  2023-06-28 16:34:45   2023-06-28 17:20:21              1.0   \n",
       "1         0  2023-06-29 22:01:35   2023-06-29 23:05:01              1.0   \n",
       "2         1  2023-06-30 10:19:31   2023-06-30 11:13:10              1.0   \n",
       "3         0  2023-06-29 13:23:09   2023-06-29 14:20:01              1.0   \n",
       "4         1  2023-06-29 22:03:32   2023-06-29 22:22:22              3.0   \n",
       "\n",
       "   trip_distance  RatecodeID store_and_fwd_flag  PULocationID  DOLocationID  \\\n",
       "0           2.14         1.0                  N           120             9   \n",
       "1           2.70         1.0                  N            15           215   \n",
       "2           1.15         1.0                  N           167           223   \n",
       "3           0.40         1.0                  N           128           239   \n",
       "4           1.10         1.0                  N           203            52   \n",
       "\n",
       "  payment_type  ...  tolls_amount  improvement_surcharge  total_amount  \\\n",
       "0  Credit Card  ...           0.0                    1.0         20.64   \n",
       "1  Credit Card  ...           0.0                    1.0         25.55   \n",
       "2  Credit Card  ...           0.0                    1.0         17.64   \n",
       "3  Credit Card  ...           0.0                    1.0         12.80   \n",
       "4  Credit Card  ...           0.0                    1.0         18.00   \n",
       "\n",
       "   congestion_surcharge  Airport_fee  trip_duration  pickup_hour  \\\n",
       "0                   2.5          0.0         2736.0           16   \n",
       "1                   2.5          0.0         3806.0           22   \n",
       "2                   2.5          0.0         3219.0           10   \n",
       "3                   2.5          0.0         3412.0           13   \n",
       "4                   2.5          0.0         1130.0           22   \n",
       "\n",
       "   pickup_dayofweek  time_of_day  day_of_week  \n",
       "0                 2    Afternoon    Wednesday  \n",
       "1                 3        Night     Thursday  \n",
       "2                 4      Morning       Friday  \n",
       "3                 3    Afternoon     Thursday  \n",
       "4                 3        Night     Thursday  \n",
       "\n",
       "[5 rows x 22 columns]"
      ]
     },
     "execution_count": 49,
     "metadata": {},
     "output_type": "execute_result"
    }
   ],
   "source": [
    "data.head()"
   ]
  },
  {
   "cell_type": "code",
   "execution_count": 50,
   "id": "f590d69b",
   "metadata": {
    "execution": {
     "iopub.execute_input": "2023-12-15T17:51:58.431772Z",
     "iopub.status.busy": "2023-12-15T17:51:58.431115Z",
     "iopub.status.idle": "2023-12-15T17:51:58.456505Z",
     "shell.execute_reply": "2023-12-15T17:51:58.455381Z"
    },
    "papermill": {
     "duration": 0.085914,
     "end_time": "2023-12-15T17:51:58.459207",
     "exception": false,
     "start_time": "2023-12-15T17:51:58.373293",
     "status": "completed"
    },
    "tags": []
   },
   "outputs": [],
   "source": [
    "data = data.drop(['time_of_day','day_of_week'],axis = 1)"
   ]
  },
  {
   "cell_type": "markdown",
   "id": "d88979ad",
   "metadata": {
    "papermill": {
     "duration": 0.056154,
     "end_time": "2023-12-15T17:51:58.571144",
     "exception": false,
     "start_time": "2023-12-15T17:51:58.514990",
     "status": "completed"
    },
    "tags": []
   },
   "source": [
    "## Encoding Categorical variables\n"
   ]
  },
  {
   "cell_type": "code",
   "execution_count": 51,
   "id": "b51e163d",
   "metadata": {
    "execution": {
     "iopub.execute_input": "2023-12-15T17:51:58.684037Z",
     "iopub.status.busy": "2023-12-15T17:51:58.683613Z",
     "iopub.status.idle": "2023-12-15T17:51:58.689482Z",
     "shell.execute_reply": "2023-12-15T17:51:58.688293Z"
    },
    "papermill": {
     "duration": 0.065376,
     "end_time": "2023-12-15T17:51:58.691843",
     "exception": false,
     "start_time": "2023-12-15T17:51:58.626467",
     "status": "completed"
    },
    "tags": []
   },
   "outputs": [],
   "source": [
    "def encode_data(data):\n",
    "    data = pd.get_dummies(data , prefix = ['store_and_fwd_flag','payment_type'])\n",
    "    dummy_columns = data.select_dtypes(include=['bool']).columns.tolist()\n",
    "    data[dummy_columns] = data[dummy_columns].astype(int)\n",
    "    return data  "
   ]
  },
  {
   "cell_type": "code",
   "execution_count": 52,
   "id": "9d3c5dc8",
   "metadata": {
    "execution": {
     "iopub.execute_input": "2023-12-15T17:51:58.805152Z",
     "iopub.status.busy": "2023-12-15T17:51:58.804288Z",
     "iopub.status.idle": "2023-12-15T17:51:58.926011Z",
     "shell.execute_reply": "2023-12-15T17:51:58.924807Z"
    },
    "papermill": {
     "duration": 0.181862,
     "end_time": "2023-12-15T17:51:58.929020",
     "exception": false,
     "start_time": "2023-12-15T17:51:58.747158",
     "status": "completed"
    },
    "tags": []
   },
   "outputs": [],
   "source": [
    "data = encode_data(data) "
   ]
  },
  {
   "cell_type": "code",
   "execution_count": 53,
   "id": "808e16cb",
   "metadata": {
    "execution": {
     "iopub.execute_input": "2023-12-15T17:51:59.044169Z",
     "iopub.status.busy": "2023-12-15T17:51:59.043704Z",
     "iopub.status.idle": "2023-12-15T17:51:59.109841Z",
     "shell.execute_reply": "2023-12-15T17:51:59.108677Z"
    },
    "papermill": {
     "duration": 0.125719,
     "end_time": "2023-12-15T17:51:59.112112",
     "exception": false,
     "start_time": "2023-12-15T17:51:58.986393",
     "status": "completed"
    },
    "tags": []
   },
   "outputs": [
    {
     "data": {
      "text/html": [
       "<div>\n",
       "<style scoped>\n",
       "    .dataframe tbody tr th:only-of-type {\n",
       "        vertical-align: middle;\n",
       "    }\n",
       "\n",
       "    .dataframe tbody tr th {\n",
       "        vertical-align: top;\n",
       "    }\n",
       "\n",
       "    .dataframe thead th {\n",
       "        text-align: right;\n",
       "    }\n",
       "</style>\n",
       "<table border=\"1\" class=\"dataframe\">\n",
       "  <thead>\n",
       "    <tr style=\"text-align: right;\">\n",
       "      <th></th>\n",
       "      <th>VendorID</th>\n",
       "      <th>tpep_pickup_datetime</th>\n",
       "      <th>tpep_dropoff_datetime</th>\n",
       "      <th>passenger_count</th>\n",
       "      <th>trip_distance</th>\n",
       "      <th>RatecodeID</th>\n",
       "      <th>PULocationID</th>\n",
       "      <th>DOLocationID</th>\n",
       "      <th>extra</th>\n",
       "      <th>tip_amount</th>\n",
       "      <th>...</th>\n",
       "      <th>trip_duration</th>\n",
       "      <th>pickup_hour</th>\n",
       "      <th>pickup_dayofweek</th>\n",
       "      <th>store_and_fwd_flag_N</th>\n",
       "      <th>store_and_fwd_flag_Y</th>\n",
       "      <th>payment_type_Cash</th>\n",
       "      <th>payment_type_Credit Card</th>\n",
       "      <th>payment_type_UPI</th>\n",
       "      <th>payment_type_Wallet</th>\n",
       "      <th>payment_type_unknown</th>\n",
       "    </tr>\n",
       "  </thead>\n",
       "  <tbody>\n",
       "    <tr>\n",
       "      <th>0</th>\n",
       "      <td>1</td>\n",
       "      <td>2023-06-28 16:34:45</td>\n",
       "      <td>2023-06-28 17:20:21</td>\n",
       "      <td>1.0</td>\n",
       "      <td>2.14</td>\n",
       "      <td>1.0</td>\n",
       "      <td>120</td>\n",
       "      <td>9</td>\n",
       "      <td>2.5</td>\n",
       "      <td>7.165589</td>\n",
       "      <td>...</td>\n",
       "      <td>2736.0</td>\n",
       "      <td>16</td>\n",
       "      <td>2</td>\n",
       "      <td>1</td>\n",
       "      <td>0</td>\n",
       "      <td>0</td>\n",
       "      <td>1</td>\n",
       "      <td>0</td>\n",
       "      <td>0</td>\n",
       "      <td>0</td>\n",
       "    </tr>\n",
       "    <tr>\n",
       "      <th>1</th>\n",
       "      <td>0</td>\n",
       "      <td>2023-06-29 22:01:35</td>\n",
       "      <td>2023-06-29 23:05:01</td>\n",
       "      <td>1.0</td>\n",
       "      <td>2.70</td>\n",
       "      <td>1.0</td>\n",
       "      <td>15</td>\n",
       "      <td>215</td>\n",
       "      <td>3.5</td>\n",
       "      <td>6.067401</td>\n",
       "      <td>...</td>\n",
       "      <td>3806.0</td>\n",
       "      <td>22</td>\n",
       "      <td>3</td>\n",
       "      <td>1</td>\n",
       "      <td>0</td>\n",
       "      <td>0</td>\n",
       "      <td>1</td>\n",
       "      <td>0</td>\n",
       "      <td>0</td>\n",
       "      <td>0</td>\n",
       "    </tr>\n",
       "    <tr>\n",
       "      <th>2</th>\n",
       "      <td>1</td>\n",
       "      <td>2023-06-30 10:19:31</td>\n",
       "      <td>2023-06-30 11:13:10</td>\n",
       "      <td>1.0</td>\n",
       "      <td>1.15</td>\n",
       "      <td>1.0</td>\n",
       "      <td>167</td>\n",
       "      <td>223</td>\n",
       "      <td>0.0</td>\n",
       "      <td>4.111547</td>\n",
       "      <td>...</td>\n",
       "      <td>3219.0</td>\n",
       "      <td>10</td>\n",
       "      <td>4</td>\n",
       "      <td>1</td>\n",
       "      <td>0</td>\n",
       "      <td>0</td>\n",
       "      <td>1</td>\n",
       "      <td>0</td>\n",
       "      <td>0</td>\n",
       "      <td>0</td>\n",
       "    </tr>\n",
       "    <tr>\n",
       "      <th>3</th>\n",
       "      <td>0</td>\n",
       "      <td>2023-06-29 13:23:09</td>\n",
       "      <td>2023-06-29 14:20:01</td>\n",
       "      <td>1.0</td>\n",
       "      <td>0.40</td>\n",
       "      <td>1.0</td>\n",
       "      <td>128</td>\n",
       "      <td>239</td>\n",
       "      <td>2.5</td>\n",
       "      <td>6.411079</td>\n",
       "      <td>...</td>\n",
       "      <td>3412.0</td>\n",
       "      <td>13</td>\n",
       "      <td>3</td>\n",
       "      <td>1</td>\n",
       "      <td>0</td>\n",
       "      <td>0</td>\n",
       "      <td>1</td>\n",
       "      <td>0</td>\n",
       "      <td>0</td>\n",
       "      <td>0</td>\n",
       "    </tr>\n",
       "    <tr>\n",
       "      <th>4</th>\n",
       "      <td>1</td>\n",
       "      <td>2023-06-29 22:03:32</td>\n",
       "      <td>2023-06-29 22:22:22</td>\n",
       "      <td>3.0</td>\n",
       "      <td>1.10</td>\n",
       "      <td>1.0</td>\n",
       "      <td>203</td>\n",
       "      <td>52</td>\n",
       "      <td>1.0</td>\n",
       "      <td>4.769377</td>\n",
       "      <td>...</td>\n",
       "      <td>1130.0</td>\n",
       "      <td>22</td>\n",
       "      <td>3</td>\n",
       "      <td>1</td>\n",
       "      <td>0</td>\n",
       "      <td>0</td>\n",
       "      <td>1</td>\n",
       "      <td>0</td>\n",
       "      <td>0</td>\n",
       "      <td>0</td>\n",
       "    </tr>\n",
       "    <tr>\n",
       "      <th>...</th>\n",
       "      <td>...</td>\n",
       "      <td>...</td>\n",
       "      <td>...</td>\n",
       "      <td>...</td>\n",
       "      <td>...</td>\n",
       "      <td>...</td>\n",
       "      <td>...</td>\n",
       "      <td>...</td>\n",
       "      <td>...</td>\n",
       "      <td>...</td>\n",
       "      <td>...</td>\n",
       "      <td>...</td>\n",
       "      <td>...</td>\n",
       "      <td>...</td>\n",
       "      <td>...</td>\n",
       "      <td>...</td>\n",
       "      <td>...</td>\n",
       "      <td>...</td>\n",
       "      <td>...</td>\n",
       "      <td>...</td>\n",
       "      <td>...</td>\n",
       "    </tr>\n",
       "    <tr>\n",
       "      <th>174995</th>\n",
       "      <td>1</td>\n",
       "      <td>2023-06-30 22:22:22</td>\n",
       "      <td>2023-06-30 22:50:57</td>\n",
       "      <td>3.0</td>\n",
       "      <td>3.45</td>\n",
       "      <td>1.0</td>\n",
       "      <td>147</td>\n",
       "      <td>167</td>\n",
       "      <td>1.0</td>\n",
       "      <td>8.732495</td>\n",
       "      <td>...</td>\n",
       "      <td>1715.0</td>\n",
       "      <td>22</td>\n",
       "      <td>4</td>\n",
       "      <td>1</td>\n",
       "      <td>0</td>\n",
       "      <td>0</td>\n",
       "      <td>1</td>\n",
       "      <td>0</td>\n",
       "      <td>0</td>\n",
       "      <td>0</td>\n",
       "    </tr>\n",
       "    <tr>\n",
       "      <th>174996</th>\n",
       "      <td>1</td>\n",
       "      <td>2023-06-30 13:03:33</td>\n",
       "      <td>2023-06-30 14:04:57</td>\n",
       "      <td>1.0</td>\n",
       "      <td>9.44</td>\n",
       "      <td>1.0</td>\n",
       "      <td>154</td>\n",
       "      <td>191</td>\n",
       "      <td>5.0</td>\n",
       "      <td>0.283275</td>\n",
       "      <td>...</td>\n",
       "      <td>3684.0</td>\n",
       "      <td>13</td>\n",
       "      <td>4</td>\n",
       "      <td>1</td>\n",
       "      <td>0</td>\n",
       "      <td>1</td>\n",
       "      <td>0</td>\n",
       "      <td>0</td>\n",
       "      <td>0</td>\n",
       "      <td>0</td>\n",
       "    </tr>\n",
       "    <tr>\n",
       "      <th>174997</th>\n",
       "      <td>0</td>\n",
       "      <td>2023-06-29 11:03:32</td>\n",
       "      <td>2023-06-29 12:13:34</td>\n",
       "      <td>1.0</td>\n",
       "      <td>2.40</td>\n",
       "      <td>1.0</td>\n",
       "      <td>168</td>\n",
       "      <td>106</td>\n",
       "      <td>2.5</td>\n",
       "      <td>4.245354</td>\n",
       "      <td>...</td>\n",
       "      <td>4202.0</td>\n",
       "      <td>11</td>\n",
       "      <td>3</td>\n",
       "      <td>1</td>\n",
       "      <td>0</td>\n",
       "      <td>0</td>\n",
       "      <td>1</td>\n",
       "      <td>0</td>\n",
       "      <td>0</td>\n",
       "      <td>0</td>\n",
       "    </tr>\n",
       "    <tr>\n",
       "      <th>174998</th>\n",
       "      <td>1</td>\n",
       "      <td>2023-06-29 19:08:55</td>\n",
       "      <td>2023-06-29 19:47:17</td>\n",
       "      <td>1.0</td>\n",
       "      <td>4.71</td>\n",
       "      <td>1.0</td>\n",
       "      <td>240</td>\n",
       "      <td>100</td>\n",
       "      <td>2.5</td>\n",
       "      <td>10.479776</td>\n",
       "      <td>...</td>\n",
       "      <td>2302.0</td>\n",
       "      <td>19</td>\n",
       "      <td>3</td>\n",
       "      <td>1</td>\n",
       "      <td>0</td>\n",
       "      <td>0</td>\n",
       "      <td>1</td>\n",
       "      <td>0</td>\n",
       "      <td>0</td>\n",
       "      <td>0</td>\n",
       "    </tr>\n",
       "    <tr>\n",
       "      <th>174999</th>\n",
       "      <td>1</td>\n",
       "      <td>2023-06-30 21:26:43</td>\n",
       "      <td>2023-06-30 22:54:42</td>\n",
       "      <td>1.0</td>\n",
       "      <td>1.01</td>\n",
       "      <td>1.0</td>\n",
       "      <td>153</td>\n",
       "      <td>72</td>\n",
       "      <td>1.0</td>\n",
       "      <td>6.541699</td>\n",
       "      <td>...</td>\n",
       "      <td>5279.0</td>\n",
       "      <td>21</td>\n",
       "      <td>4</td>\n",
       "      <td>1</td>\n",
       "      <td>0</td>\n",
       "      <td>0</td>\n",
       "      <td>1</td>\n",
       "      <td>0</td>\n",
       "      <td>0</td>\n",
       "      <td>0</td>\n",
       "    </tr>\n",
       "  </tbody>\n",
       "</table>\n",
       "<p>175000 rows × 25 columns</p>\n",
       "</div>"
      ],
      "text/plain": [
       "        VendorID tpep_pickup_datetime tpep_dropoff_datetime  passenger_count  \\\n",
       "0              1  2023-06-28 16:34:45   2023-06-28 17:20:21              1.0   \n",
       "1              0  2023-06-29 22:01:35   2023-06-29 23:05:01              1.0   \n",
       "2              1  2023-06-30 10:19:31   2023-06-30 11:13:10              1.0   \n",
       "3              0  2023-06-29 13:23:09   2023-06-29 14:20:01              1.0   \n",
       "4              1  2023-06-29 22:03:32   2023-06-29 22:22:22              3.0   \n",
       "...          ...                  ...                   ...              ...   \n",
       "174995         1  2023-06-30 22:22:22   2023-06-30 22:50:57              3.0   \n",
       "174996         1  2023-06-30 13:03:33   2023-06-30 14:04:57              1.0   \n",
       "174997         0  2023-06-29 11:03:32   2023-06-29 12:13:34              1.0   \n",
       "174998         1  2023-06-29 19:08:55   2023-06-29 19:47:17              1.0   \n",
       "174999         1  2023-06-30 21:26:43   2023-06-30 22:54:42              1.0   \n",
       "\n",
       "        trip_distance  RatecodeID  PULocationID  DOLocationID  extra  \\\n",
       "0                2.14         1.0           120             9    2.5   \n",
       "1                2.70         1.0            15           215    3.5   \n",
       "2                1.15         1.0           167           223    0.0   \n",
       "3                0.40         1.0           128           239    2.5   \n",
       "4                1.10         1.0           203            52    1.0   \n",
       "...               ...         ...           ...           ...    ...   \n",
       "174995           3.45         1.0           147           167    1.0   \n",
       "174996           9.44         1.0           154           191    5.0   \n",
       "174997           2.40         1.0           168           106    2.5   \n",
       "174998           4.71         1.0           240           100    2.5   \n",
       "174999           1.01         1.0           153            72    1.0   \n",
       "\n",
       "        tip_amount  ...  trip_duration  pickup_hour  pickup_dayofweek  \\\n",
       "0         7.165589  ...         2736.0           16                 2   \n",
       "1         6.067401  ...         3806.0           22                 3   \n",
       "2         4.111547  ...         3219.0           10                 4   \n",
       "3         6.411079  ...         3412.0           13                 3   \n",
       "4         4.769377  ...         1130.0           22                 3   \n",
       "...            ...  ...            ...          ...               ...   \n",
       "174995    8.732495  ...         1715.0           22                 4   \n",
       "174996    0.283275  ...         3684.0           13                 4   \n",
       "174997    4.245354  ...         4202.0           11                 3   \n",
       "174998   10.479776  ...         2302.0           19                 3   \n",
       "174999    6.541699  ...         5279.0           21                 4   \n",
       "\n",
       "        store_and_fwd_flag_N  store_and_fwd_flag_Y  payment_type_Cash  \\\n",
       "0                          1                     0                  0   \n",
       "1                          1                     0                  0   \n",
       "2                          1                     0                  0   \n",
       "3                          1                     0                  0   \n",
       "4                          1                     0                  0   \n",
       "...                      ...                   ...                ...   \n",
       "174995                     1                     0                  0   \n",
       "174996                     1                     0                  1   \n",
       "174997                     1                     0                  0   \n",
       "174998                     1                     0                  0   \n",
       "174999                     1                     0                  0   \n",
       "\n",
       "        payment_type_Credit Card  payment_type_UPI  payment_type_Wallet  \\\n",
       "0                              1                 0                    0   \n",
       "1                              1                 0                    0   \n",
       "2                              1                 0                    0   \n",
       "3                              1                 0                    0   \n",
       "4                              1                 0                    0   \n",
       "...                          ...               ...                  ...   \n",
       "174995                         1                 0                    0   \n",
       "174996                         0                 0                    0   \n",
       "174997                         1                 0                    0   \n",
       "174998                         1                 0                    0   \n",
       "174999                         1                 0                    0   \n",
       "\n",
       "        payment_type_unknown  \n",
       "0                          0  \n",
       "1                          0  \n",
       "2                          0  \n",
       "3                          0  \n",
       "4                          0  \n",
       "...                      ...  \n",
       "174995                     0  \n",
       "174996                     0  \n",
       "174997                     0  \n",
       "174998                     0  \n",
       "174999                     0  \n",
       "\n",
       "[175000 rows x 25 columns]"
      ]
     },
     "execution_count": 53,
     "metadata": {},
     "output_type": "execute_result"
    }
   ],
   "source": [
    "data"
   ]
  },
  {
   "cell_type": "markdown",
   "id": "6bf453b3",
   "metadata": {
    "papermill": {
     "duration": 0.056808,
     "end_time": "2023-12-15T17:51:59.228110",
     "exception": false,
     "start_time": "2023-12-15T17:51:59.171302",
     "status": "completed"
    },
    "tags": []
   },
   "source": [
    "## Scaling Numerical Columns"
   ]
  },
  {
   "cell_type": "code",
   "execution_count": 54,
   "id": "d5951e2e",
   "metadata": {
    "execution": {
     "iopub.execute_input": "2023-12-15T17:51:59.343395Z",
     "iopub.status.busy": "2023-12-15T17:51:59.342914Z",
     "iopub.status.idle": "2023-12-15T17:51:59.347959Z",
     "shell.execute_reply": "2023-12-15T17:51:59.346800Z"
    },
    "papermill": {
     "duration": 0.065545,
     "end_time": "2023-12-15T17:51:59.350534",
     "exception": false,
     "start_time": "2023-12-15T17:51:59.284989",
     "status": "completed"
    },
    "tags": []
   },
   "outputs": [],
   "source": [
    "from sklearn.preprocessing import MinMaxScaler , StandardScaler\n",
    "scaler = StandardScaler() "
   ]
  },
  {
   "cell_type": "code",
   "execution_count": 55,
   "id": "08420c3a",
   "metadata": {
    "execution": {
     "iopub.execute_input": "2023-12-15T17:51:59.467634Z",
     "iopub.status.busy": "2023-12-15T17:51:59.467164Z",
     "iopub.status.idle": "2023-12-15T17:51:59.472704Z",
     "shell.execute_reply": "2023-12-15T17:51:59.471566Z"
    },
    "papermill": {
     "duration": 0.068268,
     "end_time": "2023-12-15T17:51:59.475083",
     "exception": false,
     "start_time": "2023-12-15T17:51:59.406815",
     "status": "completed"
    },
    "tags": []
   },
   "outputs": [],
   "source": [
    "continuous_columns = ['trip_distance' , 'extra' , 'tolls_amount' , 'trip_duration' , 'improvement_surcharge' , 'congestion_surcharge' , 'Airport_fee']"
   ]
  },
  {
   "cell_type": "code",
   "execution_count": 56,
   "id": "1d753f3a",
   "metadata": {
    "execution": {
     "iopub.execute_input": "2023-12-15T17:51:59.590061Z",
     "iopub.status.busy": "2023-12-15T17:51:59.589647Z",
     "iopub.status.idle": "2023-12-15T17:51:59.609881Z",
     "shell.execute_reply": "2023-12-15T17:51:59.608721Z"
    },
    "papermill": {
     "duration": 0.080679,
     "end_time": "2023-12-15T17:51:59.612404",
     "exception": false,
     "start_time": "2023-12-15T17:51:59.531725",
     "status": "completed"
    },
    "tags": []
   },
   "outputs": [
    {
     "data": {
      "text/html": [
       "<style>#sk-container-id-3 {color: black;background-color: white;}#sk-container-id-3 pre{padding: 0;}#sk-container-id-3 div.sk-toggleable {background-color: white;}#sk-container-id-3 label.sk-toggleable__label {cursor: pointer;display: block;width: 100%;margin-bottom: 0;padding: 0.3em;box-sizing: border-box;text-align: center;}#sk-container-id-3 label.sk-toggleable__label-arrow:before {content: \"▸\";float: left;margin-right: 0.25em;color: #696969;}#sk-container-id-3 label.sk-toggleable__label-arrow:hover:before {color: black;}#sk-container-id-3 div.sk-estimator:hover label.sk-toggleable__label-arrow:before {color: black;}#sk-container-id-3 div.sk-toggleable__content {max-height: 0;max-width: 0;overflow: hidden;text-align: left;background-color: #f0f8ff;}#sk-container-id-3 div.sk-toggleable__content pre {margin: 0.2em;color: black;border-radius: 0.25em;background-color: #f0f8ff;}#sk-container-id-3 input.sk-toggleable__control:checked~div.sk-toggleable__content {max-height: 200px;max-width: 100%;overflow: auto;}#sk-container-id-3 input.sk-toggleable__control:checked~label.sk-toggleable__label-arrow:before {content: \"▾\";}#sk-container-id-3 div.sk-estimator input.sk-toggleable__control:checked~label.sk-toggleable__label {background-color: #d4ebff;}#sk-container-id-3 div.sk-label input.sk-toggleable__control:checked~label.sk-toggleable__label {background-color: #d4ebff;}#sk-container-id-3 input.sk-hidden--visually {border: 0;clip: rect(1px 1px 1px 1px);clip: rect(1px, 1px, 1px, 1px);height: 1px;margin: -1px;overflow: hidden;padding: 0;position: absolute;width: 1px;}#sk-container-id-3 div.sk-estimator {font-family: monospace;background-color: #f0f8ff;border: 1px dotted black;border-radius: 0.25em;box-sizing: border-box;margin-bottom: 0.5em;}#sk-container-id-3 div.sk-estimator:hover {background-color: #d4ebff;}#sk-container-id-3 div.sk-parallel-item::after {content: \"\";width: 100%;border-bottom: 1px solid gray;flex-grow: 1;}#sk-container-id-3 div.sk-label:hover label.sk-toggleable__label {background-color: #d4ebff;}#sk-container-id-3 div.sk-serial::before {content: \"\";position: absolute;border-left: 1px solid gray;box-sizing: border-box;top: 0;bottom: 0;left: 50%;z-index: 0;}#sk-container-id-3 div.sk-serial {display: flex;flex-direction: column;align-items: center;background-color: white;padding-right: 0.2em;padding-left: 0.2em;position: relative;}#sk-container-id-3 div.sk-item {position: relative;z-index: 1;}#sk-container-id-3 div.sk-parallel {display: flex;align-items: stretch;justify-content: center;background-color: white;position: relative;}#sk-container-id-3 div.sk-item::before, #sk-container-id-3 div.sk-parallel-item::before {content: \"\";position: absolute;border-left: 1px solid gray;box-sizing: border-box;top: 0;bottom: 0;left: 50%;z-index: -1;}#sk-container-id-3 div.sk-parallel-item {display: flex;flex-direction: column;z-index: 1;position: relative;background-color: white;}#sk-container-id-3 div.sk-parallel-item:first-child::after {align-self: flex-end;width: 50%;}#sk-container-id-3 div.sk-parallel-item:last-child::after {align-self: flex-start;width: 50%;}#sk-container-id-3 div.sk-parallel-item:only-child::after {width: 0;}#sk-container-id-3 div.sk-dashed-wrapped {border: 1px dashed gray;margin: 0 0.4em 0.5em 0.4em;box-sizing: border-box;padding-bottom: 0.4em;background-color: white;}#sk-container-id-3 div.sk-label label {font-family: monospace;font-weight: bold;display: inline-block;line-height: 1.2em;}#sk-container-id-3 div.sk-label-container {text-align: center;}#sk-container-id-3 div.sk-container {/* jupyter's `normalize.less` sets `[hidden] { display: none; }` but bootstrap.min.css set `[hidden] { display: none !important; }` so we also need the `!important` here to be able to override the default hidden behavior on the sphinx rendered scikit-learn.org. See: https://github.com/scikit-learn/scikit-learn/issues/21755 */display: inline-block !important;position: relative;}#sk-container-id-3 div.sk-text-repr-fallback {display: none;}</style><div id=\"sk-container-id-3\" class=\"sk-top-container\"><div class=\"sk-text-repr-fallback\"><pre>StandardScaler()</pre><b>In a Jupyter environment, please rerun this cell to show the HTML representation or trust the notebook. <br />On GitHub, the HTML representation is unable to render, please try loading this page with nbviewer.org.</b></div><div class=\"sk-container\" hidden><div class=\"sk-item\"><div class=\"sk-estimator sk-toggleable\"><input class=\"sk-toggleable__control sk-hidden--visually\" id=\"sk-estimator-id-3\" type=\"checkbox\" checked><label for=\"sk-estimator-id-3\" class=\"sk-toggleable__label sk-toggleable__label-arrow\">StandardScaler</label><div class=\"sk-toggleable__content\"><pre>StandardScaler()</pre></div></div></div></div></div>"
      ],
      "text/plain": [
       "StandardScaler()"
      ]
     },
     "execution_count": 56,
     "metadata": {},
     "output_type": "execute_result"
    }
   ],
   "source": [
    "scaler.fit(data[continuous_columns])"
   ]
  },
  {
   "cell_type": "code",
   "execution_count": 57,
   "id": "8f9b629e",
   "metadata": {
    "execution": {
     "iopub.execute_input": "2023-12-15T17:51:59.726707Z",
     "iopub.status.busy": "2023-12-15T17:51:59.726322Z",
     "iopub.status.idle": "2023-12-15T17:51:59.744738Z",
     "shell.execute_reply": "2023-12-15T17:51:59.743506Z"
    },
    "papermill": {
     "duration": 0.078873,
     "end_time": "2023-12-15T17:51:59.747591",
     "exception": false,
     "start_time": "2023-12-15T17:51:59.668718",
     "status": "completed"
    },
    "tags": []
   },
   "outputs": [],
   "source": [
    "data[continuous_columns] = scaler.transform(data[continuous_columns]) "
   ]
  },
  {
   "cell_type": "code",
   "execution_count": 58,
   "id": "13120065",
   "metadata": {
    "execution": {
     "iopub.execute_input": "2023-12-15T17:51:59.863436Z",
     "iopub.status.busy": "2023-12-15T17:51:59.863046Z",
     "iopub.status.idle": "2023-12-15T17:51:59.892013Z",
     "shell.execute_reply": "2023-12-15T17:51:59.891178Z"
    },
    "papermill": {
     "duration": 0.090014,
     "end_time": "2023-12-15T17:51:59.894097",
     "exception": false,
     "start_time": "2023-12-15T17:51:59.804083",
     "status": "completed"
    },
    "tags": []
   },
   "outputs": [
    {
     "data": {
      "text/html": [
       "<div>\n",
       "<style scoped>\n",
       "    .dataframe tbody tr th:only-of-type {\n",
       "        vertical-align: middle;\n",
       "    }\n",
       "\n",
       "    .dataframe tbody tr th {\n",
       "        vertical-align: top;\n",
       "    }\n",
       "\n",
       "    .dataframe thead th {\n",
       "        text-align: right;\n",
       "    }\n",
       "</style>\n",
       "<table border=\"1\" class=\"dataframe\">\n",
       "  <thead>\n",
       "    <tr style=\"text-align: right;\">\n",
       "      <th></th>\n",
       "      <th>VendorID</th>\n",
       "      <th>tpep_pickup_datetime</th>\n",
       "      <th>tpep_dropoff_datetime</th>\n",
       "      <th>passenger_count</th>\n",
       "      <th>trip_distance</th>\n",
       "      <th>RatecodeID</th>\n",
       "      <th>PULocationID</th>\n",
       "      <th>DOLocationID</th>\n",
       "      <th>extra</th>\n",
       "      <th>tip_amount</th>\n",
       "      <th>...</th>\n",
       "      <th>trip_duration</th>\n",
       "      <th>pickup_hour</th>\n",
       "      <th>pickup_dayofweek</th>\n",
       "      <th>store_and_fwd_flag_N</th>\n",
       "      <th>store_and_fwd_flag_Y</th>\n",
       "      <th>payment_type_Cash</th>\n",
       "      <th>payment_type_Credit Card</th>\n",
       "      <th>payment_type_UPI</th>\n",
       "      <th>payment_type_Wallet</th>\n",
       "      <th>payment_type_unknown</th>\n",
       "    </tr>\n",
       "  </thead>\n",
       "  <tbody>\n",
       "    <tr>\n",
       "      <th>0</th>\n",
       "      <td>1</td>\n",
       "      <td>2023-06-28 16:34:45</td>\n",
       "      <td>2023-06-28 17:20:21</td>\n",
       "      <td>1.0</td>\n",
       "      <td>-0.007611</td>\n",
       "      <td>1.0</td>\n",
       "      <td>120</td>\n",
       "      <td>9</td>\n",
       "      <td>0.291434</td>\n",
       "      <td>7.165589</td>\n",
       "      <td>...</td>\n",
       "      <td>0.021906</td>\n",
       "      <td>16</td>\n",
       "      <td>2</td>\n",
       "      <td>1</td>\n",
       "      <td>0</td>\n",
       "      <td>0</td>\n",
       "      <td>1</td>\n",
       "      <td>0</td>\n",
       "      <td>0</td>\n",
       "      <td>0</td>\n",
       "    </tr>\n",
       "    <tr>\n",
       "      <th>1</th>\n",
       "      <td>0</td>\n",
       "      <td>2023-06-29 22:01:35</td>\n",
       "      <td>2023-06-29 23:05:01</td>\n",
       "      <td>1.0</td>\n",
       "      <td>-0.006193</td>\n",
       "      <td>1.0</td>\n",
       "      <td>15</td>\n",
       "      <td>215</td>\n",
       "      <td>0.804651</td>\n",
       "      <td>6.067401</td>\n",
       "      <td>...</td>\n",
       "      <td>0.401221</td>\n",
       "      <td>22</td>\n",
       "      <td>3</td>\n",
       "      <td>1</td>\n",
       "      <td>0</td>\n",
       "      <td>0</td>\n",
       "      <td>1</td>\n",
       "      <td>0</td>\n",
       "      <td>0</td>\n",
       "      <td>0</td>\n",
       "    </tr>\n",
       "    <tr>\n",
       "      <th>2</th>\n",
       "      <td>1</td>\n",
       "      <td>2023-06-30 10:19:31</td>\n",
       "      <td>2023-06-30 11:13:10</td>\n",
       "      <td>1.0</td>\n",
       "      <td>-0.010117</td>\n",
       "      <td>1.0</td>\n",
       "      <td>167</td>\n",
       "      <td>223</td>\n",
       "      <td>-0.991610</td>\n",
       "      <td>4.111547</td>\n",
       "      <td>...</td>\n",
       "      <td>0.193129</td>\n",
       "      <td>10</td>\n",
       "      <td>4</td>\n",
       "      <td>1</td>\n",
       "      <td>0</td>\n",
       "      <td>0</td>\n",
       "      <td>1</td>\n",
       "      <td>0</td>\n",
       "      <td>0</td>\n",
       "      <td>0</td>\n",
       "    </tr>\n",
       "    <tr>\n",
       "      <th>3</th>\n",
       "      <td>0</td>\n",
       "      <td>2023-06-29 13:23:09</td>\n",
       "      <td>2023-06-29 14:20:01</td>\n",
       "      <td>1.0</td>\n",
       "      <td>-0.012016</td>\n",
       "      <td>1.0</td>\n",
       "      <td>128</td>\n",
       "      <td>239</td>\n",
       "      <td>0.291434</td>\n",
       "      <td>6.411079</td>\n",
       "      <td>...</td>\n",
       "      <td>0.261548</td>\n",
       "      <td>13</td>\n",
       "      <td>3</td>\n",
       "      <td>1</td>\n",
       "      <td>0</td>\n",
       "      <td>0</td>\n",
       "      <td>1</td>\n",
       "      <td>0</td>\n",
       "      <td>0</td>\n",
       "      <td>0</td>\n",
       "    </tr>\n",
       "    <tr>\n",
       "      <th>4</th>\n",
       "      <td>1</td>\n",
       "      <td>2023-06-29 22:03:32</td>\n",
       "      <td>2023-06-29 22:22:22</td>\n",
       "      <td>3.0</td>\n",
       "      <td>-0.010244</td>\n",
       "      <td>1.0</td>\n",
       "      <td>203</td>\n",
       "      <td>52</td>\n",
       "      <td>-0.478392</td>\n",
       "      <td>4.769377</td>\n",
       "      <td>...</td>\n",
       "      <td>-0.547421</td>\n",
       "      <td>22</td>\n",
       "      <td>3</td>\n",
       "      <td>1</td>\n",
       "      <td>0</td>\n",
       "      <td>0</td>\n",
       "      <td>1</td>\n",
       "      <td>0</td>\n",
       "      <td>0</td>\n",
       "      <td>0</td>\n",
       "    </tr>\n",
       "    <tr>\n",
       "      <th>5</th>\n",
       "      <td>0</td>\n",
       "      <td>2023-06-29 16:29:06</td>\n",
       "      <td>2023-06-29 16:31:14</td>\n",
       "      <td>1.0</td>\n",
       "      <td>-0.013029</td>\n",
       "      <td>99.0</td>\n",
       "      <td>225</td>\n",
       "      <td>256</td>\n",
       "      <td>-0.991610</td>\n",
       "      <td>1.507831</td>\n",
       "      <td>...</td>\n",
       "      <td>-0.902630</td>\n",
       "      <td>16</td>\n",
       "      <td>3</td>\n",
       "      <td>1</td>\n",
       "      <td>0</td>\n",
       "      <td>0</td>\n",
       "      <td>1</td>\n",
       "      <td>0</td>\n",
       "      <td>0</td>\n",
       "      <td>0</td>\n",
       "    </tr>\n",
       "    <tr>\n",
       "      <th>6</th>\n",
       "      <td>1</td>\n",
       "      <td>2023-06-30 11:52:20</td>\n",
       "      <td>2023-06-30 12:54:57</td>\n",
       "      <td>1.0</td>\n",
       "      <td>-0.009661</td>\n",
       "      <td>1.0</td>\n",
       "      <td>214</td>\n",
       "      <td>240</td>\n",
       "      <td>-0.991610</td>\n",
       "      <td>0.094334</td>\n",
       "      <td>...</td>\n",
       "      <td>0.383850</td>\n",
       "      <td>11</td>\n",
       "      <td>4</td>\n",
       "      <td>1</td>\n",
       "      <td>0</td>\n",
       "      <td>1</td>\n",
       "      <td>0</td>\n",
       "      <td>0</td>\n",
       "      <td>0</td>\n",
       "      <td>0</td>\n",
       "    </tr>\n",
       "    <tr>\n",
       "      <th>7</th>\n",
       "      <td>1</td>\n",
       "      <td>2023-06-30 17:16:44</td>\n",
       "      <td>2023-06-30 17:40:34</td>\n",
       "      <td>1.0</td>\n",
       "      <td>-0.011889</td>\n",
       "      <td>1.0</td>\n",
       "      <td>176</td>\n",
       "      <td>227</td>\n",
       "      <td>0.291434</td>\n",
       "      <td>0.727105</td>\n",
       "      <td>...</td>\n",
       "      <td>-0.441071</td>\n",
       "      <td>17</td>\n",
       "      <td>4</td>\n",
       "      <td>1</td>\n",
       "      <td>0</td>\n",
       "      <td>1</td>\n",
       "      <td>0</td>\n",
       "      <td>0</td>\n",
       "      <td>0</td>\n",
       "      <td>0</td>\n",
       "    </tr>\n",
       "    <tr>\n",
       "      <th>8</th>\n",
       "      <td>0</td>\n",
       "      <td>2023-06-30 21:52:44</td>\n",
       "      <td>2023-06-30 21:54:13</td>\n",
       "      <td>3.0</td>\n",
       "      <td>-0.003408</td>\n",
       "      <td>1.0</td>\n",
       "      <td>196</td>\n",
       "      <td>139</td>\n",
       "      <td>0.804651</td>\n",
       "      <td>6.590745</td>\n",
       "      <td>...</td>\n",
       "      <td>-0.916455</td>\n",
       "      <td>21</td>\n",
       "      <td>4</td>\n",
       "      <td>1</td>\n",
       "      <td>0</td>\n",
       "      <td>0</td>\n",
       "      <td>1</td>\n",
       "      <td>0</td>\n",
       "      <td>0</td>\n",
       "      <td>0</td>\n",
       "    </tr>\n",
       "    <tr>\n",
       "      <th>9</th>\n",
       "      <td>1</td>\n",
       "      <td>2023-06-29 09:39:24</td>\n",
       "      <td>2023-06-29 11:12:12</td>\n",
       "      <td>1.0</td>\n",
       "      <td>-0.006699</td>\n",
       "      <td>1.0</td>\n",
       "      <td>138</td>\n",
       "      <td>196</td>\n",
       "      <td>-0.991610</td>\n",
       "      <td>6.091603</td>\n",
       "      <td>...</td>\n",
       "      <td>1.025850</td>\n",
       "      <td>9</td>\n",
       "      <td>3</td>\n",
       "      <td>1</td>\n",
       "      <td>0</td>\n",
       "      <td>0</td>\n",
       "      <td>1</td>\n",
       "      <td>0</td>\n",
       "      <td>0</td>\n",
       "      <td>0</td>\n",
       "    </tr>\n",
       "  </tbody>\n",
       "</table>\n",
       "<p>10 rows × 25 columns</p>\n",
       "</div>"
      ],
      "text/plain": [
       "   VendorID tpep_pickup_datetime tpep_dropoff_datetime  passenger_count  \\\n",
       "0         1  2023-06-28 16:34:45   2023-06-28 17:20:21              1.0   \n",
       "1         0  2023-06-29 22:01:35   2023-06-29 23:05:01              1.0   \n",
       "2         1  2023-06-30 10:19:31   2023-06-30 11:13:10              1.0   \n",
       "3         0  2023-06-29 13:23:09   2023-06-29 14:20:01              1.0   \n",
       "4         1  2023-06-29 22:03:32   2023-06-29 22:22:22              3.0   \n",
       "5         0  2023-06-29 16:29:06   2023-06-29 16:31:14              1.0   \n",
       "6         1  2023-06-30 11:52:20   2023-06-30 12:54:57              1.0   \n",
       "7         1  2023-06-30 17:16:44   2023-06-30 17:40:34              1.0   \n",
       "8         0  2023-06-30 21:52:44   2023-06-30 21:54:13              3.0   \n",
       "9         1  2023-06-29 09:39:24   2023-06-29 11:12:12              1.0   \n",
       "\n",
       "   trip_distance  RatecodeID  PULocationID  DOLocationID     extra  \\\n",
       "0      -0.007611         1.0           120             9  0.291434   \n",
       "1      -0.006193         1.0            15           215  0.804651   \n",
       "2      -0.010117         1.0           167           223 -0.991610   \n",
       "3      -0.012016         1.0           128           239  0.291434   \n",
       "4      -0.010244         1.0           203            52 -0.478392   \n",
       "5      -0.013029        99.0           225           256 -0.991610   \n",
       "6      -0.009661         1.0           214           240 -0.991610   \n",
       "7      -0.011889         1.0           176           227  0.291434   \n",
       "8      -0.003408         1.0           196           139  0.804651   \n",
       "9      -0.006699         1.0           138           196 -0.991610   \n",
       "\n",
       "   tip_amount  ...  trip_duration  pickup_hour  pickup_dayofweek  \\\n",
       "0    7.165589  ...       0.021906           16                 2   \n",
       "1    6.067401  ...       0.401221           22                 3   \n",
       "2    4.111547  ...       0.193129           10                 4   \n",
       "3    6.411079  ...       0.261548           13                 3   \n",
       "4    4.769377  ...      -0.547421           22                 3   \n",
       "5    1.507831  ...      -0.902630           16                 3   \n",
       "6    0.094334  ...       0.383850           11                 4   \n",
       "7    0.727105  ...      -0.441071           17                 4   \n",
       "8    6.590745  ...      -0.916455           21                 4   \n",
       "9    6.091603  ...       1.025850            9                 3   \n",
       "\n",
       "   store_and_fwd_flag_N  store_and_fwd_flag_Y  payment_type_Cash  \\\n",
       "0                     1                     0                  0   \n",
       "1                     1                     0                  0   \n",
       "2                     1                     0                  0   \n",
       "3                     1                     0                  0   \n",
       "4                     1                     0                  0   \n",
       "5                     1                     0                  0   \n",
       "6                     1                     0                  1   \n",
       "7                     1                     0                  1   \n",
       "8                     1                     0                  0   \n",
       "9                     1                     0                  0   \n",
       "\n",
       "   payment_type_Credit Card  payment_type_UPI  payment_type_Wallet  \\\n",
       "0                         1                 0                    0   \n",
       "1                         1                 0                    0   \n",
       "2                         1                 0                    0   \n",
       "3                         1                 0                    0   \n",
       "4                         1                 0                    0   \n",
       "5                         1                 0                    0   \n",
       "6                         0                 0                    0   \n",
       "7                         0                 0                    0   \n",
       "8                         1                 0                    0   \n",
       "9                         1                 0                    0   \n",
       "\n",
       "   payment_type_unknown  \n",
       "0                     0  \n",
       "1                     0  \n",
       "2                     0  \n",
       "3                     0  \n",
       "4                     0  \n",
       "5                     0  \n",
       "6                     0  \n",
       "7                     0  \n",
       "8                     0  \n",
       "9                     0  \n",
       "\n",
       "[10 rows x 25 columns]"
      ]
     },
     "execution_count": 58,
     "metadata": {},
     "output_type": "execute_result"
    }
   ],
   "source": [
    "data.head(10) "
   ]
  },
  {
   "cell_type": "code",
   "execution_count": 59,
   "id": "150702b0",
   "metadata": {
    "execution": {
     "iopub.execute_input": "2023-12-15T17:52:00.011683Z",
     "iopub.status.busy": "2023-12-15T17:52:00.010475Z",
     "iopub.status.idle": "2023-12-15T17:52:00.017448Z",
     "shell.execute_reply": "2023-12-15T17:52:00.016595Z"
    },
    "papermill": {
     "duration": 0.067945,
     "end_time": "2023-12-15T17:52:00.019651",
     "exception": false,
     "start_time": "2023-12-15T17:51:59.951706",
     "status": "completed"
    },
    "tags": []
   },
   "outputs": [
    {
     "data": {
      "text/plain": [
       "Index(['VendorID', 'tpep_pickup_datetime', 'tpep_dropoff_datetime',\n",
       "       'passenger_count', 'trip_distance', 'RatecodeID', 'PULocationID',\n",
       "       'DOLocationID', 'extra', 'tip_amount', 'tolls_amount',\n",
       "       'improvement_surcharge', 'total_amount', 'congestion_surcharge',\n",
       "       'Airport_fee', 'trip_duration', 'pickup_hour', 'pickup_dayofweek',\n",
       "       'store_and_fwd_flag_N', 'store_and_fwd_flag_Y', 'payment_type_Cash',\n",
       "       'payment_type_Credit Card', 'payment_type_UPI', 'payment_type_Wallet',\n",
       "       'payment_type_unknown'],\n",
       "      dtype='object')"
      ]
     },
     "execution_count": 59,
     "metadata": {},
     "output_type": "execute_result"
    }
   ],
   "source": [
    "data.columns"
   ]
  },
  {
   "cell_type": "markdown",
   "id": "a9e32b8a",
   "metadata": {
    "papermill": {
     "duration": 0.057584,
     "end_time": "2023-12-15T17:52:00.135877",
     "exception": false,
     "start_time": "2023-12-15T17:52:00.078293",
     "status": "completed"
    },
    "tags": []
   },
   "source": [
    "## Preparing Data for Model Training"
   ]
  },
  {
   "cell_type": "code",
   "execution_count": 60,
   "id": "f50e65b5",
   "metadata": {
    "execution": {
     "iopub.execute_input": "2023-12-15T17:52:00.315540Z",
     "iopub.status.busy": "2023-12-15T17:52:00.314584Z",
     "iopub.status.idle": "2023-12-15T17:52:00.322361Z",
     "shell.execute_reply": "2023-12-15T17:52:00.321093Z"
    },
    "papermill": {
     "duration": 0.131048,
     "end_time": "2023-12-15T17:52:00.324857",
     "exception": false,
     "start_time": "2023-12-15T17:52:00.193809",
     "status": "completed"
    },
    "tags": []
   },
   "outputs": [],
   "source": [
    "def prepare_data(data):\n",
    "    columns_to_train = ['RatecodeID','passenger_count' , 'trip_distance' , 'PULocationID','DOLocationID',\n",
    "                        'extra' , 'tolls_amount' , 'improvement_surcharge' , 'congestion_surcharge' ,\n",
    "                        'Airport_fee','pickup_hour','trip_duration','pickup_dayofweek','store_and_fwd_flag_N', \n",
    "                        'store_and_fwd_flag_Y','payment_type_Cash','payment_type_Credit Card', 'payment_type_UPI',\n",
    "                        'payment_type_Wallet','payment_type_unknown']\n",
    "    label = data['total_amount'].copy()\n",
    "    data = data[columns_to_train]\n",
    "    return data , label"
   ]
  },
  {
   "cell_type": "code",
   "execution_count": 61,
   "id": "60c06c3e",
   "metadata": {
    "execution": {
     "iopub.execute_input": "2023-12-15T17:52:00.443223Z",
     "iopub.status.busy": "2023-12-15T17:52:00.442455Z",
     "iopub.status.idle": "2023-12-15T17:52:00.460819Z",
     "shell.execute_reply": "2023-12-15T17:52:00.459586Z"
    },
    "papermill": {
     "duration": 0.081266,
     "end_time": "2023-12-15T17:52:00.463611",
     "exception": false,
     "start_time": "2023-12-15T17:52:00.382345",
     "status": "completed"
    },
    "tags": []
   },
   "outputs": [],
   "source": [
    "(data , label) = prepare_data(data)"
   ]
  },
  {
   "cell_type": "code",
   "execution_count": 62,
   "id": "f9523fa8",
   "metadata": {
    "execution": {
     "iopub.execute_input": "2023-12-15T17:52:00.581536Z",
     "iopub.status.busy": "2023-12-15T17:52:00.581066Z",
     "iopub.status.idle": "2023-12-15T17:52:00.608506Z",
     "shell.execute_reply": "2023-12-15T17:52:00.607587Z"
    },
    "papermill": {
     "duration": 0.089462,
     "end_time": "2023-12-15T17:52:00.610702",
     "exception": false,
     "start_time": "2023-12-15T17:52:00.521240",
     "status": "completed"
    },
    "tags": []
   },
   "outputs": [
    {
     "data": {
      "text/html": [
       "<div>\n",
       "<style scoped>\n",
       "    .dataframe tbody tr th:only-of-type {\n",
       "        vertical-align: middle;\n",
       "    }\n",
       "\n",
       "    .dataframe tbody tr th {\n",
       "        vertical-align: top;\n",
       "    }\n",
       "\n",
       "    .dataframe thead th {\n",
       "        text-align: right;\n",
       "    }\n",
       "</style>\n",
       "<table border=\"1\" class=\"dataframe\">\n",
       "  <thead>\n",
       "    <tr style=\"text-align: right;\">\n",
       "      <th></th>\n",
       "      <th>RatecodeID</th>\n",
       "      <th>passenger_count</th>\n",
       "      <th>trip_distance</th>\n",
       "      <th>PULocationID</th>\n",
       "      <th>DOLocationID</th>\n",
       "      <th>extra</th>\n",
       "      <th>tolls_amount</th>\n",
       "      <th>improvement_surcharge</th>\n",
       "      <th>congestion_surcharge</th>\n",
       "      <th>Airport_fee</th>\n",
       "      <th>pickup_hour</th>\n",
       "      <th>trip_duration</th>\n",
       "      <th>pickup_dayofweek</th>\n",
       "      <th>store_and_fwd_flag_N</th>\n",
       "      <th>store_and_fwd_flag_Y</th>\n",
       "      <th>payment_type_Cash</th>\n",
       "      <th>payment_type_Credit Card</th>\n",
       "      <th>payment_type_UPI</th>\n",
       "      <th>payment_type_Wallet</th>\n",
       "      <th>payment_type_unknown</th>\n",
       "    </tr>\n",
       "  </thead>\n",
       "  <tbody>\n",
       "    <tr>\n",
       "      <th>0</th>\n",
       "      <td>1.0</td>\n",
       "      <td>1.0</td>\n",
       "      <td>-0.007611</td>\n",
       "      <td>120</td>\n",
       "      <td>9</td>\n",
       "      <td>0.291434</td>\n",
       "      <td>-0.27781</td>\n",
       "      <td>0.102183</td>\n",
       "      <td>0.314375</td>\n",
       "      <td>-0.315757</td>\n",
       "      <td>16</td>\n",
       "      <td>0.021906</td>\n",
       "      <td>2</td>\n",
       "      <td>1</td>\n",
       "      <td>0</td>\n",
       "      <td>0</td>\n",
       "      <td>1</td>\n",
       "      <td>0</td>\n",
       "      <td>0</td>\n",
       "      <td>0</td>\n",
       "    </tr>\n",
       "    <tr>\n",
       "      <th>1</th>\n",
       "      <td>1.0</td>\n",
       "      <td>1.0</td>\n",
       "      <td>-0.006193</td>\n",
       "      <td>15</td>\n",
       "      <td>215</td>\n",
       "      <td>0.804651</td>\n",
       "      <td>-0.27781</td>\n",
       "      <td>0.102183</td>\n",
       "      <td>0.314375</td>\n",
       "      <td>-0.315757</td>\n",
       "      <td>22</td>\n",
       "      <td>0.401221</td>\n",
       "      <td>3</td>\n",
       "      <td>1</td>\n",
       "      <td>0</td>\n",
       "      <td>0</td>\n",
       "      <td>1</td>\n",
       "      <td>0</td>\n",
       "      <td>0</td>\n",
       "      <td>0</td>\n",
       "    </tr>\n",
       "    <tr>\n",
       "      <th>2</th>\n",
       "      <td>1.0</td>\n",
       "      <td>1.0</td>\n",
       "      <td>-0.010117</td>\n",
       "      <td>167</td>\n",
       "      <td>223</td>\n",
       "      <td>-0.991610</td>\n",
       "      <td>-0.27781</td>\n",
       "      <td>0.102183</td>\n",
       "      <td>0.314375</td>\n",
       "      <td>-0.315757</td>\n",
       "      <td>10</td>\n",
       "      <td>0.193129</td>\n",
       "      <td>4</td>\n",
       "      <td>1</td>\n",
       "      <td>0</td>\n",
       "      <td>0</td>\n",
       "      <td>1</td>\n",
       "      <td>0</td>\n",
       "      <td>0</td>\n",
       "      <td>0</td>\n",
       "    </tr>\n",
       "    <tr>\n",
       "      <th>3</th>\n",
       "      <td>1.0</td>\n",
       "      <td>1.0</td>\n",
       "      <td>-0.012016</td>\n",
       "      <td>128</td>\n",
       "      <td>239</td>\n",
       "      <td>0.291434</td>\n",
       "      <td>-0.27781</td>\n",
       "      <td>0.102183</td>\n",
       "      <td>0.314375</td>\n",
       "      <td>-0.315757</td>\n",
       "      <td>13</td>\n",
       "      <td>0.261548</td>\n",
       "      <td>3</td>\n",
       "      <td>1</td>\n",
       "      <td>0</td>\n",
       "      <td>0</td>\n",
       "      <td>1</td>\n",
       "      <td>0</td>\n",
       "      <td>0</td>\n",
       "      <td>0</td>\n",
       "    </tr>\n",
       "    <tr>\n",
       "      <th>4</th>\n",
       "      <td>1.0</td>\n",
       "      <td>3.0</td>\n",
       "      <td>-0.010244</td>\n",
       "      <td>203</td>\n",
       "      <td>52</td>\n",
       "      <td>-0.478392</td>\n",
       "      <td>-0.27781</td>\n",
       "      <td>0.102183</td>\n",
       "      <td>0.314375</td>\n",
       "      <td>-0.315757</td>\n",
       "      <td>22</td>\n",
       "      <td>-0.547421</td>\n",
       "      <td>3</td>\n",
       "      <td>1</td>\n",
       "      <td>0</td>\n",
       "      <td>0</td>\n",
       "      <td>1</td>\n",
       "      <td>0</td>\n",
       "      <td>0</td>\n",
       "      <td>0</td>\n",
       "    </tr>\n",
       "    <tr>\n",
       "      <th>5</th>\n",
       "      <td>99.0</td>\n",
       "      <td>1.0</td>\n",
       "      <td>-0.013029</td>\n",
       "      <td>225</td>\n",
       "      <td>256</td>\n",
       "      <td>-0.991610</td>\n",
       "      <td>-0.27781</td>\n",
       "      <td>0.102183</td>\n",
       "      <td>-2.791738</td>\n",
       "      <td>-0.315757</td>\n",
       "      <td>16</td>\n",
       "      <td>-0.902630</td>\n",
       "      <td>3</td>\n",
       "      <td>1</td>\n",
       "      <td>0</td>\n",
       "      <td>0</td>\n",
       "      <td>1</td>\n",
       "      <td>0</td>\n",
       "      <td>0</td>\n",
       "      <td>0</td>\n",
       "    </tr>\n",
       "    <tr>\n",
       "      <th>6</th>\n",
       "      <td>1.0</td>\n",
       "      <td>1.0</td>\n",
       "      <td>-0.009661</td>\n",
       "      <td>214</td>\n",
       "      <td>240</td>\n",
       "      <td>-0.991610</td>\n",
       "      <td>-0.27781</td>\n",
       "      <td>0.102183</td>\n",
       "      <td>0.314375</td>\n",
       "      <td>-0.315757</td>\n",
       "      <td>11</td>\n",
       "      <td>0.383850</td>\n",
       "      <td>4</td>\n",
       "      <td>1</td>\n",
       "      <td>0</td>\n",
       "      <td>1</td>\n",
       "      <td>0</td>\n",
       "      <td>0</td>\n",
       "      <td>0</td>\n",
       "      <td>0</td>\n",
       "    </tr>\n",
       "    <tr>\n",
       "      <th>7</th>\n",
       "      <td>1.0</td>\n",
       "      <td>1.0</td>\n",
       "      <td>-0.011889</td>\n",
       "      <td>176</td>\n",
       "      <td>227</td>\n",
       "      <td>0.291434</td>\n",
       "      <td>-0.27781</td>\n",
       "      <td>0.102183</td>\n",
       "      <td>0.314375</td>\n",
       "      <td>-0.315757</td>\n",
       "      <td>17</td>\n",
       "      <td>-0.441071</td>\n",
       "      <td>4</td>\n",
       "      <td>1</td>\n",
       "      <td>0</td>\n",
       "      <td>1</td>\n",
       "      <td>0</td>\n",
       "      <td>0</td>\n",
       "      <td>0</td>\n",
       "      <td>0</td>\n",
       "    </tr>\n",
       "    <tr>\n",
       "      <th>8</th>\n",
       "      <td>1.0</td>\n",
       "      <td>3.0</td>\n",
       "      <td>-0.003408</td>\n",
       "      <td>196</td>\n",
       "      <td>139</td>\n",
       "      <td>0.804651</td>\n",
       "      <td>-0.27781</td>\n",
       "      <td>0.102183</td>\n",
       "      <td>0.314375</td>\n",
       "      <td>-0.315757</td>\n",
       "      <td>21</td>\n",
       "      <td>-0.916455</td>\n",
       "      <td>4</td>\n",
       "      <td>1</td>\n",
       "      <td>0</td>\n",
       "      <td>0</td>\n",
       "      <td>1</td>\n",
       "      <td>0</td>\n",
       "      <td>0</td>\n",
       "      <td>0</td>\n",
       "    </tr>\n",
       "    <tr>\n",
       "      <th>9</th>\n",
       "      <td>1.0</td>\n",
       "      <td>1.0</td>\n",
       "      <td>-0.006699</td>\n",
       "      <td>138</td>\n",
       "      <td>196</td>\n",
       "      <td>-0.991610</td>\n",
       "      <td>-0.27781</td>\n",
       "      <td>0.102183</td>\n",
       "      <td>0.314375</td>\n",
       "      <td>-0.315757</td>\n",
       "      <td>9</td>\n",
       "      <td>1.025850</td>\n",
       "      <td>3</td>\n",
       "      <td>1</td>\n",
       "      <td>0</td>\n",
       "      <td>0</td>\n",
       "      <td>1</td>\n",
       "      <td>0</td>\n",
       "      <td>0</td>\n",
       "      <td>0</td>\n",
       "    </tr>\n",
       "  </tbody>\n",
       "</table>\n",
       "</div>"
      ],
      "text/plain": [
       "   RatecodeID  passenger_count  trip_distance  PULocationID  DOLocationID  \\\n",
       "0         1.0              1.0      -0.007611           120             9   \n",
       "1         1.0              1.0      -0.006193            15           215   \n",
       "2         1.0              1.0      -0.010117           167           223   \n",
       "3         1.0              1.0      -0.012016           128           239   \n",
       "4         1.0              3.0      -0.010244           203            52   \n",
       "5        99.0              1.0      -0.013029           225           256   \n",
       "6         1.0              1.0      -0.009661           214           240   \n",
       "7         1.0              1.0      -0.011889           176           227   \n",
       "8         1.0              3.0      -0.003408           196           139   \n",
       "9         1.0              1.0      -0.006699           138           196   \n",
       "\n",
       "      extra  tolls_amount  improvement_surcharge  congestion_surcharge  \\\n",
       "0  0.291434      -0.27781               0.102183              0.314375   \n",
       "1  0.804651      -0.27781               0.102183              0.314375   \n",
       "2 -0.991610      -0.27781               0.102183              0.314375   \n",
       "3  0.291434      -0.27781               0.102183              0.314375   \n",
       "4 -0.478392      -0.27781               0.102183              0.314375   \n",
       "5 -0.991610      -0.27781               0.102183             -2.791738   \n",
       "6 -0.991610      -0.27781               0.102183              0.314375   \n",
       "7  0.291434      -0.27781               0.102183              0.314375   \n",
       "8  0.804651      -0.27781               0.102183              0.314375   \n",
       "9 -0.991610      -0.27781               0.102183              0.314375   \n",
       "\n",
       "   Airport_fee  pickup_hour  trip_duration  pickup_dayofweek  \\\n",
       "0    -0.315757           16       0.021906                 2   \n",
       "1    -0.315757           22       0.401221                 3   \n",
       "2    -0.315757           10       0.193129                 4   \n",
       "3    -0.315757           13       0.261548                 3   \n",
       "4    -0.315757           22      -0.547421                 3   \n",
       "5    -0.315757           16      -0.902630                 3   \n",
       "6    -0.315757           11       0.383850                 4   \n",
       "7    -0.315757           17      -0.441071                 4   \n",
       "8    -0.315757           21      -0.916455                 4   \n",
       "9    -0.315757            9       1.025850                 3   \n",
       "\n",
       "   store_and_fwd_flag_N  store_and_fwd_flag_Y  payment_type_Cash  \\\n",
       "0                     1                     0                  0   \n",
       "1                     1                     0                  0   \n",
       "2                     1                     0                  0   \n",
       "3                     1                     0                  0   \n",
       "4                     1                     0                  0   \n",
       "5                     1                     0                  0   \n",
       "6                     1                     0                  1   \n",
       "7                     1                     0                  1   \n",
       "8                     1                     0                  0   \n",
       "9                     1                     0                  0   \n",
       "\n",
       "   payment_type_Credit Card  payment_type_UPI  payment_type_Wallet  \\\n",
       "0                         1                 0                    0   \n",
       "1                         1                 0                    0   \n",
       "2                         1                 0                    0   \n",
       "3                         1                 0                    0   \n",
       "4                         1                 0                    0   \n",
       "5                         1                 0                    0   \n",
       "6                         0                 0                    0   \n",
       "7                         0                 0                    0   \n",
       "8                         1                 0                    0   \n",
       "9                         1                 0                    0   \n",
       "\n",
       "   payment_type_unknown  \n",
       "0                     0  \n",
       "1                     0  \n",
       "2                     0  \n",
       "3                     0  \n",
       "4                     0  \n",
       "5                     0  \n",
       "6                     0  \n",
       "7                     0  \n",
       "8                     0  \n",
       "9                     0  "
      ]
     },
     "execution_count": 62,
     "metadata": {},
     "output_type": "execute_result"
    }
   ],
   "source": [
    "data.head(10)"
   ]
  },
  {
   "cell_type": "code",
   "execution_count": 63,
   "id": "1992e8f3",
   "metadata": {
    "execution": {
     "iopub.execute_input": "2023-12-15T17:52:00.730184Z",
     "iopub.status.busy": "2023-12-15T17:52:00.729340Z",
     "iopub.status.idle": "2023-12-15T17:52:00.799418Z",
     "shell.execute_reply": "2023-12-15T17:52:00.797725Z"
    },
    "papermill": {
     "duration": 0.133209,
     "end_time": "2023-12-15T17:52:00.802102",
     "exception": false,
     "start_time": "2023-12-15T17:52:00.668893",
     "status": "completed"
    },
    "tags": []
   },
   "outputs": [
    {
     "name": "stdout",
     "output_type": "stream",
     "text": [
      "Shape of trianing data: (140000, 20)\n",
      "Shape of test data: (35000, 20)\n",
      "Shape of trianing label: (140000,)\n",
      "Shape of test label: (35000,)\n"
     ]
    }
   ],
   "source": [
    "from sklearn.model_selection import train_test_split\n",
    "X_train , X_test , y_train , y_test = train_test_split(data , label , test_size = 0.2, random_state = 43)\n",
    "print(\"Shape of trianing data:\", X_train.shape)\n",
    "print(\"Shape of test data:\", X_test.shape)\n",
    "print(\"Shape of trianing label:\", y_train.shape)\n",
    "print(\"Shape of test label:\", y_test.shape)"
   ]
  },
  {
   "cell_type": "markdown",
   "id": "304baae0",
   "metadata": {
    "papermill": {
     "duration": 0.059295,
     "end_time": "2023-12-15T17:52:00.920230",
     "exception": false,
     "start_time": "2023-12-15T17:52:00.860935",
     "status": "completed"
    },
    "tags": []
   },
   "source": [
    "## Linear Regression"
   ]
  },
  {
   "cell_type": "code",
   "execution_count": 64,
   "id": "3c9e6ea4",
   "metadata": {
    "execution": {
     "iopub.execute_input": "2023-12-15T17:52:01.039687Z",
     "iopub.status.busy": "2023-12-15T17:52:01.039285Z",
     "iopub.status.idle": "2023-12-15T17:52:01.244756Z",
     "shell.execute_reply": "2023-12-15T17:52:01.243120Z"
    },
    "papermill": {
     "duration": 0.269919,
     "end_time": "2023-12-15T17:52:01.248921",
     "exception": false,
     "start_time": "2023-12-15T17:52:00.979002",
     "status": "completed"
    },
    "tags": []
   },
   "outputs": [
    {
     "data": {
      "text/html": [
       "<style>#sk-container-id-4 {color: black;background-color: white;}#sk-container-id-4 pre{padding: 0;}#sk-container-id-4 div.sk-toggleable {background-color: white;}#sk-container-id-4 label.sk-toggleable__label {cursor: pointer;display: block;width: 100%;margin-bottom: 0;padding: 0.3em;box-sizing: border-box;text-align: center;}#sk-container-id-4 label.sk-toggleable__label-arrow:before {content: \"▸\";float: left;margin-right: 0.25em;color: #696969;}#sk-container-id-4 label.sk-toggleable__label-arrow:hover:before {color: black;}#sk-container-id-4 div.sk-estimator:hover label.sk-toggleable__label-arrow:before {color: black;}#sk-container-id-4 div.sk-toggleable__content {max-height: 0;max-width: 0;overflow: hidden;text-align: left;background-color: #f0f8ff;}#sk-container-id-4 div.sk-toggleable__content pre {margin: 0.2em;color: black;border-radius: 0.25em;background-color: #f0f8ff;}#sk-container-id-4 input.sk-toggleable__control:checked~div.sk-toggleable__content {max-height: 200px;max-width: 100%;overflow: auto;}#sk-container-id-4 input.sk-toggleable__control:checked~label.sk-toggleable__label-arrow:before {content: \"▾\";}#sk-container-id-4 div.sk-estimator input.sk-toggleable__control:checked~label.sk-toggleable__label {background-color: #d4ebff;}#sk-container-id-4 div.sk-label input.sk-toggleable__control:checked~label.sk-toggleable__label {background-color: #d4ebff;}#sk-container-id-4 input.sk-hidden--visually {border: 0;clip: rect(1px 1px 1px 1px);clip: rect(1px, 1px, 1px, 1px);height: 1px;margin: -1px;overflow: hidden;padding: 0;position: absolute;width: 1px;}#sk-container-id-4 div.sk-estimator {font-family: monospace;background-color: #f0f8ff;border: 1px dotted black;border-radius: 0.25em;box-sizing: border-box;margin-bottom: 0.5em;}#sk-container-id-4 div.sk-estimator:hover {background-color: #d4ebff;}#sk-container-id-4 div.sk-parallel-item::after {content: \"\";width: 100%;border-bottom: 1px solid gray;flex-grow: 1;}#sk-container-id-4 div.sk-label:hover label.sk-toggleable__label {background-color: #d4ebff;}#sk-container-id-4 div.sk-serial::before {content: \"\";position: absolute;border-left: 1px solid gray;box-sizing: border-box;top: 0;bottom: 0;left: 50%;z-index: 0;}#sk-container-id-4 div.sk-serial {display: flex;flex-direction: column;align-items: center;background-color: white;padding-right: 0.2em;padding-left: 0.2em;position: relative;}#sk-container-id-4 div.sk-item {position: relative;z-index: 1;}#sk-container-id-4 div.sk-parallel {display: flex;align-items: stretch;justify-content: center;background-color: white;position: relative;}#sk-container-id-4 div.sk-item::before, #sk-container-id-4 div.sk-parallel-item::before {content: \"\";position: absolute;border-left: 1px solid gray;box-sizing: border-box;top: 0;bottom: 0;left: 50%;z-index: -1;}#sk-container-id-4 div.sk-parallel-item {display: flex;flex-direction: column;z-index: 1;position: relative;background-color: white;}#sk-container-id-4 div.sk-parallel-item:first-child::after {align-self: flex-end;width: 50%;}#sk-container-id-4 div.sk-parallel-item:last-child::after {align-self: flex-start;width: 50%;}#sk-container-id-4 div.sk-parallel-item:only-child::after {width: 0;}#sk-container-id-4 div.sk-dashed-wrapped {border: 1px dashed gray;margin: 0 0.4em 0.5em 0.4em;box-sizing: border-box;padding-bottom: 0.4em;background-color: white;}#sk-container-id-4 div.sk-label label {font-family: monospace;font-weight: bold;display: inline-block;line-height: 1.2em;}#sk-container-id-4 div.sk-label-container {text-align: center;}#sk-container-id-4 div.sk-container {/* jupyter's `normalize.less` sets `[hidden] { display: none; }` but bootstrap.min.css set `[hidden] { display: none !important; }` so we also need the `!important` here to be able to override the default hidden behavior on the sphinx rendered scikit-learn.org. See: https://github.com/scikit-learn/scikit-learn/issues/21755 */display: inline-block !important;position: relative;}#sk-container-id-4 div.sk-text-repr-fallback {display: none;}</style><div id=\"sk-container-id-4\" class=\"sk-top-container\"><div class=\"sk-text-repr-fallback\"><pre>LinearRegression()</pre><b>In a Jupyter environment, please rerun this cell to show the HTML representation or trust the notebook. <br />On GitHub, the HTML representation is unable to render, please try loading this page with nbviewer.org.</b></div><div class=\"sk-container\" hidden><div class=\"sk-item\"><div class=\"sk-estimator sk-toggleable\"><input class=\"sk-toggleable__control sk-hidden--visually\" id=\"sk-estimator-id-4\" type=\"checkbox\" checked><label for=\"sk-estimator-id-4\" class=\"sk-toggleable__label sk-toggleable__label-arrow\">LinearRegression</label><div class=\"sk-toggleable__content\"><pre>LinearRegression()</pre></div></div></div></div></div>"
      ],
      "text/plain": [
       "LinearRegression()"
      ]
     },
     "execution_count": 64,
     "metadata": {},
     "output_type": "execute_result"
    }
   ],
   "source": [
    "from sklearn.linear_model import LinearRegression\n",
    "linear_regression = LinearRegression()\n",
    "linear_regression.fit(X_train , y_train)"
   ]
  },
  {
   "cell_type": "code",
   "execution_count": 65,
   "id": "7895d247",
   "metadata": {
    "execution": {
     "iopub.execute_input": "2023-12-15T17:52:01.410369Z",
     "iopub.status.busy": "2023-12-15T17:52:01.409987Z",
     "iopub.status.idle": "2023-12-15T17:52:01.436168Z",
     "shell.execute_reply": "2023-12-15T17:52:01.434451Z"
    },
    "papermill": {
     "duration": 0.090502,
     "end_time": "2023-12-15T17:52:01.440425",
     "exception": false,
     "start_time": "2023-12-15T17:52:01.349923",
     "status": "completed"
    },
    "tags": []
   },
   "outputs": [
    {
     "name": "stdout",
     "output_type": "stream",
     "text": [
      "249.23731642847406\n"
     ]
    }
   ],
   "source": [
    "from sklearn.metrics import mean_squared_error , r2_score\n",
    "y_pred = linear_regression.predict(X_train)\n",
    "print(mean_squared_error(y_train ,y_pred ))"
   ]
  },
  {
   "cell_type": "code",
   "execution_count": 66,
   "id": "c402b2ce",
   "metadata": {
    "execution": {
     "iopub.execute_input": "2023-12-15T17:52:01.618108Z",
     "iopub.status.busy": "2023-12-15T17:52:01.617715Z",
     "iopub.status.idle": "2023-12-15T17:52:01.640571Z",
     "shell.execute_reply": "2023-12-15T17:52:01.639412Z"
    },
    "papermill": {
     "duration": 0.086648,
     "end_time": "2023-12-15T17:52:01.644386",
     "exception": false,
     "start_time": "2023-12-15T17:52:01.557738",
     "status": "completed"
    },
    "tags": []
   },
   "outputs": [
    {
     "data": {
      "text/plain": [
       "0.6154795389158025"
      ]
     },
     "execution_count": 66,
     "metadata": {},
     "output_type": "execute_result"
    }
   ],
   "source": [
    "linear_regression.score(X_train , y_train)"
   ]
  },
  {
   "cell_type": "code",
   "execution_count": 67,
   "id": "397c7f06",
   "metadata": {
    "execution": {
     "iopub.execute_input": "2023-12-15T17:52:01.821618Z",
     "iopub.status.busy": "2023-12-15T17:52:01.821220Z",
     "iopub.status.idle": "2023-12-15T17:52:01.837384Z",
     "shell.execute_reply": "2023-12-15T17:52:01.836166Z"
    },
    "papermill": {
     "duration": 0.079897,
     "end_time": "2023-12-15T17:52:01.841378",
     "exception": false,
     "start_time": "2023-12-15T17:52:01.761481",
     "status": "completed"
    },
    "tags": []
   },
   "outputs": [
    {
     "data": {
      "text/plain": [
       "0.6428379856902839"
      ]
     },
     "execution_count": 67,
     "metadata": {},
     "output_type": "execute_result"
    }
   ],
   "source": [
    "linear_regression.score(X_test , y_test)"
   ]
  },
  {
   "cell_type": "code",
   "execution_count": 68,
   "id": "39f94e81",
   "metadata": {
    "execution": {
     "iopub.execute_input": "2023-12-15T17:52:02.023266Z",
     "iopub.status.busy": "2023-12-15T17:52:02.022781Z",
     "iopub.status.idle": "2023-12-15T17:52:02.036901Z",
     "shell.execute_reply": "2023-12-15T17:52:02.035704Z"
    },
    "papermill": {
     "duration": 0.078581,
     "end_time": "2023-12-15T17:52:02.040791",
     "exception": false,
     "start_time": "2023-12-15T17:52:01.962210",
     "status": "completed"
    },
    "tags": []
   },
   "outputs": [
    {
     "name": "stdout",
     "output_type": "stream",
     "text": [
      "0.6428379856902839\n"
     ]
    }
   ],
   "source": [
    "y_hat = linear_regression.predict(X_test)\n",
    "r2 = r2_score(y_test , y_hat)\n",
    "print(r2)"
   ]
  },
  {
   "cell_type": "markdown",
   "id": "8a14e63e",
   "metadata": {
    "papermill": {
     "duration": 0.059921,
     "end_time": "2023-12-15T17:52:02.219315",
     "exception": false,
     "start_time": "2023-12-15T17:52:02.159394",
     "status": "completed"
    },
    "tags": []
   },
   "source": [
    "## Gradient Boosting"
   ]
  },
  {
   "cell_type": "code",
   "execution_count": 69,
   "id": "e3617677",
   "metadata": {
    "execution": {
     "iopub.execute_input": "2023-12-15T17:52:02.338349Z",
     "iopub.status.busy": "2023-12-15T17:52:02.337966Z",
     "iopub.status.idle": "2023-12-15T17:52:02.531032Z",
     "shell.execute_reply": "2023-12-15T17:52:02.529999Z"
    },
    "papermill": {
     "duration": 0.256216,
     "end_time": "2023-12-15T17:52:02.534386",
     "exception": false,
     "start_time": "2023-12-15T17:52:02.278170",
     "status": "completed"
    },
    "tags": []
   },
   "outputs": [],
   "source": [
    "from sklearn.pipeline import Pipeline\n",
    "from sklearn.ensemble import GradientBoostingRegressor\n",
    "pipeline = Pipeline(steps = [('gradient_boosting_regressor',GradientBoostingRegressor())])"
   ]
  },
  {
   "cell_type": "code",
   "execution_count": 70,
   "id": "40ad2284",
   "metadata": {
    "execution": {
     "iopub.execute_input": "2023-12-15T17:52:02.656068Z",
     "iopub.status.busy": "2023-12-15T17:52:02.655612Z",
     "iopub.status.idle": "2023-12-15T17:52:24.115555Z",
     "shell.execute_reply": "2023-12-15T17:52:24.114358Z"
    },
    "papermill": {
     "duration": 21.523552,
     "end_time": "2023-12-15T17:52:24.118132",
     "exception": false,
     "start_time": "2023-12-15T17:52:02.594580",
     "status": "completed"
    },
    "tags": []
   },
   "outputs": [
    {
     "data": {
      "text/html": [
       "<style>#sk-container-id-5 {color: black;background-color: white;}#sk-container-id-5 pre{padding: 0;}#sk-container-id-5 div.sk-toggleable {background-color: white;}#sk-container-id-5 label.sk-toggleable__label {cursor: pointer;display: block;width: 100%;margin-bottom: 0;padding: 0.3em;box-sizing: border-box;text-align: center;}#sk-container-id-5 label.sk-toggleable__label-arrow:before {content: \"▸\";float: left;margin-right: 0.25em;color: #696969;}#sk-container-id-5 label.sk-toggleable__label-arrow:hover:before {color: black;}#sk-container-id-5 div.sk-estimator:hover label.sk-toggleable__label-arrow:before {color: black;}#sk-container-id-5 div.sk-toggleable__content {max-height: 0;max-width: 0;overflow: hidden;text-align: left;background-color: #f0f8ff;}#sk-container-id-5 div.sk-toggleable__content pre {margin: 0.2em;color: black;border-radius: 0.25em;background-color: #f0f8ff;}#sk-container-id-5 input.sk-toggleable__control:checked~div.sk-toggleable__content {max-height: 200px;max-width: 100%;overflow: auto;}#sk-container-id-5 input.sk-toggleable__control:checked~label.sk-toggleable__label-arrow:before {content: \"▾\";}#sk-container-id-5 div.sk-estimator input.sk-toggleable__control:checked~label.sk-toggleable__label {background-color: #d4ebff;}#sk-container-id-5 div.sk-label input.sk-toggleable__control:checked~label.sk-toggleable__label {background-color: #d4ebff;}#sk-container-id-5 input.sk-hidden--visually {border: 0;clip: rect(1px 1px 1px 1px);clip: rect(1px, 1px, 1px, 1px);height: 1px;margin: -1px;overflow: hidden;padding: 0;position: absolute;width: 1px;}#sk-container-id-5 div.sk-estimator {font-family: monospace;background-color: #f0f8ff;border: 1px dotted black;border-radius: 0.25em;box-sizing: border-box;margin-bottom: 0.5em;}#sk-container-id-5 div.sk-estimator:hover {background-color: #d4ebff;}#sk-container-id-5 div.sk-parallel-item::after {content: \"\";width: 100%;border-bottom: 1px solid gray;flex-grow: 1;}#sk-container-id-5 div.sk-label:hover label.sk-toggleable__label {background-color: #d4ebff;}#sk-container-id-5 div.sk-serial::before {content: \"\";position: absolute;border-left: 1px solid gray;box-sizing: border-box;top: 0;bottom: 0;left: 50%;z-index: 0;}#sk-container-id-5 div.sk-serial {display: flex;flex-direction: column;align-items: center;background-color: white;padding-right: 0.2em;padding-left: 0.2em;position: relative;}#sk-container-id-5 div.sk-item {position: relative;z-index: 1;}#sk-container-id-5 div.sk-parallel {display: flex;align-items: stretch;justify-content: center;background-color: white;position: relative;}#sk-container-id-5 div.sk-item::before, #sk-container-id-5 div.sk-parallel-item::before {content: \"\";position: absolute;border-left: 1px solid gray;box-sizing: border-box;top: 0;bottom: 0;left: 50%;z-index: -1;}#sk-container-id-5 div.sk-parallel-item {display: flex;flex-direction: column;z-index: 1;position: relative;background-color: white;}#sk-container-id-5 div.sk-parallel-item:first-child::after {align-self: flex-end;width: 50%;}#sk-container-id-5 div.sk-parallel-item:last-child::after {align-self: flex-start;width: 50%;}#sk-container-id-5 div.sk-parallel-item:only-child::after {width: 0;}#sk-container-id-5 div.sk-dashed-wrapped {border: 1px dashed gray;margin: 0 0.4em 0.5em 0.4em;box-sizing: border-box;padding-bottom: 0.4em;background-color: white;}#sk-container-id-5 div.sk-label label {font-family: monospace;font-weight: bold;display: inline-block;line-height: 1.2em;}#sk-container-id-5 div.sk-label-container {text-align: center;}#sk-container-id-5 div.sk-container {/* jupyter's `normalize.less` sets `[hidden] { display: none; }` but bootstrap.min.css set `[hidden] { display: none !important; }` so we also need the `!important` here to be able to override the default hidden behavior on the sphinx rendered scikit-learn.org. See: https://github.com/scikit-learn/scikit-learn/issues/21755 */display: inline-block !important;position: relative;}#sk-container-id-5 div.sk-text-repr-fallback {display: none;}</style><div id=\"sk-container-id-5\" class=\"sk-top-container\"><div class=\"sk-text-repr-fallback\"><pre>Pipeline(steps=[(&#x27;gradient_boosting_regressor&#x27;, GradientBoostingRegressor())])</pre><b>In a Jupyter environment, please rerun this cell to show the HTML representation or trust the notebook. <br />On GitHub, the HTML representation is unable to render, please try loading this page with nbviewer.org.</b></div><div class=\"sk-container\" hidden><div class=\"sk-item sk-dashed-wrapped\"><div class=\"sk-label-container\"><div class=\"sk-label sk-toggleable\"><input class=\"sk-toggleable__control sk-hidden--visually\" id=\"sk-estimator-id-5\" type=\"checkbox\" ><label for=\"sk-estimator-id-5\" class=\"sk-toggleable__label sk-toggleable__label-arrow\">Pipeline</label><div class=\"sk-toggleable__content\"><pre>Pipeline(steps=[(&#x27;gradient_boosting_regressor&#x27;, GradientBoostingRegressor())])</pre></div></div></div><div class=\"sk-serial\"><div class=\"sk-item\"><div class=\"sk-estimator sk-toggleable\"><input class=\"sk-toggleable__control sk-hidden--visually\" id=\"sk-estimator-id-6\" type=\"checkbox\" ><label for=\"sk-estimator-id-6\" class=\"sk-toggleable__label sk-toggleable__label-arrow\">GradientBoostingRegressor</label><div class=\"sk-toggleable__content\"><pre>GradientBoostingRegressor()</pre></div></div></div></div></div></div></div>"
      ],
      "text/plain": [
       "Pipeline(steps=[('gradient_boosting_regressor', GradientBoostingRegressor())])"
      ]
     },
     "execution_count": 70,
     "metadata": {},
     "output_type": "execute_result"
    }
   ],
   "source": [
    "pipeline.fit(X_train , y_train)"
   ]
  },
  {
   "cell_type": "code",
   "execution_count": 71,
   "id": "39eb4dd3",
   "metadata": {
    "execution": {
     "iopub.execute_input": "2023-12-15T17:52:24.239410Z",
     "iopub.status.busy": "2023-12-15T17:52:24.239016Z",
     "iopub.status.idle": "2023-12-15T17:52:24.473370Z",
     "shell.execute_reply": "2023-12-15T17:52:24.471970Z"
    },
    "papermill": {
     "duration": 0.297635,
     "end_time": "2023-12-15T17:52:24.475727",
     "exception": false,
     "start_time": "2023-12-15T17:52:24.178092",
     "status": "completed"
    },
    "tags": []
   },
   "outputs": [
    {
     "name": "stdout",
     "output_type": "stream",
     "text": [
      "0.9123992559905341\n"
     ]
    }
   ],
   "source": [
    "train_predictions = pipeline.predict(X_train)\n",
    "print(r2_score(train_predictions , y_train))"
   ]
  },
  {
   "cell_type": "code",
   "execution_count": 72,
   "id": "91028619",
   "metadata": {
    "execution": {
     "iopub.execute_input": "2023-12-15T17:52:24.596002Z",
     "iopub.status.busy": "2023-12-15T17:52:24.595346Z",
     "iopub.status.idle": "2023-12-15T17:52:24.656121Z",
     "shell.execute_reply": "2023-12-15T17:52:24.654893Z"
    },
    "papermill": {
     "duration": 0.124079,
     "end_time": "2023-12-15T17:52:24.658648",
     "exception": false,
     "start_time": "2023-12-15T17:52:24.534569",
     "status": "completed"
    },
    "tags": []
   },
   "outputs": [
    {
     "name": "stdout",
     "output_type": "stream",
     "text": [
      "0.9266849496789336\n"
     ]
    }
   ],
   "source": [
    "test_predictions = pipeline.predict(X_test)\n",
    "print(r2_score(test_predictions , y_test))"
   ]
  },
  {
   "cell_type": "code",
   "execution_count": 73,
   "id": "e6700ba3",
   "metadata": {
    "execution": {
     "iopub.execute_input": "2023-12-15T17:52:24.780936Z",
     "iopub.status.busy": "2023-12-15T17:52:24.780513Z",
     "iopub.status.idle": "2023-12-15T17:52:24.787063Z",
     "shell.execute_reply": "2023-12-15T17:52:24.785959Z"
    },
    "papermill": {
     "duration": 0.070672,
     "end_time": "2023-12-15T17:52:24.789468",
     "exception": false,
     "start_time": "2023-12-15T17:52:24.718796",
     "status": "completed"
    },
    "tags": []
   },
   "outputs": [],
   "source": [
    "param_grid = {\n",
    "    'gradient_boosting_regressor__n_estimators': np.arange(50, 150, 10),  \n",
    "    'gradient_boosting_regressor__learning_rate': np.logspace(-3, -1, 50), \n",
    "    'gradient_boosting_regressor__max_depth': np.arange(3,10,1),  \n",
    "    'gradient_boosting_regressor__min_samples_split': np.arange(2, 6, 1),   \n",
    "    'gradient_boosting_regressor__min_samples_leaf': np.arange(1, 6, 1), \n",
    "} "
   ]
  },
  {
   "cell_type": "code",
   "execution_count": 74,
   "id": "9f00acf5",
   "metadata": {
    "execution": {
     "iopub.execute_input": "2023-12-15T17:52:24.911798Z",
     "iopub.status.busy": "2023-12-15T17:52:24.911416Z",
     "iopub.status.idle": "2023-12-15T17:52:24.917528Z",
     "shell.execute_reply": "2023-12-15T17:52:24.916425Z"
    },
    "papermill": {
     "duration": 0.070483,
     "end_time": "2023-12-15T17:52:24.919778",
     "exception": false,
     "start_time": "2023-12-15T17:52:24.849295",
     "status": "completed"
    },
    "tags": []
   },
   "outputs": [],
   "source": [
    "param_dist = {\n",
    "    'gradient_boosting_regressor__n_estimators': [50 , 100 , 150 , 200],  \n",
    "    'gradient_boosting_regressor__learning_rate': [0.01 , 0.1 , 0.2], \n",
    "    'gradient_boosting_regressor__max_depth': [3,5,7],  \n",
    "    'gradient_boosting_regressor__min_samples_split': [2,5,10],   \n",
    "    'gradient_boosting_regressor__min_samples_leaf': [1,2,4], \n",
    "}"
   ]
  },
  {
   "cell_type": "code",
   "execution_count": 75,
   "id": "a80438a8",
   "metadata": {
    "execution": {
     "iopub.execute_input": "2023-12-15T17:52:25.043701Z",
     "iopub.status.busy": "2023-12-15T17:52:25.043032Z",
     "iopub.status.idle": "2023-12-15T18:08:46.865383Z",
     "shell.execute_reply": "2023-12-15T18:08:46.863955Z"
    },
    "papermill": {
     "duration": 981.946987,
     "end_time": "2023-12-15T18:08:46.928122",
     "exception": false,
     "start_time": "2023-12-15T17:52:24.981135",
     "status": "completed"
    },
    "tags": []
   },
   "outputs": [
    {
     "data": {
      "text/html": [
       "<style>#sk-container-id-6 {color: black;background-color: white;}#sk-container-id-6 pre{padding: 0;}#sk-container-id-6 div.sk-toggleable {background-color: white;}#sk-container-id-6 label.sk-toggleable__label {cursor: pointer;display: block;width: 100%;margin-bottom: 0;padding: 0.3em;box-sizing: border-box;text-align: center;}#sk-container-id-6 label.sk-toggleable__label-arrow:before {content: \"▸\";float: left;margin-right: 0.25em;color: #696969;}#sk-container-id-6 label.sk-toggleable__label-arrow:hover:before {color: black;}#sk-container-id-6 div.sk-estimator:hover label.sk-toggleable__label-arrow:before {color: black;}#sk-container-id-6 div.sk-toggleable__content {max-height: 0;max-width: 0;overflow: hidden;text-align: left;background-color: #f0f8ff;}#sk-container-id-6 div.sk-toggleable__content pre {margin: 0.2em;color: black;border-radius: 0.25em;background-color: #f0f8ff;}#sk-container-id-6 input.sk-toggleable__control:checked~div.sk-toggleable__content {max-height: 200px;max-width: 100%;overflow: auto;}#sk-container-id-6 input.sk-toggleable__control:checked~label.sk-toggleable__label-arrow:before {content: \"▾\";}#sk-container-id-6 div.sk-estimator input.sk-toggleable__control:checked~label.sk-toggleable__label {background-color: #d4ebff;}#sk-container-id-6 div.sk-label input.sk-toggleable__control:checked~label.sk-toggleable__label {background-color: #d4ebff;}#sk-container-id-6 input.sk-hidden--visually {border: 0;clip: rect(1px 1px 1px 1px);clip: rect(1px, 1px, 1px, 1px);height: 1px;margin: -1px;overflow: hidden;padding: 0;position: absolute;width: 1px;}#sk-container-id-6 div.sk-estimator {font-family: monospace;background-color: #f0f8ff;border: 1px dotted black;border-radius: 0.25em;box-sizing: border-box;margin-bottom: 0.5em;}#sk-container-id-6 div.sk-estimator:hover {background-color: #d4ebff;}#sk-container-id-6 div.sk-parallel-item::after {content: \"\";width: 100%;border-bottom: 1px solid gray;flex-grow: 1;}#sk-container-id-6 div.sk-label:hover label.sk-toggleable__label {background-color: #d4ebff;}#sk-container-id-6 div.sk-serial::before {content: \"\";position: absolute;border-left: 1px solid gray;box-sizing: border-box;top: 0;bottom: 0;left: 50%;z-index: 0;}#sk-container-id-6 div.sk-serial {display: flex;flex-direction: column;align-items: center;background-color: white;padding-right: 0.2em;padding-left: 0.2em;position: relative;}#sk-container-id-6 div.sk-item {position: relative;z-index: 1;}#sk-container-id-6 div.sk-parallel {display: flex;align-items: stretch;justify-content: center;background-color: white;position: relative;}#sk-container-id-6 div.sk-item::before, #sk-container-id-6 div.sk-parallel-item::before {content: \"\";position: absolute;border-left: 1px solid gray;box-sizing: border-box;top: 0;bottom: 0;left: 50%;z-index: -1;}#sk-container-id-6 div.sk-parallel-item {display: flex;flex-direction: column;z-index: 1;position: relative;background-color: white;}#sk-container-id-6 div.sk-parallel-item:first-child::after {align-self: flex-end;width: 50%;}#sk-container-id-6 div.sk-parallel-item:last-child::after {align-self: flex-start;width: 50%;}#sk-container-id-6 div.sk-parallel-item:only-child::after {width: 0;}#sk-container-id-6 div.sk-dashed-wrapped {border: 1px dashed gray;margin: 0 0.4em 0.5em 0.4em;box-sizing: border-box;padding-bottom: 0.4em;background-color: white;}#sk-container-id-6 div.sk-label label {font-family: monospace;font-weight: bold;display: inline-block;line-height: 1.2em;}#sk-container-id-6 div.sk-label-container {text-align: center;}#sk-container-id-6 div.sk-container {/* jupyter's `normalize.less` sets `[hidden] { display: none; }` but bootstrap.min.css set `[hidden] { display: none !important; }` so we also need the `!important` here to be able to override the default hidden behavior on the sphinx rendered scikit-learn.org. See: https://github.com/scikit-learn/scikit-learn/issues/21755 */display: inline-block !important;position: relative;}#sk-container-id-6 div.sk-text-repr-fallback {display: none;}</style><div id=\"sk-container-id-6\" class=\"sk-top-container\"><div class=\"sk-text-repr-fallback\"><pre>RandomizedSearchCV(cv=5,\n",
       "                   estimator=Pipeline(steps=[(&#x27;gradient_boosting_regressor&#x27;,\n",
       "                                              GradientBoostingRegressor())]),\n",
       "                   n_iter=20, n_jobs=-1,\n",
       "                   param_distributions={&#x27;gradient_boosting_regressor__learning_rate&#x27;: [0.01,\n",
       "                                                                                       0.1,\n",
       "                                                                                       0.2],\n",
       "                                        &#x27;gradient_boosting_regressor__max_depth&#x27;: [3,\n",
       "                                                                                   5,\n",
       "                                                                                   7],\n",
       "                                        &#x27;gradient_boosting_regressor__min_samples_leaf&#x27;: [1,\n",
       "                                                                                          2,\n",
       "                                                                                          4],\n",
       "                                        &#x27;gradient_boosting_regressor__min_samples_split&#x27;: [2,\n",
       "                                                                                           5,\n",
       "                                                                                           10],\n",
       "                                        &#x27;gradient_boosting_regressor__n_estimators&#x27;: [50,\n",
       "                                                                                      100,\n",
       "                                                                                      150,\n",
       "                                                                                      200]},\n",
       "                   random_state=42, scoring=&#x27;r2&#x27;)</pre><b>In a Jupyter environment, please rerun this cell to show the HTML representation or trust the notebook. <br />On GitHub, the HTML representation is unable to render, please try loading this page with nbviewer.org.</b></div><div class=\"sk-container\" hidden><div class=\"sk-item sk-dashed-wrapped\"><div class=\"sk-label-container\"><div class=\"sk-label sk-toggleable\"><input class=\"sk-toggleable__control sk-hidden--visually\" id=\"sk-estimator-id-7\" type=\"checkbox\" ><label for=\"sk-estimator-id-7\" class=\"sk-toggleable__label sk-toggleable__label-arrow\">RandomizedSearchCV</label><div class=\"sk-toggleable__content\"><pre>RandomizedSearchCV(cv=5,\n",
       "                   estimator=Pipeline(steps=[(&#x27;gradient_boosting_regressor&#x27;,\n",
       "                                              GradientBoostingRegressor())]),\n",
       "                   n_iter=20, n_jobs=-1,\n",
       "                   param_distributions={&#x27;gradient_boosting_regressor__learning_rate&#x27;: [0.01,\n",
       "                                                                                       0.1,\n",
       "                                                                                       0.2],\n",
       "                                        &#x27;gradient_boosting_regressor__max_depth&#x27;: [3,\n",
       "                                                                                   5,\n",
       "                                                                                   7],\n",
       "                                        &#x27;gradient_boosting_regressor__min_samples_leaf&#x27;: [1,\n",
       "                                                                                          2,\n",
       "                                                                                          4],\n",
       "                                        &#x27;gradient_boosting_regressor__min_samples_split&#x27;: [2,\n",
       "                                                                                           5,\n",
       "                                                                                           10],\n",
       "                                        &#x27;gradient_boosting_regressor__n_estimators&#x27;: [50,\n",
       "                                                                                      100,\n",
       "                                                                                      150,\n",
       "                                                                                      200]},\n",
       "                   random_state=42, scoring=&#x27;r2&#x27;)</pre></div></div></div><div class=\"sk-parallel\"><div class=\"sk-parallel-item\"><div class=\"sk-item\"><div class=\"sk-label-container\"><div class=\"sk-label sk-toggleable\"><input class=\"sk-toggleable__control sk-hidden--visually\" id=\"sk-estimator-id-8\" type=\"checkbox\" ><label for=\"sk-estimator-id-8\" class=\"sk-toggleable__label sk-toggleable__label-arrow\">estimator: Pipeline</label><div class=\"sk-toggleable__content\"><pre>Pipeline(steps=[(&#x27;gradient_boosting_regressor&#x27;, GradientBoostingRegressor())])</pre></div></div></div><div class=\"sk-serial\"><div class=\"sk-item\"><div class=\"sk-serial\"><div class=\"sk-item\"><div class=\"sk-estimator sk-toggleable\"><input class=\"sk-toggleable__control sk-hidden--visually\" id=\"sk-estimator-id-9\" type=\"checkbox\" ><label for=\"sk-estimator-id-9\" class=\"sk-toggleable__label sk-toggleable__label-arrow\">GradientBoostingRegressor</label><div class=\"sk-toggleable__content\"><pre>GradientBoostingRegressor()</pre></div></div></div></div></div></div></div></div></div></div></div></div>"
      ],
      "text/plain": [
       "RandomizedSearchCV(cv=5,\n",
       "                   estimator=Pipeline(steps=[('gradient_boosting_regressor',\n",
       "                                              GradientBoostingRegressor())]),\n",
       "                   n_iter=20, n_jobs=-1,\n",
       "                   param_distributions={'gradient_boosting_regressor__learning_rate': [0.01,\n",
       "                                                                                       0.1,\n",
       "                                                                                       0.2],\n",
       "                                        'gradient_boosting_regressor__max_depth': [3,\n",
       "                                                                                   5,\n",
       "                                                                                   7],\n",
       "                                        'gradient_boosting_regressor__min_samples_leaf': [1,\n",
       "                                                                                          2,\n",
       "                                                                                          4],\n",
       "                                        'gradient_boosting_regressor__min_samples_split': [2,\n",
       "                                                                                           5,\n",
       "                                                                                           10],\n",
       "                                        'gradient_boosting_regressor__n_estimators': [50,\n",
       "                                                                                      100,\n",
       "                                                                                      150,\n",
       "                                                                                      200]},\n",
       "                   random_state=42, scoring='r2')"
      ]
     },
     "execution_count": 75,
     "metadata": {},
     "output_type": "execute_result"
    }
   ],
   "source": [
    "from sklearn.model_selection import RandomizedSearchCV\n",
    "random_search = RandomizedSearchCV(pipeline,param_dist,n_iter=20,scoring='r2',cv=5,n_jobs=-1,random_state=42)\n",
    "random_search.fit(X_train , y_train)    "
   ]
  },
  {
   "cell_type": "code",
   "execution_count": 76,
   "id": "7a085573",
   "metadata": {
    "execution": {
     "iopub.execute_input": "2023-12-15T18:08:47.048931Z",
     "iopub.status.busy": "2023-12-15T18:08:47.048527Z",
     "iopub.status.idle": "2023-12-15T18:08:47.058558Z",
     "shell.execute_reply": "2023-12-15T18:08:47.057333Z"
    },
    "papermill": {
     "duration": 0.074076,
     "end_time": "2023-12-15T18:08:47.061150",
     "exception": false,
     "start_time": "2023-12-15T18:08:46.987074",
     "status": "completed"
    },
    "tags": []
   },
   "outputs": [
    {
     "name": "stdout",
     "output_type": "stream",
     "text": [
      "Pipeline(steps=[('gradient_boosting_regressor',\n",
      "                 GradientBoostingRegressor(learning_rate=0.2,\n",
      "                                           min_samples_split=10,\n",
      "                                           n_estimators=150))])\n"
     ]
    }
   ],
   "source": [
    "best_boosting_regressor = random_search.best_estimator_\n",
    "print(best_boosting_regressor)"
   ]
  },
  {
   "cell_type": "code",
   "execution_count": 77,
   "id": "a4f725f2",
   "metadata": {
    "execution": {
     "iopub.execute_input": "2023-12-15T18:08:47.183458Z",
     "iopub.status.busy": "2023-12-15T18:08:47.183016Z",
     "iopub.status.idle": "2023-12-15T18:08:47.188399Z",
     "shell.execute_reply": "2023-12-15T18:08:47.187545Z"
    },
    "papermill": {
     "duration": 0.069095,
     "end_time": "2023-12-15T18:08:47.190923",
     "exception": false,
     "start_time": "2023-12-15T18:08:47.121828",
     "status": "completed"
    },
    "tags": []
   },
   "outputs": [
    {
     "name": "stdout",
     "output_type": "stream",
     "text": [
      "0.9096084174526947\n"
     ]
    }
   ],
   "source": [
    "print(random_search.best_score_) "
   ]
  },
  {
   "cell_type": "code",
   "execution_count": 78,
   "id": "d718b56f",
   "metadata": {
    "execution": {
     "iopub.execute_input": "2023-12-15T18:08:47.314955Z",
     "iopub.status.busy": "2023-12-15T18:08:47.313912Z",
     "iopub.status.idle": "2023-12-15T18:08:47.391024Z",
     "shell.execute_reply": "2023-12-15T18:08:47.389752Z"
    },
    "papermill": {
     "duration": 0.141133,
     "end_time": "2023-12-15T18:08:47.393363",
     "exception": false,
     "start_time": "2023-12-15T18:08:47.252230",
     "status": "completed"
    },
    "tags": []
   },
   "outputs": [
    {
     "name": "stdout",
     "output_type": "stream",
     "text": [
      "0.936901319465381\n"
     ]
    }
   ],
   "source": [
    "y_test_hat = best_boosting_regressor.predict(X_test)\n",
    "print(r2_score(y_test , y_test_hat))  "
   ]
  },
  {
   "cell_type": "code",
   "execution_count": 79,
   "id": "4205e558",
   "metadata": {
    "execution": {
     "iopub.execute_input": "2023-12-15T18:08:47.516192Z",
     "iopub.status.busy": "2023-12-15T18:08:47.515421Z",
     "iopub.status.idle": "2023-12-15T18:08:47.532488Z",
     "shell.execute_reply": "2023-12-15T18:08:47.531328Z"
    },
    "papermill": {
     "duration": 0.081175,
     "end_time": "2023-12-15T18:08:47.534994",
     "exception": false,
     "start_time": "2023-12-15T18:08:47.453819",
     "status": "completed"
    },
    "tags": []
   },
   "outputs": [
    {
     "data": {
      "text/html": [
       "<style>#sk-container-id-7 {color: black;background-color: white;}#sk-container-id-7 pre{padding: 0;}#sk-container-id-7 div.sk-toggleable {background-color: white;}#sk-container-id-7 label.sk-toggleable__label {cursor: pointer;display: block;width: 100%;margin-bottom: 0;padding: 0.3em;box-sizing: border-box;text-align: center;}#sk-container-id-7 label.sk-toggleable__label-arrow:before {content: \"▸\";float: left;margin-right: 0.25em;color: #696969;}#sk-container-id-7 label.sk-toggleable__label-arrow:hover:before {color: black;}#sk-container-id-7 div.sk-estimator:hover label.sk-toggleable__label-arrow:before {color: black;}#sk-container-id-7 div.sk-toggleable__content {max-height: 0;max-width: 0;overflow: hidden;text-align: left;background-color: #f0f8ff;}#sk-container-id-7 div.sk-toggleable__content pre {margin: 0.2em;color: black;border-radius: 0.25em;background-color: #f0f8ff;}#sk-container-id-7 input.sk-toggleable__control:checked~div.sk-toggleable__content {max-height: 200px;max-width: 100%;overflow: auto;}#sk-container-id-7 input.sk-toggleable__control:checked~label.sk-toggleable__label-arrow:before {content: \"▾\";}#sk-container-id-7 div.sk-estimator input.sk-toggleable__control:checked~label.sk-toggleable__label {background-color: #d4ebff;}#sk-container-id-7 div.sk-label input.sk-toggleable__control:checked~label.sk-toggleable__label {background-color: #d4ebff;}#sk-container-id-7 input.sk-hidden--visually {border: 0;clip: rect(1px 1px 1px 1px);clip: rect(1px, 1px, 1px, 1px);height: 1px;margin: -1px;overflow: hidden;padding: 0;position: absolute;width: 1px;}#sk-container-id-7 div.sk-estimator {font-family: monospace;background-color: #f0f8ff;border: 1px dotted black;border-radius: 0.25em;box-sizing: border-box;margin-bottom: 0.5em;}#sk-container-id-7 div.sk-estimator:hover {background-color: #d4ebff;}#sk-container-id-7 div.sk-parallel-item::after {content: \"\";width: 100%;border-bottom: 1px solid gray;flex-grow: 1;}#sk-container-id-7 div.sk-label:hover label.sk-toggleable__label {background-color: #d4ebff;}#sk-container-id-7 div.sk-serial::before {content: \"\";position: absolute;border-left: 1px solid gray;box-sizing: border-box;top: 0;bottom: 0;left: 50%;z-index: 0;}#sk-container-id-7 div.sk-serial {display: flex;flex-direction: column;align-items: center;background-color: white;padding-right: 0.2em;padding-left: 0.2em;position: relative;}#sk-container-id-7 div.sk-item {position: relative;z-index: 1;}#sk-container-id-7 div.sk-parallel {display: flex;align-items: stretch;justify-content: center;background-color: white;position: relative;}#sk-container-id-7 div.sk-item::before, #sk-container-id-7 div.sk-parallel-item::before {content: \"\";position: absolute;border-left: 1px solid gray;box-sizing: border-box;top: 0;bottom: 0;left: 50%;z-index: -1;}#sk-container-id-7 div.sk-parallel-item {display: flex;flex-direction: column;z-index: 1;position: relative;background-color: white;}#sk-container-id-7 div.sk-parallel-item:first-child::after {align-self: flex-end;width: 50%;}#sk-container-id-7 div.sk-parallel-item:last-child::after {align-self: flex-start;width: 50%;}#sk-container-id-7 div.sk-parallel-item:only-child::after {width: 0;}#sk-container-id-7 div.sk-dashed-wrapped {border: 1px dashed gray;margin: 0 0.4em 0.5em 0.4em;box-sizing: border-box;padding-bottom: 0.4em;background-color: white;}#sk-container-id-7 div.sk-label label {font-family: monospace;font-weight: bold;display: inline-block;line-height: 1.2em;}#sk-container-id-7 div.sk-label-container {text-align: center;}#sk-container-id-7 div.sk-container {/* jupyter's `normalize.less` sets `[hidden] { display: none; }` but bootstrap.min.css set `[hidden] { display: none !important; }` so we also need the `!important` here to be able to override the default hidden behavior on the sphinx rendered scikit-learn.org. See: https://github.com/scikit-learn/scikit-learn/issues/21755 */display: inline-block !important;position: relative;}#sk-container-id-7 div.sk-text-repr-fallback {display: none;}</style><div id=\"sk-container-id-7\" class=\"sk-top-container\"><div class=\"sk-text-repr-fallback\"><pre>Pipeline(steps=[(&#x27;gradient_boosting_regressor&#x27;,\n",
       "                 GradientBoostingRegressor(learning_rate=0.2,\n",
       "                                           min_samples_split=10,\n",
       "                                           n_estimators=150))])</pre><b>In a Jupyter environment, please rerun this cell to show the HTML representation or trust the notebook. <br />On GitHub, the HTML representation is unable to render, please try loading this page with nbviewer.org.</b></div><div class=\"sk-container\" hidden><div class=\"sk-item sk-dashed-wrapped\"><div class=\"sk-label-container\"><div class=\"sk-label sk-toggleable\"><input class=\"sk-toggleable__control sk-hidden--visually\" id=\"sk-estimator-id-10\" type=\"checkbox\" ><label for=\"sk-estimator-id-10\" class=\"sk-toggleable__label sk-toggleable__label-arrow\">Pipeline</label><div class=\"sk-toggleable__content\"><pre>Pipeline(steps=[(&#x27;gradient_boosting_regressor&#x27;,\n",
       "                 GradientBoostingRegressor(learning_rate=0.2,\n",
       "                                           min_samples_split=10,\n",
       "                                           n_estimators=150))])</pre></div></div></div><div class=\"sk-serial\"><div class=\"sk-item\"><div class=\"sk-estimator sk-toggleable\"><input class=\"sk-toggleable__control sk-hidden--visually\" id=\"sk-estimator-id-11\" type=\"checkbox\" ><label for=\"sk-estimator-id-11\" class=\"sk-toggleable__label sk-toggleable__label-arrow\">GradientBoostingRegressor</label><div class=\"sk-toggleable__content\"><pre>GradientBoostingRegressor(learning_rate=0.2, min_samples_split=10,\n",
       "                          n_estimators=150)</pre></div></div></div></div></div></div></div>"
      ],
      "text/plain": [
       "Pipeline(steps=[('gradient_boosting_regressor',\n",
       "                 GradientBoostingRegressor(learning_rate=0.2,\n",
       "                                           min_samples_split=10,\n",
       "                                           n_estimators=150))])"
      ]
     },
     "execution_count": 79,
     "metadata": {},
     "output_type": "execute_result"
    }
   ],
   "source": [
    "best_boosting_regressor"
   ]
  },
  {
   "cell_type": "markdown",
   "id": "999a22f0",
   "metadata": {
    "papermill": {
     "duration": 0.059026,
     "end_time": "2023-12-15T18:08:47.653755",
     "exception": false,
     "start_time": "2023-12-15T18:08:47.594729",
     "status": "completed"
    },
    "tags": []
   },
   "source": [
    "## Random Forest Regressor"
   ]
  },
  {
   "cell_type": "code",
   "execution_count": 80,
   "id": "9f5a588f",
   "metadata": {
    "execution": {
     "iopub.execute_input": "2023-12-15T18:08:47.775805Z",
     "iopub.status.busy": "2023-12-15T18:08:47.775437Z",
     "iopub.status.idle": "2023-12-15T18:08:47.779404Z",
     "shell.execute_reply": "2023-12-15T18:08:47.778399Z"
    },
    "papermill": {
     "duration": 0.068497,
     "end_time": "2023-12-15T18:08:47.781616",
     "exception": false,
     "start_time": "2023-12-15T18:08:47.713119",
     "status": "completed"
    },
    "tags": []
   },
   "outputs": [],
   "source": [
    "# from sklearn.ensemble import RandomForestRegressor\n",
    "# random_forest_regressor = RandomForestRegressor(random_state = 42) "
   ]
  },
  {
   "cell_type": "code",
   "execution_count": 81,
   "id": "7b2ce7dd",
   "metadata": {
    "execution": {
     "iopub.execute_input": "2023-12-15T18:08:47.904673Z",
     "iopub.status.busy": "2023-12-15T18:08:47.904247Z",
     "iopub.status.idle": "2023-12-15T18:08:47.908537Z",
     "shell.execute_reply": "2023-12-15T18:08:47.907754Z"
    },
    "papermill": {
     "duration": 0.068586,
     "end_time": "2023-12-15T18:08:47.910664",
     "exception": false,
     "start_time": "2023-12-15T18:08:47.842078",
     "status": "completed"
    },
    "tags": []
   },
   "outputs": [],
   "source": [
    "# random_forest_regressor.fit(X_train , y_train) "
   ]
  },
  {
   "cell_type": "code",
   "execution_count": 82,
   "id": "aee61ed9",
   "metadata": {
    "execution": {
     "iopub.execute_input": "2023-12-15T18:08:48.034852Z",
     "iopub.status.busy": "2023-12-15T18:08:48.033615Z",
     "iopub.status.idle": "2023-12-15T18:08:48.038531Z",
     "shell.execute_reply": "2023-12-15T18:08:48.037714Z"
    },
    "papermill": {
     "duration": 0.069632,
     "end_time": "2023-12-15T18:08:48.040715",
     "exception": false,
     "start_time": "2023-12-15T18:08:47.971083",
     "status": "completed"
    },
    "tags": []
   },
   "outputs": [],
   "source": [
    "# y_hat = random_forest_regressor.predict(X_train)\n",
    "# print(r2_score(y_hat,y_train)) "
   ]
  },
  {
   "cell_type": "code",
   "execution_count": 83,
   "id": "53713de5",
   "metadata": {
    "execution": {
     "iopub.execute_input": "2023-12-15T18:08:48.165223Z",
     "iopub.status.busy": "2023-12-15T18:08:48.164655Z",
     "iopub.status.idle": "2023-12-15T18:08:48.168580Z",
     "shell.execute_reply": "2023-12-15T18:08:48.167772Z"
    },
    "papermill": {
     "duration": 0.068576,
     "end_time": "2023-12-15T18:08:48.170846",
     "exception": false,
     "start_time": "2023-12-15T18:08:48.102270",
     "status": "completed"
    },
    "tags": []
   },
   "outputs": [],
   "source": [
    "# y_hat_test = random_forest_regressor.predict(X_test)\n",
    "# print(r2_score(y_hat_test , y_test))"
   ]
  },
  {
   "cell_type": "code",
   "execution_count": 84,
   "id": "b48840e5",
   "metadata": {
    "execution": {
     "iopub.execute_input": "2023-12-15T18:08:48.294809Z",
     "iopub.status.busy": "2023-12-15T18:08:48.294419Z",
     "iopub.status.idle": "2023-12-15T18:08:48.299230Z",
     "shell.execute_reply": "2023-12-15T18:08:48.298058Z"
    },
    "papermill": {
     "duration": 0.068146,
     "end_time": "2023-12-15T18:08:48.301414",
     "exception": false,
     "start_time": "2023-12-15T18:08:48.233268",
     "status": "completed"
    },
    "tags": []
   },
   "outputs": [],
   "source": [
    "# from sklearn.model_selection import RandomizedSearchCV\n",
    "# param_grid = {\n",
    "#     'n_estimators': [50,100,150,200],\n",
    "#     'max_features':['sqrt','log2'],\n",
    "#     'max_depth':[None,10,20,30,40,50],\n",
    "#     'min_samples_split': [2,5,10],\n",
    "#     'min_samples_leaf': [1,2,4]\n",
    "# }\n",
    "# randomized_search = RandomizedSearchCV(random_forest_regressor , param_grid , n_iter = 10,\n",
    "#                                        cv=5,random_state = 42 ,n_jobs =-1 ,scoring = 'r2')\n",
    "# randomized_search.fit(X_train , y_train)    "
   ]
  },
  {
   "cell_type": "code",
   "execution_count": 85,
   "id": "197aa62c",
   "metadata": {
    "execution": {
     "iopub.execute_input": "2023-12-15T18:08:48.422948Z",
     "iopub.status.busy": "2023-12-15T18:08:48.421746Z",
     "iopub.status.idle": "2023-12-15T18:08:48.426773Z",
     "shell.execute_reply": "2023-12-15T18:08:48.425804Z"
    },
    "papermill": {
     "duration": 0.068786,
     "end_time": "2023-12-15T18:08:48.429136",
     "exception": false,
     "start_time": "2023-12-15T18:08:48.360350",
     "status": "completed"
    },
    "tags": []
   },
   "outputs": [],
   "source": [
    "# best_params = randomized_search.best_params_\n",
    "# print(best_params)  "
   ]
  },
  {
   "cell_type": "code",
   "execution_count": 86,
   "id": "4a3799ff",
   "metadata": {
    "execution": {
     "iopub.execute_input": "2023-12-15T18:08:48.551515Z",
     "iopub.status.busy": "2023-12-15T18:08:48.551131Z",
     "iopub.status.idle": "2023-12-15T18:08:48.555393Z",
     "shell.execute_reply": "2023-12-15T18:08:48.554245Z"
    },
    "papermill": {
     "duration": 0.068028,
     "end_time": "2023-12-15T18:08:48.557754",
     "exception": false,
     "start_time": "2023-12-15T18:08:48.489726",
     "status": "completed"
    },
    "tags": []
   },
   "outputs": [],
   "source": [
    "# best_score = randomized_search.best_score_\n",
    "# print(best_score) "
   ]
  },
  {
   "cell_type": "code",
   "execution_count": 87,
   "id": "b3873355",
   "metadata": {
    "execution": {
     "iopub.execute_input": "2023-12-15T18:08:48.679061Z",
     "iopub.status.busy": "2023-12-15T18:08:48.678640Z",
     "iopub.status.idle": "2023-12-15T18:08:48.683374Z",
     "shell.execute_reply": "2023-12-15T18:08:48.682264Z"
    },
    "papermill": {
     "duration": 0.068132,
     "end_time": "2023-12-15T18:08:48.685701",
     "exception": false,
     "start_time": "2023-12-15T18:08:48.617569",
     "status": "completed"
    },
    "tags": []
   },
   "outputs": [],
   "source": [
    "# randomized_search.cv_results_ "
   ]
  },
  {
   "cell_type": "code",
   "execution_count": 88,
   "id": "61fe4e42",
   "metadata": {
    "execution": {
     "iopub.execute_input": "2023-12-15T18:08:48.808505Z",
     "iopub.status.busy": "2023-12-15T18:08:48.808095Z",
     "iopub.status.idle": "2023-12-15T18:08:48.812697Z",
     "shell.execute_reply": "2023-12-15T18:08:48.811506Z"
    },
    "papermill": {
     "duration": 0.068937,
     "end_time": "2023-12-15T18:08:48.815032",
     "exception": false,
     "start_time": "2023-12-15T18:08:48.746095",
     "status": "completed"
    },
    "tags": []
   },
   "outputs": [],
   "source": [
    "# best_random_forest_regressor = randomized_search.best_estimator_\n",
    "# print(best_random_forest_regressor)  "
   ]
  },
  {
   "cell_type": "code",
   "execution_count": 89,
   "id": "2037f12e",
   "metadata": {
    "execution": {
     "iopub.execute_input": "2023-12-15T18:08:48.937710Z",
     "iopub.status.busy": "2023-12-15T18:08:48.936990Z",
     "iopub.status.idle": "2023-12-15T18:08:48.941015Z",
     "shell.execute_reply": "2023-12-15T18:08:48.940098Z"
    },
    "papermill": {
     "duration": 0.067873,
     "end_time": "2023-12-15T18:08:48.943274",
     "exception": false,
     "start_time": "2023-12-15T18:08:48.875401",
     "status": "completed"
    },
    "tags": []
   },
   "outputs": [],
   "source": [
    "# y_best_test = best_random_forest_regressor.predict(X_test)\n",
    "# print(r2_score(y_test ,y_best_test )) "
   ]
  },
  {
   "cell_type": "markdown",
   "id": "4526ac1e",
   "metadata": {
    "papermill": {
     "duration": 0.059628,
     "end_time": "2023-12-15T18:08:49.063009",
     "exception": false,
     "start_time": "2023-12-15T18:08:49.003381",
     "status": "completed"
    },
    "tags": []
   },
   "source": [
    "## XGBoost Regression"
   ]
  },
  {
   "cell_type": "code",
   "execution_count": 90,
   "id": "30b66a25",
   "metadata": {
    "execution": {
     "iopub.execute_input": "2023-12-15T18:08:49.186034Z",
     "iopub.status.busy": "2023-12-15T18:08:49.185346Z",
     "iopub.status.idle": "2023-12-15T18:08:49.425732Z",
     "shell.execute_reply": "2023-12-15T18:08:49.424420Z"
    },
    "papermill": {
     "duration": 0.304676,
     "end_time": "2023-12-15T18:08:49.428621",
     "exception": false,
     "start_time": "2023-12-15T18:08:49.123945",
     "status": "completed"
    },
    "tags": []
   },
   "outputs": [],
   "source": [
    "from xgboost import XGBRegressor\n",
    "xgb_regressor = XGBRegressor(objective='reg:squarederror')"
   ]
  },
  {
   "cell_type": "code",
   "execution_count": 91,
   "id": "9240532c",
   "metadata": {
    "execution": {
     "iopub.execute_input": "2023-12-15T18:08:49.550571Z",
     "iopub.status.busy": "2023-12-15T18:08:49.549796Z",
     "iopub.status.idle": "2023-12-15T18:08:58.478271Z",
     "shell.execute_reply": "2023-12-15T18:08:58.477280Z"
    },
    "papermill": {
     "duration": 8.992294,
     "end_time": "2023-12-15T18:08:58.480837",
     "exception": false,
     "start_time": "2023-12-15T18:08:49.488543",
     "status": "completed"
    },
    "tags": []
   },
   "outputs": [
    {
     "data": {
      "text/html": [
       "<style>#sk-container-id-8 {color: black;background-color: white;}#sk-container-id-8 pre{padding: 0;}#sk-container-id-8 div.sk-toggleable {background-color: white;}#sk-container-id-8 label.sk-toggleable__label {cursor: pointer;display: block;width: 100%;margin-bottom: 0;padding: 0.3em;box-sizing: border-box;text-align: center;}#sk-container-id-8 label.sk-toggleable__label-arrow:before {content: \"▸\";float: left;margin-right: 0.25em;color: #696969;}#sk-container-id-8 label.sk-toggleable__label-arrow:hover:before {color: black;}#sk-container-id-8 div.sk-estimator:hover label.sk-toggleable__label-arrow:before {color: black;}#sk-container-id-8 div.sk-toggleable__content {max-height: 0;max-width: 0;overflow: hidden;text-align: left;background-color: #f0f8ff;}#sk-container-id-8 div.sk-toggleable__content pre {margin: 0.2em;color: black;border-radius: 0.25em;background-color: #f0f8ff;}#sk-container-id-8 input.sk-toggleable__control:checked~div.sk-toggleable__content {max-height: 200px;max-width: 100%;overflow: auto;}#sk-container-id-8 input.sk-toggleable__control:checked~label.sk-toggleable__label-arrow:before {content: \"▾\";}#sk-container-id-8 div.sk-estimator input.sk-toggleable__control:checked~label.sk-toggleable__label {background-color: #d4ebff;}#sk-container-id-8 div.sk-label input.sk-toggleable__control:checked~label.sk-toggleable__label {background-color: #d4ebff;}#sk-container-id-8 input.sk-hidden--visually {border: 0;clip: rect(1px 1px 1px 1px);clip: rect(1px, 1px, 1px, 1px);height: 1px;margin: -1px;overflow: hidden;padding: 0;position: absolute;width: 1px;}#sk-container-id-8 div.sk-estimator {font-family: monospace;background-color: #f0f8ff;border: 1px dotted black;border-radius: 0.25em;box-sizing: border-box;margin-bottom: 0.5em;}#sk-container-id-8 div.sk-estimator:hover {background-color: #d4ebff;}#sk-container-id-8 div.sk-parallel-item::after {content: \"\";width: 100%;border-bottom: 1px solid gray;flex-grow: 1;}#sk-container-id-8 div.sk-label:hover label.sk-toggleable__label {background-color: #d4ebff;}#sk-container-id-8 div.sk-serial::before {content: \"\";position: absolute;border-left: 1px solid gray;box-sizing: border-box;top: 0;bottom: 0;left: 50%;z-index: 0;}#sk-container-id-8 div.sk-serial {display: flex;flex-direction: column;align-items: center;background-color: white;padding-right: 0.2em;padding-left: 0.2em;position: relative;}#sk-container-id-8 div.sk-item {position: relative;z-index: 1;}#sk-container-id-8 div.sk-parallel {display: flex;align-items: stretch;justify-content: center;background-color: white;position: relative;}#sk-container-id-8 div.sk-item::before, #sk-container-id-8 div.sk-parallel-item::before {content: \"\";position: absolute;border-left: 1px solid gray;box-sizing: border-box;top: 0;bottom: 0;left: 50%;z-index: -1;}#sk-container-id-8 div.sk-parallel-item {display: flex;flex-direction: column;z-index: 1;position: relative;background-color: white;}#sk-container-id-8 div.sk-parallel-item:first-child::after {align-self: flex-end;width: 50%;}#sk-container-id-8 div.sk-parallel-item:last-child::after {align-self: flex-start;width: 50%;}#sk-container-id-8 div.sk-parallel-item:only-child::after {width: 0;}#sk-container-id-8 div.sk-dashed-wrapped {border: 1px dashed gray;margin: 0 0.4em 0.5em 0.4em;box-sizing: border-box;padding-bottom: 0.4em;background-color: white;}#sk-container-id-8 div.sk-label label {font-family: monospace;font-weight: bold;display: inline-block;line-height: 1.2em;}#sk-container-id-8 div.sk-label-container {text-align: center;}#sk-container-id-8 div.sk-container {/* jupyter's `normalize.less` sets `[hidden] { display: none; }` but bootstrap.min.css set `[hidden] { display: none !important; }` so we also need the `!important` here to be able to override the default hidden behavior on the sphinx rendered scikit-learn.org. See: https://github.com/scikit-learn/scikit-learn/issues/21755 */display: inline-block !important;position: relative;}#sk-container-id-8 div.sk-text-repr-fallback {display: none;}</style><div id=\"sk-container-id-8\" class=\"sk-top-container\"><div class=\"sk-text-repr-fallback\"><pre>XGBRegressor(base_score=None, booster=None, callbacks=None,\n",
       "             colsample_bylevel=None, colsample_bynode=None,\n",
       "             colsample_bytree=None, early_stopping_rounds=None,\n",
       "             enable_categorical=False, eval_metric=None, feature_types=None,\n",
       "             gamma=None, gpu_id=None, grow_policy=None, importance_type=None,\n",
       "             interaction_constraints=None, learning_rate=None, max_bin=None,\n",
       "             max_cat_threshold=None, max_cat_to_onehot=None,\n",
       "             max_delta_step=None, max_depth=None, max_leaves=None,\n",
       "             min_child_weight=None, missing=nan, monotone_constraints=None,\n",
       "             n_estimators=100, n_jobs=None, num_parallel_tree=None,\n",
       "             predictor=None, random_state=None, ...)</pre><b>In a Jupyter environment, please rerun this cell to show the HTML representation or trust the notebook. <br />On GitHub, the HTML representation is unable to render, please try loading this page with nbviewer.org.</b></div><div class=\"sk-container\" hidden><div class=\"sk-item\"><div class=\"sk-estimator sk-toggleable\"><input class=\"sk-toggleable__control sk-hidden--visually\" id=\"sk-estimator-id-12\" type=\"checkbox\" checked><label for=\"sk-estimator-id-12\" class=\"sk-toggleable__label sk-toggleable__label-arrow\">XGBRegressor</label><div class=\"sk-toggleable__content\"><pre>XGBRegressor(base_score=None, booster=None, callbacks=None,\n",
       "             colsample_bylevel=None, colsample_bynode=None,\n",
       "             colsample_bytree=None, early_stopping_rounds=None,\n",
       "             enable_categorical=False, eval_metric=None, feature_types=None,\n",
       "             gamma=None, gpu_id=None, grow_policy=None, importance_type=None,\n",
       "             interaction_constraints=None, learning_rate=None, max_bin=None,\n",
       "             max_cat_threshold=None, max_cat_to_onehot=None,\n",
       "             max_delta_step=None, max_depth=None, max_leaves=None,\n",
       "             min_child_weight=None, missing=nan, monotone_constraints=None,\n",
       "             n_estimators=100, n_jobs=None, num_parallel_tree=None,\n",
       "             predictor=None, random_state=None, ...)</pre></div></div></div></div></div>"
      ],
      "text/plain": [
       "XGBRegressor(base_score=None, booster=None, callbacks=None,\n",
       "             colsample_bylevel=None, colsample_bynode=None,\n",
       "             colsample_bytree=None, early_stopping_rounds=None,\n",
       "             enable_categorical=False, eval_metric=None, feature_types=None,\n",
       "             gamma=None, gpu_id=None, grow_policy=None, importance_type=None,\n",
       "             interaction_constraints=None, learning_rate=None, max_bin=None,\n",
       "             max_cat_threshold=None, max_cat_to_onehot=None,\n",
       "             max_delta_step=None, max_depth=None, max_leaves=None,\n",
       "             min_child_weight=None, missing=nan, monotone_constraints=None,\n",
       "             n_estimators=100, n_jobs=None, num_parallel_tree=None,\n",
       "             predictor=None, random_state=None, ...)"
      ]
     },
     "execution_count": 91,
     "metadata": {},
     "output_type": "execute_result"
    }
   ],
   "source": [
    "xgb_regressor.fit(X_train , y_train)"
   ]
  },
  {
   "cell_type": "code",
   "execution_count": 92,
   "id": "2583d90c",
   "metadata": {
    "execution": {
     "iopub.execute_input": "2023-12-15T18:08:58.604976Z",
     "iopub.status.busy": "2023-12-15T18:08:58.603902Z",
     "iopub.status.idle": "2023-12-15T18:08:58.758734Z",
     "shell.execute_reply": "2023-12-15T18:08:58.757723Z"
    },
    "papermill": {
     "duration": 0.21933,
     "end_time": "2023-12-15T18:08:58.761411",
     "exception": false,
     "start_time": "2023-12-15T18:08:58.542081",
     "status": "completed"
    },
    "tags": []
   },
   "outputs": [
    {
     "name": "stdout",
     "output_type": "stream",
     "text": [
      "0.9634437939558567\n"
     ]
    }
   ],
   "source": [
    "train_predictions_xgb = xgb_regressor.predict(X_train)\n",
    "print(r2_score(train_predictions_xgb , y_train))"
   ]
  },
  {
   "cell_type": "code",
   "execution_count": 93,
   "id": "aa2ae254",
   "metadata": {
    "execution": {
     "iopub.execute_input": "2023-12-15T18:08:58.886035Z",
     "iopub.status.busy": "2023-12-15T18:08:58.885344Z",
     "iopub.status.idle": "2023-12-15T18:08:58.932500Z",
     "shell.execute_reply": "2023-12-15T18:08:58.931529Z"
    },
    "papermill": {
     "duration": 0.11206,
     "end_time": "2023-12-15T18:08:58.935002",
     "exception": false,
     "start_time": "2023-12-15T18:08:58.822942",
     "status": "completed"
    },
    "tags": []
   },
   "outputs": [
    {
     "name": "stdout",
     "output_type": "stream",
     "text": [
      "0.9356404362150552\n"
     ]
    }
   ],
   "source": [
    "test_predictions_xgb = xgb_regressor.predict(X_test)\n",
    "print(r2_score(test_predictions_xgb , y_test)) "
   ]
  },
  {
   "cell_type": "code",
   "execution_count": 94,
   "id": "ae78df06",
   "metadata": {
    "execution": {
     "iopub.execute_input": "2023-12-15T18:08:59.060429Z",
     "iopub.status.busy": "2023-12-15T18:08:59.059986Z",
     "iopub.status.idle": "2023-12-15T18:08:59.066287Z",
     "shell.execute_reply": "2023-12-15T18:08:59.065220Z"
    },
    "papermill": {
     "duration": 0.071397,
     "end_time": "2023-12-15T18:08:59.068565",
     "exception": false,
     "start_time": "2023-12-15T18:08:58.997168",
     "status": "completed"
    },
    "tags": []
   },
   "outputs": [],
   "source": [
    "param_dist = {\n",
    "    'learning_rate': [0.05, 0.1, 0.2],\n",
    "    'max_depth': [5, 10, 15],\n",
    "    'n_estimators': [50, 100, 200],\n",
    "    'subsample': [0.8, 0.9, 1.0],\n",
    "    'colsample_bytree': [0.8, 0.9, 1.0],\n",
    "    'gamma': [0, 1, 2]\n",
    "} "
   ]
  },
  {
   "cell_type": "code",
   "execution_count": 95,
   "id": "ea6deb8c",
   "metadata": {
    "execution": {
     "iopub.execute_input": "2023-12-15T18:08:59.192728Z",
     "iopub.status.busy": "2023-12-15T18:08:59.192047Z",
     "iopub.status.idle": "2023-12-15T18:14:52.147927Z",
     "shell.execute_reply": "2023-12-15T18:14:52.146712Z"
    },
    "papermill": {
     "duration": 353.081462,
     "end_time": "2023-12-15T18:14:52.211547",
     "exception": false,
     "start_time": "2023-12-15T18:08:59.130085",
     "status": "completed"
    },
    "tags": []
   },
   "outputs": [
    {
     "data": {
      "text/html": [
       "<style>#sk-container-id-9 {color: black;background-color: white;}#sk-container-id-9 pre{padding: 0;}#sk-container-id-9 div.sk-toggleable {background-color: white;}#sk-container-id-9 label.sk-toggleable__label {cursor: pointer;display: block;width: 100%;margin-bottom: 0;padding: 0.3em;box-sizing: border-box;text-align: center;}#sk-container-id-9 label.sk-toggleable__label-arrow:before {content: \"▸\";float: left;margin-right: 0.25em;color: #696969;}#sk-container-id-9 label.sk-toggleable__label-arrow:hover:before {color: black;}#sk-container-id-9 div.sk-estimator:hover label.sk-toggleable__label-arrow:before {color: black;}#sk-container-id-9 div.sk-toggleable__content {max-height: 0;max-width: 0;overflow: hidden;text-align: left;background-color: #f0f8ff;}#sk-container-id-9 div.sk-toggleable__content pre {margin: 0.2em;color: black;border-radius: 0.25em;background-color: #f0f8ff;}#sk-container-id-9 input.sk-toggleable__control:checked~div.sk-toggleable__content {max-height: 200px;max-width: 100%;overflow: auto;}#sk-container-id-9 input.sk-toggleable__control:checked~label.sk-toggleable__label-arrow:before {content: \"▾\";}#sk-container-id-9 div.sk-estimator input.sk-toggleable__control:checked~label.sk-toggleable__label {background-color: #d4ebff;}#sk-container-id-9 div.sk-label input.sk-toggleable__control:checked~label.sk-toggleable__label {background-color: #d4ebff;}#sk-container-id-9 input.sk-hidden--visually {border: 0;clip: rect(1px 1px 1px 1px);clip: rect(1px, 1px, 1px, 1px);height: 1px;margin: -1px;overflow: hidden;padding: 0;position: absolute;width: 1px;}#sk-container-id-9 div.sk-estimator {font-family: monospace;background-color: #f0f8ff;border: 1px dotted black;border-radius: 0.25em;box-sizing: border-box;margin-bottom: 0.5em;}#sk-container-id-9 div.sk-estimator:hover {background-color: #d4ebff;}#sk-container-id-9 div.sk-parallel-item::after {content: \"\";width: 100%;border-bottom: 1px solid gray;flex-grow: 1;}#sk-container-id-9 div.sk-label:hover label.sk-toggleable__label {background-color: #d4ebff;}#sk-container-id-9 div.sk-serial::before {content: \"\";position: absolute;border-left: 1px solid gray;box-sizing: border-box;top: 0;bottom: 0;left: 50%;z-index: 0;}#sk-container-id-9 div.sk-serial {display: flex;flex-direction: column;align-items: center;background-color: white;padding-right: 0.2em;padding-left: 0.2em;position: relative;}#sk-container-id-9 div.sk-item {position: relative;z-index: 1;}#sk-container-id-9 div.sk-parallel {display: flex;align-items: stretch;justify-content: center;background-color: white;position: relative;}#sk-container-id-9 div.sk-item::before, #sk-container-id-9 div.sk-parallel-item::before {content: \"\";position: absolute;border-left: 1px solid gray;box-sizing: border-box;top: 0;bottom: 0;left: 50%;z-index: -1;}#sk-container-id-9 div.sk-parallel-item {display: flex;flex-direction: column;z-index: 1;position: relative;background-color: white;}#sk-container-id-9 div.sk-parallel-item:first-child::after {align-self: flex-end;width: 50%;}#sk-container-id-9 div.sk-parallel-item:last-child::after {align-self: flex-start;width: 50%;}#sk-container-id-9 div.sk-parallel-item:only-child::after {width: 0;}#sk-container-id-9 div.sk-dashed-wrapped {border: 1px dashed gray;margin: 0 0.4em 0.5em 0.4em;box-sizing: border-box;padding-bottom: 0.4em;background-color: white;}#sk-container-id-9 div.sk-label label {font-family: monospace;font-weight: bold;display: inline-block;line-height: 1.2em;}#sk-container-id-9 div.sk-label-container {text-align: center;}#sk-container-id-9 div.sk-container {/* jupyter's `normalize.less` sets `[hidden] { display: none; }` but bootstrap.min.css set `[hidden] { display: none !important; }` so we also need the `!important` here to be able to override the default hidden behavior on the sphinx rendered scikit-learn.org. See: https://github.com/scikit-learn/scikit-learn/issues/21755 */display: inline-block !important;position: relative;}#sk-container-id-9 div.sk-text-repr-fallback {display: none;}</style><div id=\"sk-container-id-9\" class=\"sk-top-container\"><div class=\"sk-text-repr-fallback\"><pre>RandomizedSearchCV(cv=3,\n",
       "                   estimator=XGBRegressor(base_score=None, booster=None,\n",
       "                                          callbacks=None,\n",
       "                                          colsample_bylevel=None,\n",
       "                                          colsample_bynode=None,\n",
       "                                          colsample_bytree=None,\n",
       "                                          early_stopping_rounds=None,\n",
       "                                          enable_categorical=False,\n",
       "                                          eval_metric=None, feature_types=None,\n",
       "                                          gamma=None, gpu_id=None,\n",
       "                                          grow_policy=None,\n",
       "                                          importance_type=None,\n",
       "                                          interaction_constraints=None,\n",
       "                                          learning_rate=...\n",
       "                                          min_child_weight=None, missing=nan,\n",
       "                                          monotone_constraints=None,\n",
       "                                          n_estimators=100, n_jobs=None,\n",
       "                                          num_parallel_tree=None,\n",
       "                                          predictor=None, random_state=None, ...),\n",
       "                   param_distributions={&#x27;colsample_bytree&#x27;: [0.8, 0.9, 1.0],\n",
       "                                        &#x27;gamma&#x27;: [0, 1, 2],\n",
       "                                        &#x27;learning_rate&#x27;: [0.05, 0.1, 0.2],\n",
       "                                        &#x27;max_depth&#x27;: [5, 10, 15],\n",
       "                                        &#x27;n_estimators&#x27;: [50, 100, 200],\n",
       "                                        &#x27;subsample&#x27;: [0.8, 0.9, 1.0]},\n",
       "                   random_state=42, scoring=&#x27;r2&#x27;)</pre><b>In a Jupyter environment, please rerun this cell to show the HTML representation or trust the notebook. <br />On GitHub, the HTML representation is unable to render, please try loading this page with nbviewer.org.</b></div><div class=\"sk-container\" hidden><div class=\"sk-item sk-dashed-wrapped\"><div class=\"sk-label-container\"><div class=\"sk-label sk-toggleable\"><input class=\"sk-toggleable__control sk-hidden--visually\" id=\"sk-estimator-id-13\" type=\"checkbox\" ><label for=\"sk-estimator-id-13\" class=\"sk-toggleable__label sk-toggleable__label-arrow\">RandomizedSearchCV</label><div class=\"sk-toggleable__content\"><pre>RandomizedSearchCV(cv=3,\n",
       "                   estimator=XGBRegressor(base_score=None, booster=None,\n",
       "                                          callbacks=None,\n",
       "                                          colsample_bylevel=None,\n",
       "                                          colsample_bynode=None,\n",
       "                                          colsample_bytree=None,\n",
       "                                          early_stopping_rounds=None,\n",
       "                                          enable_categorical=False,\n",
       "                                          eval_metric=None, feature_types=None,\n",
       "                                          gamma=None, gpu_id=None,\n",
       "                                          grow_policy=None,\n",
       "                                          importance_type=None,\n",
       "                                          interaction_constraints=None,\n",
       "                                          learning_rate=...\n",
       "                                          min_child_weight=None, missing=nan,\n",
       "                                          monotone_constraints=None,\n",
       "                                          n_estimators=100, n_jobs=None,\n",
       "                                          num_parallel_tree=None,\n",
       "                                          predictor=None, random_state=None, ...),\n",
       "                   param_distributions={&#x27;colsample_bytree&#x27;: [0.8, 0.9, 1.0],\n",
       "                                        &#x27;gamma&#x27;: [0, 1, 2],\n",
       "                                        &#x27;learning_rate&#x27;: [0.05, 0.1, 0.2],\n",
       "                                        &#x27;max_depth&#x27;: [5, 10, 15],\n",
       "                                        &#x27;n_estimators&#x27;: [50, 100, 200],\n",
       "                                        &#x27;subsample&#x27;: [0.8, 0.9, 1.0]},\n",
       "                   random_state=42, scoring=&#x27;r2&#x27;)</pre></div></div></div><div class=\"sk-parallel\"><div class=\"sk-parallel-item\"><div class=\"sk-item\"><div class=\"sk-label-container\"><div class=\"sk-label sk-toggleable\"><input class=\"sk-toggleable__control sk-hidden--visually\" id=\"sk-estimator-id-14\" type=\"checkbox\" ><label for=\"sk-estimator-id-14\" class=\"sk-toggleable__label sk-toggleable__label-arrow\">estimator: XGBRegressor</label><div class=\"sk-toggleable__content\"><pre>XGBRegressor(base_score=None, booster=None, callbacks=None,\n",
       "             colsample_bylevel=None, colsample_bynode=None,\n",
       "             colsample_bytree=None, early_stopping_rounds=None,\n",
       "             enable_categorical=False, eval_metric=None, feature_types=None,\n",
       "             gamma=None, gpu_id=None, grow_policy=None, importance_type=None,\n",
       "             interaction_constraints=None, learning_rate=None, max_bin=None,\n",
       "             max_cat_threshold=None, max_cat_to_onehot=None,\n",
       "             max_delta_step=None, max_depth=None, max_leaves=None,\n",
       "             min_child_weight=None, missing=nan, monotone_constraints=None,\n",
       "             n_estimators=100, n_jobs=None, num_parallel_tree=None,\n",
       "             predictor=None, random_state=None, ...)</pre></div></div></div><div class=\"sk-serial\"><div class=\"sk-item\"><div class=\"sk-estimator sk-toggleable\"><input class=\"sk-toggleable__control sk-hidden--visually\" id=\"sk-estimator-id-15\" type=\"checkbox\" ><label for=\"sk-estimator-id-15\" class=\"sk-toggleable__label sk-toggleable__label-arrow\">XGBRegressor</label><div class=\"sk-toggleable__content\"><pre>XGBRegressor(base_score=None, booster=None, callbacks=None,\n",
       "             colsample_bylevel=None, colsample_bynode=None,\n",
       "             colsample_bytree=None, early_stopping_rounds=None,\n",
       "             enable_categorical=False, eval_metric=None, feature_types=None,\n",
       "             gamma=None, gpu_id=None, grow_policy=None, importance_type=None,\n",
       "             interaction_constraints=None, learning_rate=None, max_bin=None,\n",
       "             max_cat_threshold=None, max_cat_to_onehot=None,\n",
       "             max_delta_step=None, max_depth=None, max_leaves=None,\n",
       "             min_child_weight=None, missing=nan, monotone_constraints=None,\n",
       "             n_estimators=100, n_jobs=None, num_parallel_tree=None,\n",
       "             predictor=None, random_state=None, ...)</pre></div></div></div></div></div></div></div></div></div></div>"
      ],
      "text/plain": [
       "RandomizedSearchCV(cv=3,\n",
       "                   estimator=XGBRegressor(base_score=None, booster=None,\n",
       "                                          callbacks=None,\n",
       "                                          colsample_bylevel=None,\n",
       "                                          colsample_bynode=None,\n",
       "                                          colsample_bytree=None,\n",
       "                                          early_stopping_rounds=None,\n",
       "                                          enable_categorical=False,\n",
       "                                          eval_metric=None, feature_types=None,\n",
       "                                          gamma=None, gpu_id=None,\n",
       "                                          grow_policy=None,\n",
       "                                          importance_type=None,\n",
       "                                          interaction_constraints=None,\n",
       "                                          learning_rate=...\n",
       "                                          min_child_weight=None, missing=nan,\n",
       "                                          monotone_constraints=None,\n",
       "                                          n_estimators=100, n_jobs=None,\n",
       "                                          num_parallel_tree=None,\n",
       "                                          predictor=None, random_state=None, ...),\n",
       "                   param_distributions={'colsample_bytree': [0.8, 0.9, 1.0],\n",
       "                                        'gamma': [0, 1, 2],\n",
       "                                        'learning_rate': [0.05, 0.1, 0.2],\n",
       "                                        'max_depth': [5, 10, 15],\n",
       "                                        'n_estimators': [50, 100, 200],\n",
       "                                        'subsample': [0.8, 0.9, 1.0]},\n",
       "                   random_state=42, scoring='r2')"
      ]
     },
     "execution_count": 95,
     "metadata": {},
     "output_type": "execute_result"
    }
   ],
   "source": [
    "random_search = RandomizedSearchCV(\n",
    "    estimator= xgb_regressor ,\n",
    "    param_distributions=param_dist,\n",
    "    n_iter=10,  \n",
    "    cv=3,\n",
    "    scoring='r2',\n",
    "    random_state=42\n",
    ")\n",
    "\n",
    "random_search.fit(X_train, y_train) "
   ]
  },
  {
   "cell_type": "code",
   "execution_count": 96,
   "id": "06d3a1ef",
   "metadata": {
    "execution": {
     "iopub.execute_input": "2023-12-15T18:14:52.337413Z",
     "iopub.status.busy": "2023-12-15T18:14:52.336999Z",
     "iopub.status.idle": "2023-12-15T18:14:52.342422Z",
     "shell.execute_reply": "2023-12-15T18:14:52.341228Z"
    },
    "papermill": {
     "duration": 0.072105,
     "end_time": "2023-12-15T18:14:52.344946",
     "exception": false,
     "start_time": "2023-12-15T18:14:52.272841",
     "status": "completed"
    },
    "tags": []
   },
   "outputs": [],
   "source": [
    "best_xgb_regressor = random_search.best_estimator_ "
   ]
  },
  {
   "cell_type": "code",
   "execution_count": 97,
   "id": "1a14c735",
   "metadata": {
    "execution": {
     "iopub.execute_input": "2023-12-15T18:14:52.470104Z",
     "iopub.status.busy": "2023-12-15T18:14:52.469392Z",
     "iopub.status.idle": "2023-12-15T18:14:52.598728Z",
     "shell.execute_reply": "2023-12-15T18:14:52.597470Z"
    },
    "papermill": {
     "duration": 0.194783,
     "end_time": "2023-12-15T18:14:52.601035",
     "exception": false,
     "start_time": "2023-12-15T18:14:52.406252",
     "status": "completed"
    },
    "tags": []
   },
   "outputs": [
    {
     "name": "stdout",
     "output_type": "stream",
     "text": [
      "0.9353710210160917\n"
     ]
    }
   ],
   "source": [
    "train_predictions_xgb = best_xgb_regressor.predict(X_train)\n",
    "print(r2_score(train_predictions_xgb , y_train)) "
   ]
  },
  {
   "cell_type": "code",
   "execution_count": 98,
   "id": "52e8c61b",
   "metadata": {
    "execution": {
     "iopub.execute_input": "2023-12-15T18:14:52.728807Z",
     "iopub.status.busy": "2023-12-15T18:14:52.727649Z",
     "iopub.status.idle": "2023-12-15T18:14:52.771945Z",
     "shell.execute_reply": "2023-12-15T18:14:52.770822Z"
    },
    "papermill": {
     "duration": 0.110609,
     "end_time": "2023-12-15T18:14:52.774519",
     "exception": false,
     "start_time": "2023-12-15T18:14:52.663910",
     "status": "completed"
    },
    "tags": []
   },
   "outputs": [
    {
     "name": "stdout",
     "output_type": "stream",
     "text": [
      "0.9383508270148726\n"
     ]
    }
   ],
   "source": [
    "test_predictions_xgb = best_xgb_regressor.predict(X_test)\n",
    "print(r2_score(test_predictions_xgb , y_test)) "
   ]
  },
  {
   "cell_type": "markdown",
   "id": "499a2008",
   "metadata": {
    "papermill": {
     "duration": 0.062731,
     "end_time": "2023-12-15T18:14:52.900244",
     "exception": false,
     "start_time": "2023-12-15T18:14:52.837513",
     "status": "completed"
    },
    "tags": []
   },
   "source": [
    "## Lasso Regression"
   ]
  },
  {
   "cell_type": "code",
   "execution_count": 99,
   "id": "a06c66c8",
   "metadata": {
    "execution": {
     "iopub.execute_input": "2023-12-15T18:14:53.027494Z",
     "iopub.status.busy": "2023-12-15T18:14:53.027110Z",
     "iopub.status.idle": "2023-12-15T18:14:53.032754Z",
     "shell.execute_reply": "2023-12-15T18:14:53.031373Z"
    },
    "papermill": {
     "duration": 0.071633,
     "end_time": "2023-12-15T18:14:53.035204",
     "exception": false,
     "start_time": "2023-12-15T18:14:52.963571",
     "status": "completed"
    },
    "tags": []
   },
   "outputs": [],
   "source": [
    "from sklearn.linear_model import Lasso\n",
    "lasso = Lasso(alpha = 1.0)"
   ]
  },
  {
   "cell_type": "code",
   "execution_count": 100,
   "id": "f2921d41",
   "metadata": {
    "execution": {
     "iopub.execute_input": "2023-12-15T18:14:53.159943Z",
     "iopub.status.busy": "2023-12-15T18:14:53.159460Z",
     "iopub.status.idle": "2023-12-15T18:14:53.225539Z",
     "shell.execute_reply": "2023-12-15T18:14:53.223974Z"
    },
    "papermill": {
     "duration": 0.133774,
     "end_time": "2023-12-15T18:14:53.230359",
     "exception": false,
     "start_time": "2023-12-15T18:14:53.096585",
     "status": "completed"
    },
    "tags": []
   },
   "outputs": [
    {
     "data": {
      "text/html": [
       "<style>#sk-container-id-10 {color: black;background-color: white;}#sk-container-id-10 pre{padding: 0;}#sk-container-id-10 div.sk-toggleable {background-color: white;}#sk-container-id-10 label.sk-toggleable__label {cursor: pointer;display: block;width: 100%;margin-bottom: 0;padding: 0.3em;box-sizing: border-box;text-align: center;}#sk-container-id-10 label.sk-toggleable__label-arrow:before {content: \"▸\";float: left;margin-right: 0.25em;color: #696969;}#sk-container-id-10 label.sk-toggleable__label-arrow:hover:before {color: black;}#sk-container-id-10 div.sk-estimator:hover label.sk-toggleable__label-arrow:before {color: black;}#sk-container-id-10 div.sk-toggleable__content {max-height: 0;max-width: 0;overflow: hidden;text-align: left;background-color: #f0f8ff;}#sk-container-id-10 div.sk-toggleable__content pre {margin: 0.2em;color: black;border-radius: 0.25em;background-color: #f0f8ff;}#sk-container-id-10 input.sk-toggleable__control:checked~div.sk-toggleable__content {max-height: 200px;max-width: 100%;overflow: auto;}#sk-container-id-10 input.sk-toggleable__control:checked~label.sk-toggleable__label-arrow:before {content: \"▾\";}#sk-container-id-10 div.sk-estimator input.sk-toggleable__control:checked~label.sk-toggleable__label {background-color: #d4ebff;}#sk-container-id-10 div.sk-label input.sk-toggleable__control:checked~label.sk-toggleable__label {background-color: #d4ebff;}#sk-container-id-10 input.sk-hidden--visually {border: 0;clip: rect(1px 1px 1px 1px);clip: rect(1px, 1px, 1px, 1px);height: 1px;margin: -1px;overflow: hidden;padding: 0;position: absolute;width: 1px;}#sk-container-id-10 div.sk-estimator {font-family: monospace;background-color: #f0f8ff;border: 1px dotted black;border-radius: 0.25em;box-sizing: border-box;margin-bottom: 0.5em;}#sk-container-id-10 div.sk-estimator:hover {background-color: #d4ebff;}#sk-container-id-10 div.sk-parallel-item::after {content: \"\";width: 100%;border-bottom: 1px solid gray;flex-grow: 1;}#sk-container-id-10 div.sk-label:hover label.sk-toggleable__label {background-color: #d4ebff;}#sk-container-id-10 div.sk-serial::before {content: \"\";position: absolute;border-left: 1px solid gray;box-sizing: border-box;top: 0;bottom: 0;left: 50%;z-index: 0;}#sk-container-id-10 div.sk-serial {display: flex;flex-direction: column;align-items: center;background-color: white;padding-right: 0.2em;padding-left: 0.2em;position: relative;}#sk-container-id-10 div.sk-item {position: relative;z-index: 1;}#sk-container-id-10 div.sk-parallel {display: flex;align-items: stretch;justify-content: center;background-color: white;position: relative;}#sk-container-id-10 div.sk-item::before, #sk-container-id-10 div.sk-parallel-item::before {content: \"\";position: absolute;border-left: 1px solid gray;box-sizing: border-box;top: 0;bottom: 0;left: 50%;z-index: -1;}#sk-container-id-10 div.sk-parallel-item {display: flex;flex-direction: column;z-index: 1;position: relative;background-color: white;}#sk-container-id-10 div.sk-parallel-item:first-child::after {align-self: flex-end;width: 50%;}#sk-container-id-10 div.sk-parallel-item:last-child::after {align-self: flex-start;width: 50%;}#sk-container-id-10 div.sk-parallel-item:only-child::after {width: 0;}#sk-container-id-10 div.sk-dashed-wrapped {border: 1px dashed gray;margin: 0 0.4em 0.5em 0.4em;box-sizing: border-box;padding-bottom: 0.4em;background-color: white;}#sk-container-id-10 div.sk-label label {font-family: monospace;font-weight: bold;display: inline-block;line-height: 1.2em;}#sk-container-id-10 div.sk-label-container {text-align: center;}#sk-container-id-10 div.sk-container {/* jupyter's `normalize.less` sets `[hidden] { display: none; }` but bootstrap.min.css set `[hidden] { display: none !important; }` so we also need the `!important` here to be able to override the default hidden behavior on the sphinx rendered scikit-learn.org. See: https://github.com/scikit-learn/scikit-learn/issues/21755 */display: inline-block !important;position: relative;}#sk-container-id-10 div.sk-text-repr-fallback {display: none;}</style><div id=\"sk-container-id-10\" class=\"sk-top-container\"><div class=\"sk-text-repr-fallback\"><pre>Lasso()</pre><b>In a Jupyter environment, please rerun this cell to show the HTML representation or trust the notebook. <br />On GitHub, the HTML representation is unable to render, please try loading this page with nbviewer.org.</b></div><div class=\"sk-container\" hidden><div class=\"sk-item\"><div class=\"sk-estimator sk-toggleable\"><input class=\"sk-toggleable__control sk-hidden--visually\" id=\"sk-estimator-id-16\" type=\"checkbox\" checked><label for=\"sk-estimator-id-16\" class=\"sk-toggleable__label sk-toggleable__label-arrow\">Lasso</label><div class=\"sk-toggleable__content\"><pre>Lasso()</pre></div></div></div></div></div>"
      ],
      "text/plain": [
       "Lasso()"
      ]
     },
     "execution_count": 100,
     "metadata": {},
     "output_type": "execute_result"
    }
   ],
   "source": [
    "lasso.fit(X_train , y_train) "
   ]
  },
  {
   "cell_type": "code",
   "execution_count": 101,
   "id": "e9d3b8de",
   "metadata": {
    "execution": {
     "iopub.execute_input": "2023-12-15T18:14:53.411408Z",
     "iopub.status.busy": "2023-12-15T18:14:53.411012Z",
     "iopub.status.idle": "2023-12-15T18:14:53.432954Z",
     "shell.execute_reply": "2023-12-15T18:14:53.431375Z"
    },
    "papermill": {
     "duration": 0.089512,
     "end_time": "2023-12-15T18:14:53.437263",
     "exception": false,
     "start_time": "2023-12-15T18:14:53.347751",
     "status": "completed"
    },
    "tags": []
   },
   "outputs": [
    {
     "name": "stdout",
     "output_type": "stream",
     "text": [
      "0.23287352507796277\n"
     ]
    }
   ],
   "source": [
    "train_predictions = lasso.predict(X_train) \n",
    "print(r2_score(train_predictions , y_train)) "
   ]
  },
  {
   "cell_type": "code",
   "execution_count": 102,
   "id": "1013544b",
   "metadata": {
    "execution": {
     "iopub.execute_input": "2023-12-15T18:14:53.620586Z",
     "iopub.status.busy": "2023-12-15T18:14:53.619598Z",
     "iopub.status.idle": "2023-12-15T18:14:53.637002Z",
     "shell.execute_reply": "2023-12-15T18:14:53.635520Z"
    },
    "papermill": {
     "duration": 0.08521,
     "end_time": "2023-12-15T18:14:53.641535",
     "exception": false,
     "start_time": "2023-12-15T18:14:53.556325",
     "status": "completed"
    },
    "tags": []
   },
   "outputs": [
    {
     "name": "stdout",
     "output_type": "stream",
     "text": [
      "0.3465190025187065\n"
     ]
    }
   ],
   "source": [
    "test_predictions = lasso.predict(X_test)\n",
    "print(r2_score(test_predictions , y_test))"
   ]
  },
  {
   "cell_type": "code",
   "execution_count": 103,
   "id": "8d999517",
   "metadata": {
    "execution": {
     "iopub.execute_input": "2023-12-15T18:14:53.833216Z",
     "iopub.status.busy": "2023-12-15T18:14:53.832776Z",
     "iopub.status.idle": "2023-12-15T18:15:04.535433Z",
     "shell.execute_reply": "2023-12-15T18:15:04.533757Z"
    },
    "papermill": {
     "duration": 10.776085,
     "end_time": "2023-12-15T18:15:04.540311",
     "exception": false,
     "start_time": "2023-12-15T18:14:53.764226",
     "status": "completed"
    },
    "tags": []
   },
   "outputs": [],
   "source": [
    "from sklearn.model_selection import GridSearchCV\n",
    "\n",
    "param_grid = {'alpha': [0.001, 0.01, 0.1, 1.0, 10.0]}\n",
    "grid_search = GridSearchCV(Lasso(), param_grid, cv=5)\n",
    "grid_search.fit(X_train, y_train)\n",
    "\n",
    "best_alpha = grid_search.best_params_['alpha'] "
   ]
  },
  {
   "cell_type": "code",
   "execution_count": 104,
   "id": "ab09d2c3",
   "metadata": {
    "execution": {
     "iopub.execute_input": "2023-12-15T18:15:04.728833Z",
     "iopub.status.busy": "2023-12-15T18:15:04.728292Z",
     "iopub.status.idle": "2023-12-15T18:15:04.745896Z",
     "shell.execute_reply": "2023-12-15T18:15:04.745113Z"
    },
    "papermill": {
     "duration": 0.089526,
     "end_time": "2023-12-15T18:15:04.752463",
     "exception": false,
     "start_time": "2023-12-15T18:15:04.662937",
     "status": "completed"
    },
    "tags": []
   },
   "outputs": [
    {
     "name": "stdout",
     "output_type": "stream",
     "text": [
      "0.45466639684741084\n"
     ]
    }
   ],
   "source": [
    "best_lasso = grid_search.best_estimator_\n",
    "final_predictions = best_lasso.predict(X_test)\n",
    "print(r2_score(final_predictions , y_test))\n"
   ]
  },
  {
   "cell_type": "markdown",
   "id": "1d226ae1",
   "metadata": {
    "papermill": {
     "duration": 0.062865,
     "end_time": "2023-12-15T18:15:04.935635",
     "exception": false,
     "start_time": "2023-12-15T18:15:04.872770",
     "status": "completed"
    },
    "tags": []
   },
   "source": [
    "## Ridge Regression \n"
   ]
  },
  {
   "cell_type": "code",
   "execution_count": 105,
   "id": "5bab45c2",
   "metadata": {
    "execution": {
     "iopub.execute_input": "2023-12-15T18:15:05.062003Z",
     "iopub.status.busy": "2023-12-15T18:15:05.061600Z",
     "iopub.status.idle": "2023-12-15T18:15:05.066591Z",
     "shell.execute_reply": "2023-12-15T18:15:05.065419Z"
    },
    "papermill": {
     "duration": 0.070417,
     "end_time": "2023-12-15T18:15:05.069059",
     "exception": false,
     "start_time": "2023-12-15T18:15:04.998642",
     "status": "completed"
    },
    "tags": []
   },
   "outputs": [],
   "source": [
    "from sklearn.linear_model import Ridge\n",
    "ridge = Ridge() "
   ]
  },
  {
   "cell_type": "code",
   "execution_count": 106,
   "id": "682e3120",
   "metadata": {
    "execution": {
     "iopub.execute_input": "2023-12-15T18:15:05.194892Z",
     "iopub.status.busy": "2023-12-15T18:15:05.194281Z",
     "iopub.status.idle": "2023-12-15T18:15:05.252348Z",
     "shell.execute_reply": "2023-12-15T18:15:05.249653Z"
    },
    "papermill": {
     "duration": 0.126591,
     "end_time": "2023-12-15T18:15:05.257317",
     "exception": false,
     "start_time": "2023-12-15T18:15:05.130726",
     "status": "completed"
    },
    "tags": []
   },
   "outputs": [
    {
     "data": {
      "text/html": [
       "<style>#sk-container-id-11 {color: black;background-color: white;}#sk-container-id-11 pre{padding: 0;}#sk-container-id-11 div.sk-toggleable {background-color: white;}#sk-container-id-11 label.sk-toggleable__label {cursor: pointer;display: block;width: 100%;margin-bottom: 0;padding: 0.3em;box-sizing: border-box;text-align: center;}#sk-container-id-11 label.sk-toggleable__label-arrow:before {content: \"▸\";float: left;margin-right: 0.25em;color: #696969;}#sk-container-id-11 label.sk-toggleable__label-arrow:hover:before {color: black;}#sk-container-id-11 div.sk-estimator:hover label.sk-toggleable__label-arrow:before {color: black;}#sk-container-id-11 div.sk-toggleable__content {max-height: 0;max-width: 0;overflow: hidden;text-align: left;background-color: #f0f8ff;}#sk-container-id-11 div.sk-toggleable__content pre {margin: 0.2em;color: black;border-radius: 0.25em;background-color: #f0f8ff;}#sk-container-id-11 input.sk-toggleable__control:checked~div.sk-toggleable__content {max-height: 200px;max-width: 100%;overflow: auto;}#sk-container-id-11 input.sk-toggleable__control:checked~label.sk-toggleable__label-arrow:before {content: \"▾\";}#sk-container-id-11 div.sk-estimator input.sk-toggleable__control:checked~label.sk-toggleable__label {background-color: #d4ebff;}#sk-container-id-11 div.sk-label input.sk-toggleable__control:checked~label.sk-toggleable__label {background-color: #d4ebff;}#sk-container-id-11 input.sk-hidden--visually {border: 0;clip: rect(1px 1px 1px 1px);clip: rect(1px, 1px, 1px, 1px);height: 1px;margin: -1px;overflow: hidden;padding: 0;position: absolute;width: 1px;}#sk-container-id-11 div.sk-estimator {font-family: monospace;background-color: #f0f8ff;border: 1px dotted black;border-radius: 0.25em;box-sizing: border-box;margin-bottom: 0.5em;}#sk-container-id-11 div.sk-estimator:hover {background-color: #d4ebff;}#sk-container-id-11 div.sk-parallel-item::after {content: \"\";width: 100%;border-bottom: 1px solid gray;flex-grow: 1;}#sk-container-id-11 div.sk-label:hover label.sk-toggleable__label {background-color: #d4ebff;}#sk-container-id-11 div.sk-serial::before {content: \"\";position: absolute;border-left: 1px solid gray;box-sizing: border-box;top: 0;bottom: 0;left: 50%;z-index: 0;}#sk-container-id-11 div.sk-serial {display: flex;flex-direction: column;align-items: center;background-color: white;padding-right: 0.2em;padding-left: 0.2em;position: relative;}#sk-container-id-11 div.sk-item {position: relative;z-index: 1;}#sk-container-id-11 div.sk-parallel {display: flex;align-items: stretch;justify-content: center;background-color: white;position: relative;}#sk-container-id-11 div.sk-item::before, #sk-container-id-11 div.sk-parallel-item::before {content: \"\";position: absolute;border-left: 1px solid gray;box-sizing: border-box;top: 0;bottom: 0;left: 50%;z-index: -1;}#sk-container-id-11 div.sk-parallel-item {display: flex;flex-direction: column;z-index: 1;position: relative;background-color: white;}#sk-container-id-11 div.sk-parallel-item:first-child::after {align-self: flex-end;width: 50%;}#sk-container-id-11 div.sk-parallel-item:last-child::after {align-self: flex-start;width: 50%;}#sk-container-id-11 div.sk-parallel-item:only-child::after {width: 0;}#sk-container-id-11 div.sk-dashed-wrapped {border: 1px dashed gray;margin: 0 0.4em 0.5em 0.4em;box-sizing: border-box;padding-bottom: 0.4em;background-color: white;}#sk-container-id-11 div.sk-label label {font-family: monospace;font-weight: bold;display: inline-block;line-height: 1.2em;}#sk-container-id-11 div.sk-label-container {text-align: center;}#sk-container-id-11 div.sk-container {/* jupyter's `normalize.less` sets `[hidden] { display: none; }` but bootstrap.min.css set `[hidden] { display: none !important; }` so we also need the `!important` here to be able to override the default hidden behavior on the sphinx rendered scikit-learn.org. See: https://github.com/scikit-learn/scikit-learn/issues/21755 */display: inline-block !important;position: relative;}#sk-container-id-11 div.sk-text-repr-fallback {display: none;}</style><div id=\"sk-container-id-11\" class=\"sk-top-container\"><div class=\"sk-text-repr-fallback\"><pre>Ridge()</pre><b>In a Jupyter environment, please rerun this cell to show the HTML representation or trust the notebook. <br />On GitHub, the HTML representation is unable to render, please try loading this page with nbviewer.org.</b></div><div class=\"sk-container\" hidden><div class=\"sk-item\"><div class=\"sk-estimator sk-toggleable\"><input class=\"sk-toggleable__control sk-hidden--visually\" id=\"sk-estimator-id-17\" type=\"checkbox\" checked><label for=\"sk-estimator-id-17\" class=\"sk-toggleable__label sk-toggleable__label-arrow\">Ridge</label><div class=\"sk-toggleable__content\"><pre>Ridge()</pre></div></div></div></div></div>"
      ],
      "text/plain": [
       "Ridge()"
      ]
     },
     "execution_count": 106,
     "metadata": {},
     "output_type": "execute_result"
    }
   ],
   "source": [
    "ridge.fit(X_train , y_train) "
   ]
  },
  {
   "cell_type": "code",
   "execution_count": 107,
   "id": "733164c4",
   "metadata": {
    "execution": {
     "iopub.execute_input": "2023-12-15T18:15:05.439580Z",
     "iopub.status.busy": "2023-12-15T18:15:05.438737Z",
     "iopub.status.idle": "2023-12-15T18:15:05.461989Z",
     "shell.execute_reply": "2023-12-15T18:15:05.460685Z"
    },
    "papermill": {
     "duration": 0.097697,
     "end_time": "2023-12-15T18:15:05.465897",
     "exception": false,
     "start_time": "2023-12-15T18:15:05.368200",
     "status": "completed"
    },
    "tags": []
   },
   "outputs": [
    {
     "name": "stdout",
     "output_type": "stream",
     "text": [
      "0.3752431047779541\n"
     ]
    }
   ],
   "source": [
    "ridge_train_predictions = ridge.predict(X_train)\n",
    "print(r2_score(ridge_train_predictions,y_train)) \n"
   ]
  },
  {
   "cell_type": "code",
   "execution_count": 108,
   "id": "39def2a8",
   "metadata": {
    "execution": {
     "iopub.execute_input": "2023-12-15T18:15:05.683602Z",
     "iopub.status.busy": "2023-12-15T18:15:05.683196Z",
     "iopub.status.idle": "2023-12-15T18:15:05.698491Z",
     "shell.execute_reply": "2023-12-15T18:15:05.697306Z"
    },
    "papermill": {
     "duration": 0.089117,
     "end_time": "2023-12-15T18:15:05.702206",
     "exception": false,
     "start_time": "2023-12-15T18:15:05.613089",
     "status": "completed"
    },
    "tags": []
   },
   "outputs": [
    {
     "name": "stdout",
     "output_type": "stream",
     "text": [
      "0.4666551374643746\n"
     ]
    }
   ],
   "source": [
    "ridge_test_predictions = ridge.predict(X_test)\n",
    "print(r2_score(ridge_test_predictions,y_test)) "
   ]
  },
  {
   "cell_type": "code",
   "execution_count": 109,
   "id": "a62bb221",
   "metadata": {
    "execution": {
     "iopub.execute_input": "2023-12-15T18:15:05.980007Z",
     "iopub.status.busy": "2023-12-15T18:15:05.979590Z",
     "iopub.status.idle": "2023-12-15T18:15:08.768097Z",
     "shell.execute_reply": "2023-12-15T18:15:08.766576Z"
    },
    "papermill": {
     "duration": 2.857241,
     "end_time": "2023-12-15T18:15:08.772074",
     "exception": false,
     "start_time": "2023-12-15T18:15:05.914833",
     "status": "completed"
    },
    "tags": []
   },
   "outputs": [
    {
     "data": {
      "text/html": [
       "<style>#sk-container-id-12 {color: black;background-color: white;}#sk-container-id-12 pre{padding: 0;}#sk-container-id-12 div.sk-toggleable {background-color: white;}#sk-container-id-12 label.sk-toggleable__label {cursor: pointer;display: block;width: 100%;margin-bottom: 0;padding: 0.3em;box-sizing: border-box;text-align: center;}#sk-container-id-12 label.sk-toggleable__label-arrow:before {content: \"▸\";float: left;margin-right: 0.25em;color: #696969;}#sk-container-id-12 label.sk-toggleable__label-arrow:hover:before {color: black;}#sk-container-id-12 div.sk-estimator:hover label.sk-toggleable__label-arrow:before {color: black;}#sk-container-id-12 div.sk-toggleable__content {max-height: 0;max-width: 0;overflow: hidden;text-align: left;background-color: #f0f8ff;}#sk-container-id-12 div.sk-toggleable__content pre {margin: 0.2em;color: black;border-radius: 0.25em;background-color: #f0f8ff;}#sk-container-id-12 input.sk-toggleable__control:checked~div.sk-toggleable__content {max-height: 200px;max-width: 100%;overflow: auto;}#sk-container-id-12 input.sk-toggleable__control:checked~label.sk-toggleable__label-arrow:before {content: \"▾\";}#sk-container-id-12 div.sk-estimator input.sk-toggleable__control:checked~label.sk-toggleable__label {background-color: #d4ebff;}#sk-container-id-12 div.sk-label input.sk-toggleable__control:checked~label.sk-toggleable__label {background-color: #d4ebff;}#sk-container-id-12 input.sk-hidden--visually {border: 0;clip: rect(1px 1px 1px 1px);clip: rect(1px, 1px, 1px, 1px);height: 1px;margin: -1px;overflow: hidden;padding: 0;position: absolute;width: 1px;}#sk-container-id-12 div.sk-estimator {font-family: monospace;background-color: #f0f8ff;border: 1px dotted black;border-radius: 0.25em;box-sizing: border-box;margin-bottom: 0.5em;}#sk-container-id-12 div.sk-estimator:hover {background-color: #d4ebff;}#sk-container-id-12 div.sk-parallel-item::after {content: \"\";width: 100%;border-bottom: 1px solid gray;flex-grow: 1;}#sk-container-id-12 div.sk-label:hover label.sk-toggleable__label {background-color: #d4ebff;}#sk-container-id-12 div.sk-serial::before {content: \"\";position: absolute;border-left: 1px solid gray;box-sizing: border-box;top: 0;bottom: 0;left: 50%;z-index: 0;}#sk-container-id-12 div.sk-serial {display: flex;flex-direction: column;align-items: center;background-color: white;padding-right: 0.2em;padding-left: 0.2em;position: relative;}#sk-container-id-12 div.sk-item {position: relative;z-index: 1;}#sk-container-id-12 div.sk-parallel {display: flex;align-items: stretch;justify-content: center;background-color: white;position: relative;}#sk-container-id-12 div.sk-item::before, #sk-container-id-12 div.sk-parallel-item::before {content: \"\";position: absolute;border-left: 1px solid gray;box-sizing: border-box;top: 0;bottom: 0;left: 50%;z-index: -1;}#sk-container-id-12 div.sk-parallel-item {display: flex;flex-direction: column;z-index: 1;position: relative;background-color: white;}#sk-container-id-12 div.sk-parallel-item:first-child::after {align-self: flex-end;width: 50%;}#sk-container-id-12 div.sk-parallel-item:last-child::after {align-self: flex-start;width: 50%;}#sk-container-id-12 div.sk-parallel-item:only-child::after {width: 0;}#sk-container-id-12 div.sk-dashed-wrapped {border: 1px dashed gray;margin: 0 0.4em 0.5em 0.4em;box-sizing: border-box;padding-bottom: 0.4em;background-color: white;}#sk-container-id-12 div.sk-label label {font-family: monospace;font-weight: bold;display: inline-block;line-height: 1.2em;}#sk-container-id-12 div.sk-label-container {text-align: center;}#sk-container-id-12 div.sk-container {/* jupyter's `normalize.less` sets `[hidden] { display: none; }` but bootstrap.min.css set `[hidden] { display: none !important; }` so we also need the `!important` here to be able to override the default hidden behavior on the sphinx rendered scikit-learn.org. See: https://github.com/scikit-learn/scikit-learn/issues/21755 */display: inline-block !important;position: relative;}#sk-container-id-12 div.sk-text-repr-fallback {display: none;}</style><div id=\"sk-container-id-12\" class=\"sk-top-container\"><div class=\"sk-text-repr-fallback\"><pre>GridSearchCV(cv=5, estimator=Ridge(), n_jobs=-1,\n",
       "             param_grid={&#x27;alpha&#x27;: [0.1, 1.0, 10.0]}, return_train_score=True)</pre><b>In a Jupyter environment, please rerun this cell to show the HTML representation or trust the notebook. <br />On GitHub, the HTML representation is unable to render, please try loading this page with nbviewer.org.</b></div><div class=\"sk-container\" hidden><div class=\"sk-item sk-dashed-wrapped\"><div class=\"sk-label-container\"><div class=\"sk-label sk-toggleable\"><input class=\"sk-toggleable__control sk-hidden--visually\" id=\"sk-estimator-id-18\" type=\"checkbox\" ><label for=\"sk-estimator-id-18\" class=\"sk-toggleable__label sk-toggleable__label-arrow\">GridSearchCV</label><div class=\"sk-toggleable__content\"><pre>GridSearchCV(cv=5, estimator=Ridge(), n_jobs=-1,\n",
       "             param_grid={&#x27;alpha&#x27;: [0.1, 1.0, 10.0]}, return_train_score=True)</pre></div></div></div><div class=\"sk-parallel\"><div class=\"sk-parallel-item\"><div class=\"sk-item\"><div class=\"sk-label-container\"><div class=\"sk-label sk-toggleable\"><input class=\"sk-toggleable__control sk-hidden--visually\" id=\"sk-estimator-id-19\" type=\"checkbox\" ><label for=\"sk-estimator-id-19\" class=\"sk-toggleable__label sk-toggleable__label-arrow\">estimator: Ridge</label><div class=\"sk-toggleable__content\"><pre>Ridge()</pre></div></div></div><div class=\"sk-serial\"><div class=\"sk-item\"><div class=\"sk-estimator sk-toggleable\"><input class=\"sk-toggleable__control sk-hidden--visually\" id=\"sk-estimator-id-20\" type=\"checkbox\" ><label for=\"sk-estimator-id-20\" class=\"sk-toggleable__label sk-toggleable__label-arrow\">Ridge</label><div class=\"sk-toggleable__content\"><pre>Ridge()</pre></div></div></div></div></div></div></div></div></div></div>"
      ],
      "text/plain": [
       "GridSearchCV(cv=5, estimator=Ridge(), n_jobs=-1,\n",
       "             param_grid={'alpha': [0.1, 1.0, 10.0]}, return_train_score=True)"
      ]
     },
     "execution_count": 109,
     "metadata": {},
     "output_type": "execute_result"
    }
   ],
   "source": [
    "from sklearn.model_selection import GridSearchCV\n",
    "param_grid = {\n",
    "    'alpha': [0.1,1.0,10.0]\n",
    "}\n",
    "grid_search = GridSearchCV(ridge , param_grid , cv = 5, n_jobs = -1,return_train_score = True)\n",
    "grid_search.fit(X_train , y_train)"
   ]
  },
  {
   "cell_type": "code",
   "execution_count": 110,
   "id": "63f068e6",
   "metadata": {
    "execution": {
     "iopub.execute_input": "2023-12-15T18:15:08.954560Z",
     "iopub.status.busy": "2023-12-15T18:15:08.954111Z",
     "iopub.status.idle": "2023-12-15T18:15:08.961810Z",
     "shell.execute_reply": "2023-12-15T18:15:08.960675Z"
    },
    "papermill": {
     "duration": 0.074937,
     "end_time": "2023-12-15T18:15:08.964261",
     "exception": false,
     "start_time": "2023-12-15T18:15:08.889324",
     "status": "completed"
    },
    "tags": []
   },
   "outputs": [
    {
     "data": {
      "text/plain": [
       "{'alpha': 10.0}"
      ]
     },
     "execution_count": 110,
     "metadata": {},
     "output_type": "execute_result"
    }
   ],
   "source": [
    "grid_search.best_params_"
   ]
  },
  {
   "cell_type": "code",
   "execution_count": 111,
   "id": "6200e121",
   "metadata": {
    "execution": {
     "iopub.execute_input": "2023-12-15T18:15:09.092056Z",
     "iopub.status.busy": "2023-12-15T18:15:09.091261Z",
     "iopub.status.idle": "2023-12-15T18:15:09.115534Z",
     "shell.execute_reply": "2023-12-15T18:15:09.114077Z"
    },
    "papermill": {
     "duration": 0.09293,
     "end_time": "2023-12-15T18:15:09.119747",
     "exception": false,
     "start_time": "2023-12-15T18:15:09.026817",
     "status": "completed"
    },
    "tags": []
   },
   "outputs": [
    {
     "name": "stdout",
     "output_type": "stream",
     "text": [
      "0.3751755046751313\n"
     ]
    }
   ],
   "source": [
    "best_ridge = grid_search.best_estimator_\n",
    "best_train_ridge_predictions = best_ridge.predict(X_train)\n",
    "print(r2_score(best_train_ridge_predictions , y_train))"
   ]
  },
  {
   "cell_type": "code",
   "execution_count": 112,
   "id": "e5d660fc",
   "metadata": {
    "execution": {
     "iopub.execute_input": "2023-12-15T18:15:09.306821Z",
     "iopub.status.busy": "2023-12-15T18:15:09.306393Z",
     "iopub.status.idle": "2023-12-15T18:15:09.322216Z",
     "shell.execute_reply": "2023-12-15T18:15:09.320628Z"
    },
    "papermill": {
     "duration": 0.087904,
     "end_time": "2023-12-15T18:15:09.328292",
     "exception": false,
     "start_time": "2023-12-15T18:15:09.240388",
     "status": "completed"
    },
    "tags": []
   },
   "outputs": [
    {
     "name": "stdout",
     "output_type": "stream",
     "text": [
      "0.46659995402877696\n"
     ]
    }
   ],
   "source": [
    "best_test_ridge_predictions = best_ridge.predict(X_test)\n",
    "print(r2_score(best_test_ridge_predictions , y_test))"
   ]
  },
  {
   "cell_type": "markdown",
   "id": "274ae660",
   "metadata": {
    "papermill": {
     "duration": 0.062426,
     "end_time": "2023-12-15T18:15:09.510483",
     "exception": false,
     "start_time": "2023-12-15T18:15:09.448057",
     "status": "completed"
    },
    "tags": []
   },
   "source": [
    "## Comparing performance of Models"
   ]
  },
  {
   "cell_type": "code",
   "execution_count": 113,
   "id": "21f58f76",
   "metadata": {
    "execution": {
     "iopub.execute_input": "2023-12-15T18:15:09.638587Z",
     "iopub.status.busy": "2023-12-15T18:15:09.638124Z",
     "iopub.status.idle": "2023-12-15T18:15:09.643448Z",
     "shell.execute_reply": "2023-12-15T18:15:09.642305Z"
    },
    "papermill": {
     "duration": 0.072685,
     "end_time": "2023-12-15T18:15:09.645938",
     "exception": false,
     "start_time": "2023-12-15T18:15:09.573253",
     "status": "completed"
    },
    "tags": []
   },
   "outputs": [],
   "source": [
    "models = ['Random Forest Regressor' , 'Gradient Boost' , 'XGBoost']"
   ]
  },
  {
   "cell_type": "markdown",
   "id": "5ea8c4a8",
   "metadata": {
    "papermill": {
     "duration": 0.067302,
     "end_time": "2023-12-15T18:15:09.776672",
     "exception": false,
     "start_time": "2023-12-15T18:15:09.709370",
     "status": "completed"
    },
    "tags": []
   },
   "source": [
    "**We compare the performance based on the R2 scores**"
   ]
  },
  {
   "cell_type": "code",
   "execution_count": 114,
   "id": "b693b077",
   "metadata": {
    "execution": {
     "iopub.execute_input": "2023-12-15T18:15:09.906257Z",
     "iopub.status.busy": "2023-12-15T18:15:09.905849Z",
     "iopub.status.idle": "2023-12-15T18:15:09.910212Z",
     "shell.execute_reply": "2023-12-15T18:15:09.909158Z"
    },
    "papermill": {
     "duration": 0.071757,
     "end_time": "2023-12-15T18:15:09.912652",
     "exception": false,
     "start_time": "2023-12-15T18:15:09.840895",
     "status": "completed"
    },
    "tags": []
   },
   "outputs": [],
   "source": [
    "training_scores = []"
   ]
  },
  {
   "cell_type": "markdown",
   "id": "e648b639",
   "metadata": {
    "papermill": {
     "duration": 0.062777,
     "end_time": "2023-12-15T18:15:10.038911",
     "exception": false,
     "start_time": "2023-12-15T18:15:09.976134",
     "status": "completed"
    },
    "tags": []
   },
   "source": [
    "## "
   ]
  },
  {
   "cell_type": "markdown",
   "id": "ab279c72",
   "metadata": {
    "papermill": {
     "duration": 0.062584,
     "end_time": "2023-12-15T18:15:10.164813",
     "exception": false,
     "start_time": "2023-12-15T18:15:10.102229",
     "status": "completed"
    },
    "tags": []
   },
   "source": [
    "## Making Predictions on Actual Test Data"
   ]
  },
  {
   "cell_type": "code",
   "execution_count": 115,
   "id": "40df2177",
   "metadata": {
    "execution": {
     "iopub.execute_input": "2023-12-15T18:15:10.293584Z",
     "iopub.status.busy": "2023-12-15T18:15:10.292957Z",
     "iopub.status.idle": "2023-12-15T18:15:10.505487Z",
     "shell.execute_reply": "2023-12-15T18:15:10.504408Z"
    },
    "papermill": {
     "duration": 0.2803,
     "end_time": "2023-12-15T18:15:10.508086",
     "exception": false,
     "start_time": "2023-12-15T18:15:10.227786",
     "status": "completed"
    },
    "tags": []
   },
   "outputs": [],
   "source": [
    "Data = pd.read_csv('/kaggle/input/taxi-fare-guru-total-amount-prediction-challenge/test.csv')"
   ]
  },
  {
   "cell_type": "code",
   "execution_count": 116,
   "id": "6ed582ab",
   "metadata": {
    "execution": {
     "iopub.execute_input": "2023-12-15T18:15:10.637034Z",
     "iopub.status.busy": "2023-12-15T18:15:10.636394Z",
     "iopub.status.idle": "2023-12-15T18:15:10.665272Z",
     "shell.execute_reply": "2023-12-15T18:15:10.664437Z"
    },
    "papermill": {
     "duration": 0.09571,
     "end_time": "2023-12-15T18:15:10.667406",
     "exception": false,
     "start_time": "2023-12-15T18:15:10.571696",
     "status": "completed"
    },
    "tags": []
   },
   "outputs": [
    {
     "data": {
      "text/html": [
       "<div>\n",
       "<style scoped>\n",
       "    .dataframe tbody tr th:only-of-type {\n",
       "        vertical-align: middle;\n",
       "    }\n",
       "\n",
       "    .dataframe tbody tr th {\n",
       "        vertical-align: top;\n",
       "    }\n",
       "\n",
       "    .dataframe thead th {\n",
       "        text-align: right;\n",
       "    }\n",
       "</style>\n",
       "<table border=\"1\" class=\"dataframe\">\n",
       "  <thead>\n",
       "    <tr style=\"text-align: right;\">\n",
       "      <th></th>\n",
       "      <th>VendorID</th>\n",
       "      <th>tpep_pickup_datetime</th>\n",
       "      <th>tpep_dropoff_datetime</th>\n",
       "      <th>passenger_count</th>\n",
       "      <th>trip_distance</th>\n",
       "      <th>RatecodeID</th>\n",
       "      <th>store_and_fwd_flag</th>\n",
       "      <th>PULocationID</th>\n",
       "      <th>DOLocationID</th>\n",
       "      <th>payment_type</th>\n",
       "      <th>extra</th>\n",
       "      <th>tip_amount</th>\n",
       "      <th>tolls_amount</th>\n",
       "      <th>improvement_surcharge</th>\n",
       "      <th>congestion_surcharge</th>\n",
       "      <th>Airport_fee</th>\n",
       "    </tr>\n",
       "  </thead>\n",
       "  <tbody>\n",
       "    <tr>\n",
       "      <th>0</th>\n",
       "      <td>1</td>\n",
       "      <td>2023-06-29 00:21:20</td>\n",
       "      <td>2023-06-29 00:25:20</td>\n",
       "      <td>1.0</td>\n",
       "      <td>4.95</td>\n",
       "      <td>1.0</td>\n",
       "      <td>N</td>\n",
       "      <td>20</td>\n",
       "      <td>3</td>\n",
       "      <td>Credit Card</td>\n",
       "      <td>1.0</td>\n",
       "      <td>6.067612</td>\n",
       "      <td>0.0</td>\n",
       "      <td>1.0</td>\n",
       "      <td>2.5</td>\n",
       "      <td>0.00</td>\n",
       "    </tr>\n",
       "    <tr>\n",
       "      <th>1</th>\n",
       "      <td>1</td>\n",
       "      <td>2023-06-30 17:44:43</td>\n",
       "      <td>2023-06-30 17:53:13</td>\n",
       "      <td>1.0</td>\n",
       "      <td>2.10</td>\n",
       "      <td>1.0</td>\n",
       "      <td>N</td>\n",
       "      <td>9</td>\n",
       "      <td>81</td>\n",
       "      <td>Credit Card</td>\n",
       "      <td>2.5</td>\n",
       "      <td>6.191269</td>\n",
       "      <td>0.0</td>\n",
       "      <td>1.0</td>\n",
       "      <td>2.5</td>\n",
       "      <td>0.00</td>\n",
       "    </tr>\n",
       "    <tr>\n",
       "      <th>2</th>\n",
       "      <td>1</td>\n",
       "      <td>2023-06-29 18:17:04</td>\n",
       "      <td>2023-06-29 19:23:48</td>\n",
       "      <td>1.0</td>\n",
       "      <td>0.95</td>\n",
       "      <td>1.0</td>\n",
       "      <td>N</td>\n",
       "      <td>92</td>\n",
       "      <td>90</td>\n",
       "      <td>Cash</td>\n",
       "      <td>2.5</td>\n",
       "      <td>3.983872</td>\n",
       "      <td>0.0</td>\n",
       "      <td>1.0</td>\n",
       "      <td>2.5</td>\n",
       "      <td>0.00</td>\n",
       "    </tr>\n",
       "    <tr>\n",
       "      <th>3</th>\n",
       "      <td>0</td>\n",
       "      <td>2023-06-30 21:33:53</td>\n",
       "      <td>2023-06-30 21:46:20</td>\n",
       "      <td>1.0</td>\n",
       "      <td>0.80</td>\n",
       "      <td>1.0</td>\n",
       "      <td>N</td>\n",
       "      <td>19</td>\n",
       "      <td>102</td>\n",
       "      <td>Credit Card</td>\n",
       "      <td>3.5</td>\n",
       "      <td>6.839341</td>\n",
       "      <td>0.0</td>\n",
       "      <td>1.0</td>\n",
       "      <td>2.5</td>\n",
       "      <td>0.00</td>\n",
       "    </tr>\n",
       "    <tr>\n",
       "      <th>4</th>\n",
       "      <td>1</td>\n",
       "      <td>2023-06-29 14:53:54</td>\n",
       "      <td>2023-06-29 15:22:17</td>\n",
       "      <td>1.0</td>\n",
       "      <td>4.01</td>\n",
       "      <td>1.0</td>\n",
       "      <td>N</td>\n",
       "      <td>131</td>\n",
       "      <td>229</td>\n",
       "      <td>Cash</td>\n",
       "      <td>0.0</td>\n",
       "      <td>1.468943</td>\n",
       "      <td>0.0</td>\n",
       "      <td>1.0</td>\n",
       "      <td>0.0</td>\n",
       "      <td>0.00</td>\n",
       "    </tr>\n",
       "    <tr>\n",
       "      <th>5</th>\n",
       "      <td>0</td>\n",
       "      <td>2023-06-28 21:14:18</td>\n",
       "      <td>2023-06-28 20:41:25</td>\n",
       "      <td>1.0</td>\n",
       "      <td>0.50</td>\n",
       "      <td>1.0</td>\n",
       "      <td>N</td>\n",
       "      <td>194</td>\n",
       "      <td>154</td>\n",
       "      <td>Credit Card</td>\n",
       "      <td>3.5</td>\n",
       "      <td>6.812990</td>\n",
       "      <td>0.0</td>\n",
       "      <td>1.0</td>\n",
       "      <td>2.5</td>\n",
       "      <td>0.00</td>\n",
       "    </tr>\n",
       "    <tr>\n",
       "      <th>6</th>\n",
       "      <td>1</td>\n",
       "      <td>2023-06-29 13:36:18</td>\n",
       "      <td>2023-06-29 13:38:40</td>\n",
       "      <td>2.0</td>\n",
       "      <td>21.59</td>\n",
       "      <td>4.0</td>\n",
       "      <td>N</td>\n",
       "      <td>163</td>\n",
       "      <td>26</td>\n",
       "      <td>Credit Card</td>\n",
       "      <td>0.0</td>\n",
       "      <td>3.488711</td>\n",
       "      <td>0.0</td>\n",
       "      <td>1.0</td>\n",
       "      <td>0.0</td>\n",
       "      <td>1.75</td>\n",
       "    </tr>\n",
       "    <tr>\n",
       "      <th>7</th>\n",
       "      <td>1</td>\n",
       "      <td>2023-06-30 21:23:51</td>\n",
       "      <td>2023-06-30 22:52:18</td>\n",
       "      <td>1.0</td>\n",
       "      <td>2.48</td>\n",
       "      <td>1.0</td>\n",
       "      <td>N</td>\n",
       "      <td>146</td>\n",
       "      <td>192</td>\n",
       "      <td>Credit Card</td>\n",
       "      <td>1.0</td>\n",
       "      <td>6.146135</td>\n",
       "      <td>0.0</td>\n",
       "      <td>1.0</td>\n",
       "      <td>2.5</td>\n",
       "      <td>0.00</td>\n",
       "    </tr>\n",
       "    <tr>\n",
       "      <th>8</th>\n",
       "      <td>1</td>\n",
       "      <td>2023-06-28 23:48:47</td>\n",
       "      <td>2023-06-28 22:32:51</td>\n",
       "      <td>1.0</td>\n",
       "      <td>1.22</td>\n",
       "      <td>1.0</td>\n",
       "      <td>N</td>\n",
       "      <td>45</td>\n",
       "      <td>232</td>\n",
       "      <td>Credit Card</td>\n",
       "      <td>1.0</td>\n",
       "      <td>5.574140</td>\n",
       "      <td>0.0</td>\n",
       "      <td>1.0</td>\n",
       "      <td>2.5</td>\n",
       "      <td>0.00</td>\n",
       "    </tr>\n",
       "    <tr>\n",
       "      <th>9</th>\n",
       "      <td>1</td>\n",
       "      <td>2023-06-30 15:43:47</td>\n",
       "      <td>2023-06-30 16:00:15</td>\n",
       "      <td>1.0</td>\n",
       "      <td>1.04</td>\n",
       "      <td>1.0</td>\n",
       "      <td>N</td>\n",
       "      <td>254</td>\n",
       "      <td>238</td>\n",
       "      <td>Cash</td>\n",
       "      <td>0.0</td>\n",
       "      <td>2.988596</td>\n",
       "      <td>0.0</td>\n",
       "      <td>1.0</td>\n",
       "      <td>2.5</td>\n",
       "      <td>0.00</td>\n",
       "    </tr>\n",
       "  </tbody>\n",
       "</table>\n",
       "</div>"
      ],
      "text/plain": [
       "   VendorID tpep_pickup_datetime tpep_dropoff_datetime  passenger_count  \\\n",
       "0         1  2023-06-29 00:21:20   2023-06-29 00:25:20              1.0   \n",
       "1         1  2023-06-30 17:44:43   2023-06-30 17:53:13              1.0   \n",
       "2         1  2023-06-29 18:17:04   2023-06-29 19:23:48              1.0   \n",
       "3         0  2023-06-30 21:33:53   2023-06-30 21:46:20              1.0   \n",
       "4         1  2023-06-29 14:53:54   2023-06-29 15:22:17              1.0   \n",
       "5         0  2023-06-28 21:14:18   2023-06-28 20:41:25              1.0   \n",
       "6         1  2023-06-29 13:36:18   2023-06-29 13:38:40              2.0   \n",
       "7         1  2023-06-30 21:23:51   2023-06-30 22:52:18              1.0   \n",
       "8         1  2023-06-28 23:48:47   2023-06-28 22:32:51              1.0   \n",
       "9         1  2023-06-30 15:43:47   2023-06-30 16:00:15              1.0   \n",
       "\n",
       "   trip_distance  RatecodeID store_and_fwd_flag  PULocationID  DOLocationID  \\\n",
       "0           4.95         1.0                  N            20             3   \n",
       "1           2.10         1.0                  N             9            81   \n",
       "2           0.95         1.0                  N            92            90   \n",
       "3           0.80         1.0                  N            19           102   \n",
       "4           4.01         1.0                  N           131           229   \n",
       "5           0.50         1.0                  N           194           154   \n",
       "6          21.59         4.0                  N           163            26   \n",
       "7           2.48         1.0                  N           146           192   \n",
       "8           1.22         1.0                  N            45           232   \n",
       "9           1.04         1.0                  N           254           238   \n",
       "\n",
       "  payment_type  extra  tip_amount  tolls_amount  improvement_surcharge  \\\n",
       "0  Credit Card    1.0    6.067612           0.0                    1.0   \n",
       "1  Credit Card    2.5    6.191269           0.0                    1.0   \n",
       "2         Cash    2.5    3.983872           0.0                    1.0   \n",
       "3  Credit Card    3.5    6.839341           0.0                    1.0   \n",
       "4         Cash    0.0    1.468943           0.0                    1.0   \n",
       "5  Credit Card    3.5    6.812990           0.0                    1.0   \n",
       "6  Credit Card    0.0    3.488711           0.0                    1.0   \n",
       "7  Credit Card    1.0    6.146135           0.0                    1.0   \n",
       "8  Credit Card    1.0    5.574140           0.0                    1.0   \n",
       "9         Cash    0.0    2.988596           0.0                    1.0   \n",
       "\n",
       "   congestion_surcharge  Airport_fee  \n",
       "0                   2.5         0.00  \n",
       "1                   2.5         0.00  \n",
       "2                   2.5         0.00  \n",
       "3                   2.5         0.00  \n",
       "4                   0.0         0.00  \n",
       "5                   2.5         0.00  \n",
       "6                   0.0         1.75  \n",
       "7                   2.5         0.00  \n",
       "8                   2.5         0.00  \n",
       "9                   2.5         0.00  "
      ]
     },
     "execution_count": 116,
     "metadata": {},
     "output_type": "execute_result"
    }
   ],
   "source": [
    "Data.head(10) "
   ]
  },
  {
   "cell_type": "code",
   "execution_count": 117,
   "id": "47dc39ee",
   "metadata": {
    "execution": {
     "iopub.execute_input": "2023-12-15T18:15:10.800041Z",
     "iopub.status.busy": "2023-12-15T18:15:10.799296Z",
     "iopub.status.idle": "2023-12-15T18:15:10.927028Z",
     "shell.execute_reply": "2023-12-15T18:15:10.925723Z"
    },
    "papermill": {
     "duration": 0.198457,
     "end_time": "2023-12-15T18:15:10.929730",
     "exception": false,
     "start_time": "2023-12-15T18:15:10.731273",
     "status": "completed"
    },
    "tags": []
   },
   "outputs": [],
   "source": [
    "Data['tpep_pickup_datetime'] = pd.to_datetime(Data['tpep_pickup_datetime'])\n",
    "Data['tpep_dropoff_datetime'] = pd.to_datetime(Data['tpep_dropoff_datetime'])\n",
    "# swapping values if pickup datetime is later than dropoff datetime\n",
    "mask = Data['tpep_pickup_datetime'] > Data['tpep_dropoff_datetime']\n",
    "Data.loc[mask,['tpep_pickup_datetime','tpep_dropoff_datetime']] = Data.loc[mask,['tpep_dropoff_datetime','tpep_pickup_datetime']].values\n",
    "# Calculating trip duration\n",
    "Data['trip_duration'] = (Data['tpep_dropoff_datetime']-Data['tpep_pickup_datetime']).dt.total_seconds()\n",
    "# Extracting pickup hour and pick up day of week from tpep_pickup_datetime\n",
    "Data['pickup_hour'] = Data['tpep_pickup_datetime'].dt.hour\n",
    "Data['pickup_dayofweek'] = Data['tpep_pickup_datetime'].dt.dayofweek\n",
    "Data['passenger_count'] = imputer_1.transform(Data[['passenger_count']])\n",
    "Data['RatecodeID'] = imputer_2.transform(Data[['RatecodeID']])\n",
    "Data['congestion_surcharge'] = imputer_3.transform(Data[['congestion_surcharge']])\n",
    "Data['Airport_fee'] = imputer_4.transform(Data[['Airport_fee']])\n",
    "Data = encode_data(Data)\n",
    "Data[continuous_columns] = scaler.transform(Data[continuous_columns]) "
   ]
  },
  {
   "cell_type": "code",
   "execution_count": 118,
   "id": "c683bc26",
   "metadata": {
    "execution": {
     "iopub.execute_input": "2023-12-15T18:15:11.059959Z",
     "iopub.status.busy": "2023-12-15T18:15:11.059527Z",
     "iopub.status.idle": "2023-12-15T18:15:11.070996Z",
     "shell.execute_reply": "2023-12-15T18:15:11.069894Z"
    },
    "papermill": {
     "duration": 0.079846,
     "end_time": "2023-12-15T18:15:11.073515",
     "exception": false,
     "start_time": "2023-12-15T18:15:10.993669",
     "status": "completed"
    },
    "tags": []
   },
   "outputs": [],
   "source": [
    "columns_to_train = ['RatecodeID','passenger_count' , 'trip_distance' , 'PULocationID','DOLocationID',\n",
    "                        'extra' , 'tolls_amount' , 'improvement_surcharge' , 'congestion_surcharge' ,\n",
    "                        'Airport_fee','pickup_hour','trip_duration','pickup_dayofweek','store_and_fwd_flag_N', \n",
    "                        'store_and_fwd_flag_Y','payment_type_Cash','payment_type_Credit Card', 'payment_type_UPI',\n",
    "                        'payment_type_Wallet','payment_type_unknown']\n",
    "Data = Data[columns_to_train]   "
   ]
  },
  {
   "cell_type": "code",
   "execution_count": 119,
   "id": "adff6574",
   "metadata": {
    "execution": {
     "iopub.execute_input": "2023-12-15T18:15:11.203359Z",
     "iopub.status.busy": "2023-12-15T18:15:11.202834Z",
     "iopub.status.idle": "2023-12-15T18:15:11.237240Z",
     "shell.execute_reply": "2023-12-15T18:15:11.235909Z"
    },
    "papermill": {
     "duration": 0.102171,
     "end_time": "2023-12-15T18:15:11.239625",
     "exception": false,
     "start_time": "2023-12-15T18:15:11.137454",
     "status": "completed"
    },
    "tags": []
   },
   "outputs": [
    {
     "data": {
      "text/html": [
       "<div>\n",
       "<style scoped>\n",
       "    .dataframe tbody tr th:only-of-type {\n",
       "        vertical-align: middle;\n",
       "    }\n",
       "\n",
       "    .dataframe tbody tr th {\n",
       "        vertical-align: top;\n",
       "    }\n",
       "\n",
       "    .dataframe thead th {\n",
       "        text-align: right;\n",
       "    }\n",
       "</style>\n",
       "<table border=\"1\" class=\"dataframe\">\n",
       "  <thead>\n",
       "    <tr style=\"text-align: right;\">\n",
       "      <th></th>\n",
       "      <th>RatecodeID</th>\n",
       "      <th>passenger_count</th>\n",
       "      <th>trip_distance</th>\n",
       "      <th>PULocationID</th>\n",
       "      <th>DOLocationID</th>\n",
       "      <th>extra</th>\n",
       "      <th>tolls_amount</th>\n",
       "      <th>improvement_surcharge</th>\n",
       "      <th>congestion_surcharge</th>\n",
       "      <th>Airport_fee</th>\n",
       "      <th>pickup_hour</th>\n",
       "      <th>trip_duration</th>\n",
       "      <th>pickup_dayofweek</th>\n",
       "      <th>store_and_fwd_flag_N</th>\n",
       "      <th>store_and_fwd_flag_Y</th>\n",
       "      <th>payment_type_Cash</th>\n",
       "      <th>payment_type_Credit Card</th>\n",
       "      <th>payment_type_UPI</th>\n",
       "      <th>payment_type_Wallet</th>\n",
       "      <th>payment_type_unknown</th>\n",
       "    </tr>\n",
       "  </thead>\n",
       "  <tbody>\n",
       "    <tr>\n",
       "      <th>0</th>\n",
       "      <td>1.0</td>\n",
       "      <td>1.0</td>\n",
       "      <td>-0.000496</td>\n",
       "      <td>20</td>\n",
       "      <td>3</td>\n",
       "      <td>-0.478392</td>\n",
       "      <td>-0.27781</td>\n",
       "      <td>0.102183</td>\n",
       "      <td>0.314375</td>\n",
       "      <td>-0.315757</td>\n",
       "      <td>0</td>\n",
       "      <td>-0.862926</td>\n",
       "      <td>3</td>\n",
       "      <td>1</td>\n",
       "      <td>0</td>\n",
       "      <td>0</td>\n",
       "      <td>1</td>\n",
       "      <td>0</td>\n",
       "      <td>0</td>\n",
       "      <td>0</td>\n",
       "    </tr>\n",
       "    <tr>\n",
       "      <th>1</th>\n",
       "      <td>1.0</td>\n",
       "      <td>1.0</td>\n",
       "      <td>-0.007712</td>\n",
       "      <td>9</td>\n",
       "      <td>81</td>\n",
       "      <td>0.291434</td>\n",
       "      <td>-0.27781</td>\n",
       "      <td>0.102183</td>\n",
       "      <td>0.314375</td>\n",
       "      <td>-0.315757</td>\n",
       "      <td>17</td>\n",
       "      <td>-0.767211</td>\n",
       "      <td>4</td>\n",
       "      <td>1</td>\n",
       "      <td>0</td>\n",
       "      <td>0</td>\n",
       "      <td>1</td>\n",
       "      <td>0</td>\n",
       "      <td>0</td>\n",
       "      <td>0</td>\n",
       "    </tr>\n",
       "    <tr>\n",
       "      <th>2</th>\n",
       "      <td>1.0</td>\n",
       "      <td>1.0</td>\n",
       "      <td>-0.010623</td>\n",
       "      <td>92</td>\n",
       "      <td>90</td>\n",
       "      <td>0.291434</td>\n",
       "      <td>-0.27781</td>\n",
       "      <td>0.102183</td>\n",
       "      <td>0.314375</td>\n",
       "      <td>-0.315757</td>\n",
       "      <td>18</td>\n",
       "      <td>0.471412</td>\n",
       "      <td>3</td>\n",
       "      <td>1</td>\n",
       "      <td>0</td>\n",
       "      <td>1</td>\n",
       "      <td>0</td>\n",
       "      <td>0</td>\n",
       "      <td>0</td>\n",
       "      <td>0</td>\n",
       "    </tr>\n",
       "    <tr>\n",
       "      <th>3</th>\n",
       "      <td>1.0</td>\n",
       "      <td>1.0</td>\n",
       "      <td>-0.011003</td>\n",
       "      <td>19</td>\n",
       "      <td>102</td>\n",
       "      <td>0.804651</td>\n",
       "      <td>-0.27781</td>\n",
       "      <td>0.102183</td>\n",
       "      <td>0.314375</td>\n",
       "      <td>-0.315757</td>\n",
       "      <td>21</td>\n",
       "      <td>-0.683194</td>\n",
       "      <td>4</td>\n",
       "      <td>1</td>\n",
       "      <td>0</td>\n",
       "      <td>0</td>\n",
       "      <td>1</td>\n",
       "      <td>0</td>\n",
       "      <td>0</td>\n",
       "      <td>0</td>\n",
       "    </tr>\n",
       "    <tr>\n",
       "      <th>4</th>\n",
       "      <td>1.0</td>\n",
       "      <td>1.0</td>\n",
       "      <td>-0.002876</td>\n",
       "      <td>131</td>\n",
       "      <td>229</td>\n",
       "      <td>-0.991610</td>\n",
       "      <td>-0.27781</td>\n",
       "      <td>0.102183</td>\n",
       "      <td>-2.791738</td>\n",
       "      <td>-0.315757</td>\n",
       "      <td>14</td>\n",
       "      <td>-0.344292</td>\n",
       "      <td>3</td>\n",
       "      <td>1</td>\n",
       "      <td>0</td>\n",
       "      <td>1</td>\n",
       "      <td>0</td>\n",
       "      <td>0</td>\n",
       "      <td>0</td>\n",
       "      <td>0</td>\n",
       "    </tr>\n",
       "    <tr>\n",
       "      <th>...</th>\n",
       "      <td>...</td>\n",
       "      <td>...</td>\n",
       "      <td>...</td>\n",
       "      <td>...</td>\n",
       "      <td>...</td>\n",
       "      <td>...</td>\n",
       "      <td>...</td>\n",
       "      <td>...</td>\n",
       "      <td>...</td>\n",
       "      <td>...</td>\n",
       "      <td>...</td>\n",
       "      <td>...</td>\n",
       "      <td>...</td>\n",
       "      <td>...</td>\n",
       "      <td>...</td>\n",
       "      <td>...</td>\n",
       "      <td>...</td>\n",
       "      <td>...</td>\n",
       "      <td>...</td>\n",
       "      <td>...</td>\n",
       "    </tr>\n",
       "    <tr>\n",
       "      <th>49995</th>\n",
       "      <td>1.0</td>\n",
       "      <td>1.0</td>\n",
       "      <td>-0.011484</td>\n",
       "      <td>48</td>\n",
       "      <td>72</td>\n",
       "      <td>0.291434</td>\n",
       "      <td>-0.27781</td>\n",
       "      <td>0.102183</td>\n",
       "      <td>0.314375</td>\n",
       "      <td>-0.315757</td>\n",
       "      <td>17</td>\n",
       "      <td>0.086071</td>\n",
       "      <td>3</td>\n",
       "      <td>1</td>\n",
       "      <td>0</td>\n",
       "      <td>0</td>\n",
       "      <td>1</td>\n",
       "      <td>0</td>\n",
       "      <td>0</td>\n",
       "      <td>0</td>\n",
       "    </tr>\n",
       "    <tr>\n",
       "      <th>49996</th>\n",
       "      <td>1.0</td>\n",
       "      <td>1.0</td>\n",
       "      <td>-0.000319</td>\n",
       "      <td>57</td>\n",
       "      <td>103</td>\n",
       "      <td>-0.478392</td>\n",
       "      <td>-0.27781</td>\n",
       "      <td>0.102183</td>\n",
       "      <td>-2.791738</td>\n",
       "      <td>3.163375</td>\n",
       "      <td>1</td>\n",
       "      <td>-0.634273</td>\n",
       "      <td>4</td>\n",
       "      <td>1</td>\n",
       "      <td>0</td>\n",
       "      <td>1</td>\n",
       "      <td>0</td>\n",
       "      <td>0</td>\n",
       "      <td>0</td>\n",
       "      <td>0</td>\n",
       "    </tr>\n",
       "    <tr>\n",
       "      <th>49997</th>\n",
       "      <td>1.0</td>\n",
       "      <td>1.0</td>\n",
       "      <td>-0.008168</td>\n",
       "      <td>150</td>\n",
       "      <td>78</td>\n",
       "      <td>-0.478392</td>\n",
       "      <td>-0.27781</td>\n",
       "      <td>0.102183</td>\n",
       "      <td>0.314375</td>\n",
       "      <td>-0.315757</td>\n",
       "      <td>21</td>\n",
       "      <td>-0.115994</td>\n",
       "      <td>4</td>\n",
       "      <td>1</td>\n",
       "      <td>0</td>\n",
       "      <td>0</td>\n",
       "      <td>1</td>\n",
       "      <td>0</td>\n",
       "      <td>0</td>\n",
       "      <td>0</td>\n",
       "    </tr>\n",
       "    <tr>\n",
       "      <th>49998</th>\n",
       "      <td>1.0</td>\n",
       "      <td>1.0</td>\n",
       "      <td>0.000643</td>\n",
       "      <td>4</td>\n",
       "      <td>154</td>\n",
       "      <td>0.804651</td>\n",
       "      <td>-0.27781</td>\n",
       "      <td>0.102183</td>\n",
       "      <td>0.314375</td>\n",
       "      <td>-0.315757</td>\n",
       "      <td>2</td>\n",
       "      <td>-0.379033</td>\n",
       "      <td>4</td>\n",
       "      <td>1</td>\n",
       "      <td>0</td>\n",
       "      <td>0</td>\n",
       "      <td>1</td>\n",
       "      <td>0</td>\n",
       "      <td>0</td>\n",
       "      <td>0</td>\n",
       "    </tr>\n",
       "    <tr>\n",
       "      <th>49999</th>\n",
       "      <td>1.0</td>\n",
       "      <td>1.0</td>\n",
       "      <td>-0.009712</td>\n",
       "      <td>7</td>\n",
       "      <td>174</td>\n",
       "      <td>0.291434</td>\n",
       "      <td>-0.27781</td>\n",
       "      <td>0.102183</td>\n",
       "      <td>0.314375</td>\n",
       "      <td>-0.315757</td>\n",
       "      <td>17</td>\n",
       "      <td>0.115139</td>\n",
       "      <td>4</td>\n",
       "      <td>1</td>\n",
       "      <td>0</td>\n",
       "      <td>1</td>\n",
       "      <td>0</td>\n",
       "      <td>0</td>\n",
       "      <td>0</td>\n",
       "      <td>0</td>\n",
       "    </tr>\n",
       "  </tbody>\n",
       "</table>\n",
       "<p>50000 rows × 20 columns</p>\n",
       "</div>"
      ],
      "text/plain": [
       "       RatecodeID  passenger_count  trip_distance  PULocationID  DOLocationID  \\\n",
       "0             1.0              1.0      -0.000496            20             3   \n",
       "1             1.0              1.0      -0.007712             9            81   \n",
       "2             1.0              1.0      -0.010623            92            90   \n",
       "3             1.0              1.0      -0.011003            19           102   \n",
       "4             1.0              1.0      -0.002876           131           229   \n",
       "...           ...              ...            ...           ...           ...   \n",
       "49995         1.0              1.0      -0.011484            48            72   \n",
       "49996         1.0              1.0      -0.000319            57           103   \n",
       "49997         1.0              1.0      -0.008168           150            78   \n",
       "49998         1.0              1.0       0.000643             4           154   \n",
       "49999         1.0              1.0      -0.009712             7           174   \n",
       "\n",
       "          extra  tolls_amount  improvement_surcharge  congestion_surcharge  \\\n",
       "0     -0.478392      -0.27781               0.102183              0.314375   \n",
       "1      0.291434      -0.27781               0.102183              0.314375   \n",
       "2      0.291434      -0.27781               0.102183              0.314375   \n",
       "3      0.804651      -0.27781               0.102183              0.314375   \n",
       "4     -0.991610      -0.27781               0.102183             -2.791738   \n",
       "...         ...           ...                    ...                   ...   \n",
       "49995  0.291434      -0.27781               0.102183              0.314375   \n",
       "49996 -0.478392      -0.27781               0.102183             -2.791738   \n",
       "49997 -0.478392      -0.27781               0.102183              0.314375   \n",
       "49998  0.804651      -0.27781               0.102183              0.314375   \n",
       "49999  0.291434      -0.27781               0.102183              0.314375   \n",
       "\n",
       "       Airport_fee  pickup_hour  trip_duration  pickup_dayofweek  \\\n",
       "0        -0.315757            0      -0.862926                 3   \n",
       "1        -0.315757           17      -0.767211                 4   \n",
       "2        -0.315757           18       0.471412                 3   \n",
       "3        -0.315757           21      -0.683194                 4   \n",
       "4        -0.315757           14      -0.344292                 3   \n",
       "...            ...          ...            ...               ...   \n",
       "49995    -0.315757           17       0.086071                 3   \n",
       "49996     3.163375            1      -0.634273                 4   \n",
       "49997    -0.315757           21      -0.115994                 4   \n",
       "49998    -0.315757            2      -0.379033                 4   \n",
       "49999    -0.315757           17       0.115139                 4   \n",
       "\n",
       "       store_and_fwd_flag_N  store_and_fwd_flag_Y  payment_type_Cash  \\\n",
       "0                         1                     0                  0   \n",
       "1                         1                     0                  0   \n",
       "2                         1                     0                  1   \n",
       "3                         1                     0                  0   \n",
       "4                         1                     0                  1   \n",
       "...                     ...                   ...                ...   \n",
       "49995                     1                     0                  0   \n",
       "49996                     1                     0                  1   \n",
       "49997                     1                     0                  0   \n",
       "49998                     1                     0                  0   \n",
       "49999                     1                     0                  1   \n",
       "\n",
       "       payment_type_Credit Card  payment_type_UPI  payment_type_Wallet  \\\n",
       "0                             1                 0                    0   \n",
       "1                             1                 0                    0   \n",
       "2                             0                 0                    0   \n",
       "3                             1                 0                    0   \n",
       "4                             0                 0                    0   \n",
       "...                         ...               ...                  ...   \n",
       "49995                         1                 0                    0   \n",
       "49996                         0                 0                    0   \n",
       "49997                         1                 0                    0   \n",
       "49998                         1                 0                    0   \n",
       "49999                         0                 0                    0   \n",
       "\n",
       "       payment_type_unknown  \n",
       "0                         0  \n",
       "1                         0  \n",
       "2                         0  \n",
       "3                         0  \n",
       "4                         0  \n",
       "...                     ...  \n",
       "49995                     0  \n",
       "49996                     0  \n",
       "49997                     0  \n",
       "49998                     0  \n",
       "49999                     0  \n",
       "\n",
       "[50000 rows x 20 columns]"
      ]
     },
     "execution_count": 119,
     "metadata": {},
     "output_type": "execute_result"
    }
   ],
   "source": [
    "Data"
   ]
  },
  {
   "cell_type": "code",
   "execution_count": 120,
   "id": "4e4987dd",
   "metadata": {
    "execution": {
     "iopub.execute_input": "2023-12-15T18:15:11.372255Z",
     "iopub.status.busy": "2023-12-15T18:15:11.371804Z",
     "iopub.status.idle": "2023-12-15T18:15:11.424513Z",
     "shell.execute_reply": "2023-12-15T18:15:11.423552Z"
    },
    "papermill": {
     "duration": 0.122392,
     "end_time": "2023-12-15T18:15:11.427163",
     "exception": false,
     "start_time": "2023-12-15T18:15:11.304771",
     "status": "completed"
    },
    "tags": []
   },
   "outputs": [],
   "source": [
    "y_test_hat = best_xgb_regressor.predict(Data)   "
   ]
  },
  {
   "cell_type": "code",
   "execution_count": 121,
   "id": "3a9cd23f",
   "metadata": {
    "execution": {
     "iopub.execute_input": "2023-12-15T18:15:11.559478Z",
     "iopub.status.busy": "2023-12-15T18:15:11.559068Z",
     "iopub.status.idle": "2023-12-15T18:15:11.575605Z",
     "shell.execute_reply": "2023-12-15T18:15:11.574616Z"
    },
    "papermill": {
     "duration": 0.084842,
     "end_time": "2023-12-15T18:15:11.578036",
     "exception": false,
     "start_time": "2023-12-15T18:15:11.493194",
     "status": "completed"
    },
    "tags": []
   },
   "outputs": [
    {
     "data": {
      "text/html": [
       "<div>\n",
       "<style scoped>\n",
       "    .dataframe tbody tr th:only-of-type {\n",
       "        vertical-align: middle;\n",
       "    }\n",
       "\n",
       "    .dataframe tbody tr th {\n",
       "        vertical-align: top;\n",
       "    }\n",
       "\n",
       "    .dataframe thead th {\n",
       "        text-align: right;\n",
       "    }\n",
       "</style>\n",
       "<table border=\"1\" class=\"dataframe\">\n",
       "  <thead>\n",
       "    <tr style=\"text-align: right;\">\n",
       "      <th></th>\n",
       "      <th>ID</th>\n",
       "      <th>total_amount</th>\n",
       "    </tr>\n",
       "  </thead>\n",
       "  <tbody>\n",
       "    <tr>\n",
       "      <th>0</th>\n",
       "      <td>1</td>\n",
       "      <td>24.456348</td>\n",
       "    </tr>\n",
       "    <tr>\n",
       "      <th>1</th>\n",
       "      <td>2</td>\n",
       "      <td>24.374058</td>\n",
       "    </tr>\n",
       "    <tr>\n",
       "      <th>2</th>\n",
       "      <td>3</td>\n",
       "      <td>19.878154</td>\n",
       "    </tr>\n",
       "    <tr>\n",
       "      <th>3</th>\n",
       "      <td>4</td>\n",
       "      <td>25.015569</td>\n",
       "    </tr>\n",
       "    <tr>\n",
       "      <th>4</th>\n",
       "      <td>5</td>\n",
       "      <td>22.252489</td>\n",
       "    </tr>\n",
       "  </tbody>\n",
       "</table>\n",
       "</div>"
      ],
      "text/plain": [
       "   ID  total_amount\n",
       "0   1     24.456348\n",
       "1   2     24.374058\n",
       "2   3     19.878154\n",
       "3   4     25.015569\n",
       "4   5     22.252489"
      ]
     },
     "execution_count": 121,
     "metadata": {},
     "output_type": "execute_result"
    }
   ],
   "source": [
    "submission = pd.read_csv('/kaggle/input/taxi-fare-guru-total-amount-prediction-challenge/sample.csv.csv')\n",
    "submission.head()"
   ]
  },
  {
   "cell_type": "code",
   "execution_count": 122,
   "id": "7eed2a91",
   "metadata": {
    "execution": {
     "iopub.execute_input": "2023-12-15T18:15:11.710773Z",
     "iopub.status.busy": "2023-12-15T18:15:11.709737Z",
     "iopub.status.idle": "2023-12-15T18:15:11.942536Z",
     "shell.execute_reply": "2023-12-15T18:15:11.941428Z"
    },
    "papermill": {
     "duration": 0.301565,
     "end_time": "2023-12-15T18:15:11.945330",
     "exception": false,
     "start_time": "2023-12-15T18:15:11.643765",
     "status": "completed"
    },
    "tags": []
   },
   "outputs": [],
   "source": [
    "submission1 = pd.DataFrame(columns = [\"ID\" , \"total_amount\"])\n",
    "submission1[\"ID\"] = [i for i in range(1,len(y_test_hat)+1)]\n",
    "submission1[\"total_amount\"] = y_test_hat\n",
    "submission1.to_csv(\"submission.csv\", index = False)\n"
   ]
  },
  {
   "cell_type": "code",
   "execution_count": 123,
   "id": "8e59d041",
   "metadata": {
    "execution": {
     "iopub.execute_input": "2023-12-15T18:15:12.076237Z",
     "iopub.status.busy": "2023-12-15T18:15:12.075802Z",
     "iopub.status.idle": "2023-12-15T18:15:12.089192Z",
     "shell.execute_reply": "2023-12-15T18:15:12.088010Z"
    },
    "papermill": {
     "duration": 0.081674,
     "end_time": "2023-12-15T18:15:12.091463",
     "exception": false,
     "start_time": "2023-12-15T18:15:12.009789",
     "status": "completed"
    },
    "tags": []
   },
   "outputs": [
    {
     "data": {
      "text/html": [
       "<div>\n",
       "<style scoped>\n",
       "    .dataframe tbody tr th:only-of-type {\n",
       "        vertical-align: middle;\n",
       "    }\n",
       "\n",
       "    .dataframe tbody tr th {\n",
       "        vertical-align: top;\n",
       "    }\n",
       "\n",
       "    .dataframe thead th {\n",
       "        text-align: right;\n",
       "    }\n",
       "</style>\n",
       "<table border=\"1\" class=\"dataframe\">\n",
       "  <thead>\n",
       "    <tr style=\"text-align: right;\">\n",
       "      <th></th>\n",
       "      <th>ID</th>\n",
       "      <th>total_amount</th>\n",
       "    </tr>\n",
       "  </thead>\n",
       "  <tbody>\n",
       "    <tr>\n",
       "      <th>0</th>\n",
       "      <td>1</td>\n",
       "      <td>34.401711</td>\n",
       "    </tr>\n",
       "    <tr>\n",
       "      <th>1</th>\n",
       "      <td>2</td>\n",
       "      <td>24.346893</td>\n",
       "    </tr>\n",
       "    <tr>\n",
       "      <th>2</th>\n",
       "      <td>3</td>\n",
       "      <td>15.603233</td>\n",
       "    </tr>\n",
       "    <tr>\n",
       "      <th>3</th>\n",
       "      <td>4</td>\n",
       "      <td>15.163310</td>\n",
       "    </tr>\n",
       "    <tr>\n",
       "      <th>4</th>\n",
       "      <td>5</td>\n",
       "      <td>26.109003</td>\n",
       "    </tr>\n",
       "    <tr>\n",
       "      <th>...</th>\n",
       "      <td>...</td>\n",
       "      <td>...</td>\n",
       "    </tr>\n",
       "    <tr>\n",
       "      <th>49995</th>\n",
       "      <td>49996</td>\n",
       "      <td>16.641815</td>\n",
       "    </tr>\n",
       "    <tr>\n",
       "      <th>49996</th>\n",
       "      <td>49997</td>\n",
       "      <td>27.328081</td>\n",
       "    </tr>\n",
       "    <tr>\n",
       "      <th>49997</th>\n",
       "      <td>49998</td>\n",
       "      <td>20.823648</td>\n",
       "    </tr>\n",
       "    <tr>\n",
       "      <th>49998</th>\n",
       "      <td>49999</td>\n",
       "      <td>35.147724</td>\n",
       "    </tr>\n",
       "    <tr>\n",
       "      <th>49999</th>\n",
       "      <td>50000</td>\n",
       "      <td>17.063898</td>\n",
       "    </tr>\n",
       "  </tbody>\n",
       "</table>\n",
       "<p>50000 rows × 2 columns</p>\n",
       "</div>"
      ],
      "text/plain": [
       "          ID  total_amount\n",
       "0          1     34.401711\n",
       "1          2     24.346893\n",
       "2          3     15.603233\n",
       "3          4     15.163310\n",
       "4          5     26.109003\n",
       "...      ...           ...\n",
       "49995  49996     16.641815\n",
       "49996  49997     27.328081\n",
       "49997  49998     20.823648\n",
       "49998  49999     35.147724\n",
       "49999  50000     17.063898\n",
       "\n",
       "[50000 rows x 2 columns]"
      ]
     },
     "execution_count": 123,
     "metadata": {},
     "output_type": "execute_result"
    }
   ],
   "source": [
    "submission1"
   ]
  }
 ],
 "metadata": {
  "kaggle": {
   "accelerator": "none",
   "dataSources": [
    {
     "databundleVersionId": 6604167,
     "sourceId": 61246,
     "sourceType": "competition"
    }
   ],
   "dockerImageVersionId": 30558,
   "isGpuEnabled": false,
   "isInternetEnabled": true,
   "language": "python",
   "sourceType": "notebook"
  },
  "kernelspec": {
   "display_name": "Python 3",
   "language": "python",
   "name": "python3"
  },
  "language_info": {
   "codemirror_mode": {
    "name": "ipython",
    "version": 3
   },
   "file_extension": ".py",
   "mimetype": "text/x-python",
   "name": "python",
   "nbconvert_exporter": "python",
   "pygments_lexer": "ipython3",
   "version": "3.10.12"
  },
  "papermill": {
   "default_parameters": {},
   "duration": 1417.45788,
   "end_time": "2023-12-15T18:15:14.781457",
   "environment_variables": {},
   "exception": null,
   "input_path": "__notebook__.ipynb",
   "output_path": "__notebook__.ipynb",
   "parameters": {},
   "start_time": "2023-12-15T17:51:37.323577",
   "version": "2.4.0"
  }
 },
 "nbformat": 4,
 "nbformat_minor": 5
}
